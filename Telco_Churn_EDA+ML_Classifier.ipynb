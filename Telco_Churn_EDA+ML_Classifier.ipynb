{
  "nbformat": 4,
  "nbformat_minor": 0,
  "metadata": {
    "colab": {
      "provenance": [],
      "authorship_tag": "ABX9TyPR6zifdWiuCymkAM48N+YD",
      "include_colab_link": true
    },
    "kernelspec": {
      "name": "python3",
      "display_name": "Python 3"
    },
    "language_info": {
      "name": "python"
    }
  },
  "cells": [
    {
      "cell_type": "markdown",
      "metadata": {
        "id": "view-in-github",
        "colab_type": "text"
      },
      "source": [
        "<a href=\"https://colab.research.google.com/github/soaresbru/bootcamp-Unimed-Data-science/blob/main/Telco_Churn_EDA%2BML_Classifier.ipynb\" target=\"_parent\"><img src=\"https://colab.research.google.com/assets/colab-badge.svg\" alt=\"Open In Colab\"/></a>"
      ]
    },
    {
      "cell_type": "code",
      "execution_count": null,
      "metadata": {
        "id": "rxeLn40zJnnH"
      },
      "outputs": [],
      "source": [
        "# primeiro importar as bibliotecas padrão\n",
        "import numpy as np\n",
        "import pandas as pd\n",
        "import seaborn as sns\n",
        "import matplotlib.pyplot as plt"
      ]
    },
    {
      "cell_type": "markdown",
      "source": [
        "A base de dados pode ser encontrada em:\n",
        "https://www.kaggle.com/datasets/blastchar/telco-customer-churn"
      ],
      "metadata": {
        "id": "u2OCpG1wAlTw"
      }
    },
    {
      "cell_type": "code",
      "source": [
        "# Importando os arquivos\n",
        "customers = pd.read_csv(\"/content/Telco-Customer-Churn.csv\",delimiter=',' , decimal='.')"
      ],
      "metadata": {
        "id": "m-Am7HDNN48p"
      },
      "execution_count": null,
      "outputs": []
    },
    {
      "cell_type": "code",
      "source": [
        "# vendo as primeiras linhas do arquivo\n",
        "customers.head()"
      ],
      "metadata": {
        "colab": {
          "base_uri": "https://localhost:8080/",
          "height": 386
        },
        "id": "P_MqLo6nOH2I",
        "outputId": "80180011-18e7-478c-b30a-33f900804b10"
      },
      "execution_count": null,
      "outputs": [
        {
          "output_type": "execute_result",
          "data": {
            "text/plain": [
              "   customerID  gender  SeniorCitizen Partner Dependents  tenure PhoneService  \\\n",
              "0  7590-VHVEG  Female              0     Yes         No       1           No   \n",
              "1  5575-GNVDE    Male              0      No         No      34          Yes   \n",
              "2  3668-QPYBK    Male              0      No         No       2          Yes   \n",
              "3  7795-CFOCW    Male              0      No         No      45           No   \n",
              "4  9237-HQITU  Female              0      No         No       2          Yes   \n",
              "\n",
              "      MultipleLines InternetService OnlineSecurity  ... DeviceProtection  \\\n",
              "0  No phone service             DSL             No  ...               No   \n",
              "1                No             DSL            Yes  ...              Yes   \n",
              "2                No             DSL            Yes  ...               No   \n",
              "3  No phone service             DSL            Yes  ...              Yes   \n",
              "4                No     Fiber optic             No  ...               No   \n",
              "\n",
              "  TechSupport StreamingTV StreamingMovies        Contract PaperlessBilling  \\\n",
              "0          No          No              No  Month-to-month              Yes   \n",
              "1          No          No              No        One year               No   \n",
              "2          No          No              No  Month-to-month              Yes   \n",
              "3         Yes          No              No        One year               No   \n",
              "4          No          No              No  Month-to-month              Yes   \n",
              "\n",
              "               PaymentMethod MonthlyCharges  TotalCharges Churn  \n",
              "0           Electronic check          29.85         29.85    No  \n",
              "1               Mailed check          56.95        1889.5    No  \n",
              "2               Mailed check          53.85        108.15   Yes  \n",
              "3  Bank transfer (automatic)          42.30       1840.75    No  \n",
              "4           Electronic check          70.70        151.65   Yes  \n",
              "\n",
              "[5 rows x 21 columns]"
            ],
            "text/html": [
              "\n",
              "  <div id=\"df-572c8717-6a08-4d23-bf55-956ca81480ce\">\n",
              "    <div class=\"colab-df-container\">\n",
              "      <div>\n",
              "<style scoped>\n",
              "    .dataframe tbody tr th:only-of-type {\n",
              "        vertical-align: middle;\n",
              "    }\n",
              "\n",
              "    .dataframe tbody tr th {\n",
              "        vertical-align: top;\n",
              "    }\n",
              "\n",
              "    .dataframe thead th {\n",
              "        text-align: right;\n",
              "    }\n",
              "</style>\n",
              "<table border=\"1\" class=\"dataframe\">\n",
              "  <thead>\n",
              "    <tr style=\"text-align: right;\">\n",
              "      <th></th>\n",
              "      <th>customerID</th>\n",
              "      <th>gender</th>\n",
              "      <th>SeniorCitizen</th>\n",
              "      <th>Partner</th>\n",
              "      <th>Dependents</th>\n",
              "      <th>tenure</th>\n",
              "      <th>PhoneService</th>\n",
              "      <th>MultipleLines</th>\n",
              "      <th>InternetService</th>\n",
              "      <th>OnlineSecurity</th>\n",
              "      <th>...</th>\n",
              "      <th>DeviceProtection</th>\n",
              "      <th>TechSupport</th>\n",
              "      <th>StreamingTV</th>\n",
              "      <th>StreamingMovies</th>\n",
              "      <th>Contract</th>\n",
              "      <th>PaperlessBilling</th>\n",
              "      <th>PaymentMethod</th>\n",
              "      <th>MonthlyCharges</th>\n",
              "      <th>TotalCharges</th>\n",
              "      <th>Churn</th>\n",
              "    </tr>\n",
              "  </thead>\n",
              "  <tbody>\n",
              "    <tr>\n",
              "      <th>0</th>\n",
              "      <td>7590-VHVEG</td>\n",
              "      <td>Female</td>\n",
              "      <td>0</td>\n",
              "      <td>Yes</td>\n",
              "      <td>No</td>\n",
              "      <td>1</td>\n",
              "      <td>No</td>\n",
              "      <td>No phone service</td>\n",
              "      <td>DSL</td>\n",
              "      <td>No</td>\n",
              "      <td>...</td>\n",
              "      <td>No</td>\n",
              "      <td>No</td>\n",
              "      <td>No</td>\n",
              "      <td>No</td>\n",
              "      <td>Month-to-month</td>\n",
              "      <td>Yes</td>\n",
              "      <td>Electronic check</td>\n",
              "      <td>29.85</td>\n",
              "      <td>29.85</td>\n",
              "      <td>No</td>\n",
              "    </tr>\n",
              "    <tr>\n",
              "      <th>1</th>\n",
              "      <td>5575-GNVDE</td>\n",
              "      <td>Male</td>\n",
              "      <td>0</td>\n",
              "      <td>No</td>\n",
              "      <td>No</td>\n",
              "      <td>34</td>\n",
              "      <td>Yes</td>\n",
              "      <td>No</td>\n",
              "      <td>DSL</td>\n",
              "      <td>Yes</td>\n",
              "      <td>...</td>\n",
              "      <td>Yes</td>\n",
              "      <td>No</td>\n",
              "      <td>No</td>\n",
              "      <td>No</td>\n",
              "      <td>One year</td>\n",
              "      <td>No</td>\n",
              "      <td>Mailed check</td>\n",
              "      <td>56.95</td>\n",
              "      <td>1889.5</td>\n",
              "      <td>No</td>\n",
              "    </tr>\n",
              "    <tr>\n",
              "      <th>2</th>\n",
              "      <td>3668-QPYBK</td>\n",
              "      <td>Male</td>\n",
              "      <td>0</td>\n",
              "      <td>No</td>\n",
              "      <td>No</td>\n",
              "      <td>2</td>\n",
              "      <td>Yes</td>\n",
              "      <td>No</td>\n",
              "      <td>DSL</td>\n",
              "      <td>Yes</td>\n",
              "      <td>...</td>\n",
              "      <td>No</td>\n",
              "      <td>No</td>\n",
              "      <td>No</td>\n",
              "      <td>No</td>\n",
              "      <td>Month-to-month</td>\n",
              "      <td>Yes</td>\n",
              "      <td>Mailed check</td>\n",
              "      <td>53.85</td>\n",
              "      <td>108.15</td>\n",
              "      <td>Yes</td>\n",
              "    </tr>\n",
              "    <tr>\n",
              "      <th>3</th>\n",
              "      <td>7795-CFOCW</td>\n",
              "      <td>Male</td>\n",
              "      <td>0</td>\n",
              "      <td>No</td>\n",
              "      <td>No</td>\n",
              "      <td>45</td>\n",
              "      <td>No</td>\n",
              "      <td>No phone service</td>\n",
              "      <td>DSL</td>\n",
              "      <td>Yes</td>\n",
              "      <td>...</td>\n",
              "      <td>Yes</td>\n",
              "      <td>Yes</td>\n",
              "      <td>No</td>\n",
              "      <td>No</td>\n",
              "      <td>One year</td>\n",
              "      <td>No</td>\n",
              "      <td>Bank transfer (automatic)</td>\n",
              "      <td>42.30</td>\n",
              "      <td>1840.75</td>\n",
              "      <td>No</td>\n",
              "    </tr>\n",
              "    <tr>\n",
              "      <th>4</th>\n",
              "      <td>9237-HQITU</td>\n",
              "      <td>Female</td>\n",
              "      <td>0</td>\n",
              "      <td>No</td>\n",
              "      <td>No</td>\n",
              "      <td>2</td>\n",
              "      <td>Yes</td>\n",
              "      <td>No</td>\n",
              "      <td>Fiber optic</td>\n",
              "      <td>No</td>\n",
              "      <td>...</td>\n",
              "      <td>No</td>\n",
              "      <td>No</td>\n",
              "      <td>No</td>\n",
              "      <td>No</td>\n",
              "      <td>Month-to-month</td>\n",
              "      <td>Yes</td>\n",
              "      <td>Electronic check</td>\n",
              "      <td>70.70</td>\n",
              "      <td>151.65</td>\n",
              "      <td>Yes</td>\n",
              "    </tr>\n",
              "  </tbody>\n",
              "</table>\n",
              "<p>5 rows × 21 columns</p>\n",
              "</div>\n",
              "      <button class=\"colab-df-convert\" onclick=\"convertToInteractive('df-572c8717-6a08-4d23-bf55-956ca81480ce')\"\n",
              "              title=\"Convert this dataframe to an interactive table.\"\n",
              "              style=\"display:none;\">\n",
              "        \n",
              "  <svg xmlns=\"http://www.w3.org/2000/svg\" height=\"24px\"viewBox=\"0 0 24 24\"\n",
              "       width=\"24px\">\n",
              "    <path d=\"M0 0h24v24H0V0z\" fill=\"none\"/>\n",
              "    <path d=\"M18.56 5.44l.94 2.06.94-2.06 2.06-.94-2.06-.94-.94-2.06-.94 2.06-2.06.94zm-11 1L8.5 8.5l.94-2.06 2.06-.94-2.06-.94L8.5 2.5l-.94 2.06-2.06.94zm10 10l.94 2.06.94-2.06 2.06-.94-2.06-.94-.94-2.06-.94 2.06-2.06.94z\"/><path d=\"M17.41 7.96l-1.37-1.37c-.4-.4-.92-.59-1.43-.59-.52 0-1.04.2-1.43.59L10.3 9.45l-7.72 7.72c-.78.78-.78 2.05 0 2.83L4 21.41c.39.39.9.59 1.41.59.51 0 1.02-.2 1.41-.59l7.78-7.78 2.81-2.81c.8-.78.8-2.07 0-2.86zM5.41 20L4 18.59l7.72-7.72 1.47 1.35L5.41 20z\"/>\n",
              "  </svg>\n",
              "      </button>\n",
              "      \n",
              "  <style>\n",
              "    .colab-df-container {\n",
              "      display:flex;\n",
              "      flex-wrap:wrap;\n",
              "      gap: 12px;\n",
              "    }\n",
              "\n",
              "    .colab-df-convert {\n",
              "      background-color: #E8F0FE;\n",
              "      border: none;\n",
              "      border-radius: 50%;\n",
              "      cursor: pointer;\n",
              "      display: none;\n",
              "      fill: #1967D2;\n",
              "      height: 32px;\n",
              "      padding: 0 0 0 0;\n",
              "      width: 32px;\n",
              "    }\n",
              "\n",
              "    .colab-df-convert:hover {\n",
              "      background-color: #E2EBFA;\n",
              "      box-shadow: 0px 1px 2px rgba(60, 64, 67, 0.3), 0px 1px 3px 1px rgba(60, 64, 67, 0.15);\n",
              "      fill: #174EA6;\n",
              "    }\n",
              "\n",
              "    [theme=dark] .colab-df-convert {\n",
              "      background-color: #3B4455;\n",
              "      fill: #D2E3FC;\n",
              "    }\n",
              "\n",
              "    [theme=dark] .colab-df-convert:hover {\n",
              "      background-color: #434B5C;\n",
              "      box-shadow: 0px 1px 3px 1px rgba(0, 0, 0, 0.15);\n",
              "      filter: drop-shadow(0px 1px 2px rgba(0, 0, 0, 0.3));\n",
              "      fill: #FFFFFF;\n",
              "    }\n",
              "  </style>\n",
              "\n",
              "      <script>\n",
              "        const buttonEl =\n",
              "          document.querySelector('#df-572c8717-6a08-4d23-bf55-956ca81480ce button.colab-df-convert');\n",
              "        buttonEl.style.display =\n",
              "          google.colab.kernel.accessAllowed ? 'block' : 'none';\n",
              "\n",
              "        async function convertToInteractive(key) {\n",
              "          const element = document.querySelector('#df-572c8717-6a08-4d23-bf55-956ca81480ce');\n",
              "          const dataTable =\n",
              "            await google.colab.kernel.invokeFunction('convertToInteractive',\n",
              "                                                     [key], {});\n",
              "          if (!dataTable) return;\n",
              "\n",
              "          const docLinkHtml = 'Like what you see? Visit the ' +\n",
              "            '<a target=\"_blank\" href=https://colab.research.google.com/notebooks/data_table.ipynb>data table notebook</a>'\n",
              "            + ' to learn more about interactive tables.';\n",
              "          element.innerHTML = '';\n",
              "          dataTable['output_type'] = 'display_data';\n",
              "          await google.colab.output.renderOutput(dataTable, element);\n",
              "          const docLink = document.createElement('div');\n",
              "          docLink.innerHTML = docLinkHtml;\n",
              "          element.appendChild(docLink);\n",
              "        }\n",
              "      </script>\n",
              "    </div>\n",
              "  </div>\n",
              "  "
            ]
          },
          "metadata": {},
          "execution_count": 252
        }
      ]
    },
    {
      "cell_type": "code",
      "source": [
        "# olhando informações das colunas e o tipo\n",
        "customers.info()"
      ],
      "metadata": {
        "colab": {
          "base_uri": "https://localhost:8080/"
        },
        "id": "XL8J9b-nOU1v",
        "outputId": "3c1969eb-9dd8-4fda-b74d-2806fe09ecd8"
      },
      "execution_count": null,
      "outputs": [
        {
          "output_type": "stream",
          "name": "stdout",
          "text": [
            "<class 'pandas.core.frame.DataFrame'>\n",
            "RangeIndex: 7043 entries, 0 to 7042\n",
            "Data columns (total 21 columns):\n",
            " #   Column            Non-Null Count  Dtype  \n",
            "---  ------            --------------  -----  \n",
            " 0   customerID        7043 non-null   object \n",
            " 1   gender            7043 non-null   object \n",
            " 2   SeniorCitizen     7043 non-null   int64  \n",
            " 3   Partner           7043 non-null   object \n",
            " 4   Dependents        7043 non-null   object \n",
            " 5   tenure            7043 non-null   int64  \n",
            " 6   PhoneService      7043 non-null   object \n",
            " 7   MultipleLines     7043 non-null   object \n",
            " 8   InternetService   7043 non-null   object \n",
            " 9   OnlineSecurity    7043 non-null   object \n",
            " 10  OnlineBackup      7043 non-null   object \n",
            " 11  DeviceProtection  7043 non-null   object \n",
            " 12  TechSupport       7043 non-null   object \n",
            " 13  StreamingTV       7043 non-null   object \n",
            " 14  StreamingMovies   7043 non-null   object \n",
            " 15  Contract          7043 non-null   object \n",
            " 16  PaperlessBilling  7043 non-null   object \n",
            " 17  PaymentMethod     7043 non-null   object \n",
            " 18  MonthlyCharges    7043 non-null   float64\n",
            " 19  TotalCharges      7043 non-null   object \n",
            " 20  Churn             7043 non-null   object \n",
            "dtypes: float64(1), int64(2), object(18)\n",
            "memory usage: 1.1+ MB\n"
          ]
        }
      ]
    },
    {
      "cell_type": "code",
      "source": [
        "# Soma de clientes churne e não churn\n",
        "customers['Churn'].value_counts().sort_values(ascending=False)"
      ],
      "metadata": {
        "colab": {
          "base_uri": "https://localhost:8080/"
        },
        "id": "5M8efAelPJLv",
        "outputId": "e1a56052-4442-4fed-bf63-15b04ce7bc9c"
      },
      "execution_count": null,
      "outputs": [
        {
          "output_type": "execute_result",
          "data": {
            "text/plain": [
              "No     5174\n",
              "Yes    1869\n",
              "Name: Churn, dtype: int64"
            ]
          },
          "metadata": {},
          "execution_count": 13
        }
      ]
    },
    {
      "cell_type": "code",
      "source": [
        "# Tipo de pagamentos dos clientes\n",
        "customers['PaymentMethod'].value_counts().sort_values(ascending=False)"
      ],
      "metadata": {
        "colab": {
          "base_uri": "https://localhost:8080/"
        },
        "id": "5KRk0iEgPu_O",
        "outputId": "b45f1598-4907-4315-d7a7-111e272de16d"
      },
      "execution_count": null,
      "outputs": [
        {
          "output_type": "execute_result",
          "data": {
            "text/plain": [
              "Electronic check             2365\n",
              "Mailed check                 1612\n",
              "Bank transfer (automatic)    1544\n",
              "Credit card (automatic)      1522\n",
              "Name: PaymentMethod, dtype: int64"
            ]
          },
          "metadata": {},
          "execution_count": 14
        }
      ]
    },
    {
      "cell_type": "code",
      "source": [
        "# plotando gráfico com a quantidade de churn ou não churn para cada tipo de pagamento\n",
        "plt.subplots(figsize=(15,8))\n",
        "sns.histplot(data = customers, x = customers['PaymentMethod'], hue = 'Churn')\n",
        "plt.show()\n",
        "# Vemos o que parece ser de pessoas que pagam por Eletronic Check tem uma tendênica maior de sairam da Empresa"
      ],
      "metadata": {
        "colab": {
          "base_uri": "https://localhost:8080/",
          "height": 497
        },
        "id": "gpyITBroQAq-",
        "outputId": "b6fbf1bb-e3b6-4ba6-c327-6990d6d5d351"
      },
      "execution_count": null,
      "outputs": [
        {
          "output_type": "display_data",
          "data": {
            "text/plain": [
              "<Figure size 1080x576 with 1 Axes>"
            ],
            "image/png": "[encoded data removed]"
          },
          "metadata": {
            "needs_background": "light"
          }
        }
      ]
    },
    {
      "cell_type": "code",
      "source": [
        "# Quantidade de clientes em cada tipo de contrato\n",
        "customers['Contract'].value_counts().sort_values(ascending=False)"
      ],
      "metadata": {
        "colab": {
          "base_uri": "https://localhost:8080/"
        },
        "id": "BLNCw51aQDiF",
        "outputId": "72cabe9b-b125-4a17-a49a-947a64068bae"
      },
      "execution_count": null,
      "outputs": [
        {
          "output_type": "execute_result",
          "data": {
            "text/plain": [
              "Month-to-month    3875\n",
              "Two year          1695\n",
              "One year          1473\n",
              "Name: Contract, dtype: int64"
            ]
          },
          "metadata": {},
          "execution_count": 16
        }
      ]
    },
    {
      "cell_type": "code",
      "source": [
        "# plotando gráfico com a quantidade de churn ou não churn para cada tipo de tempo de contrato\n",
        "plt.subplots(figsize=(15,8))\n",
        "sns.histplot(data = customers, x = customers['Contract'], hue = 'Churn')\n",
        "plt.show()\n",
        "# Como esperado, contratos de mês a mês possuem um numero maior de churn"
      ],
      "metadata": {
        "colab": {
          "base_uri": "https://localhost:8080/",
          "height": 497
        },
        "id": "-bUkTP7iQTXZ",
        "outputId": "cf62b0ac-fe3d-4689-d39a-52bb24cb0a93"
      },
      "execution_count": null,
      "outputs": [
        {
          "output_type": "display_data",
          "data": {
            "text/plain": [
              "<Figure size 1080x576 with 1 Axes>"
            ],
            "image/png": "[encoded data removed]"
          },
          "metadata": {
            "needs_background": "light"
          }
        }
      ]
    },
    {
      "cell_type": "code",
      "source": [
        "# Quantidade de clientes do sexo masculino e feminino\n",
        "customers['gender'].value_counts().sort_values(ascending=False)"
      ],
      "metadata": {
        "colab": {
          "base_uri": "https://localhost:8080/"
        },
        "id": "RWEDuKbcQnmg",
        "outputId": "fee1765d-d9d9-4c59-c7ae-2bebfc92ce21"
      },
      "execution_count": null,
      "outputs": [
        {
          "output_type": "execute_result",
          "data": {
            "text/plain": [
              "Male      3555\n",
              "Female    3488\n",
              "Name: gender, dtype: int64"
            ]
          },
          "metadata": {},
          "execution_count": 19
        }
      ]
    },
    {
      "cell_type": "code",
      "source": [
        "# # plotando gráfico com a quantidade de churn ou não churn para cada tipo de gênero\n",
        "plt.subplots(figsize=(15,8))\n",
        "sns.histplot(data = customers, x = customers['gender'], hue = 'Churn')\n",
        "plt.show()\n",
        "# A diferença de Churn entre homem e mulher praticamente não existe"
      ],
      "metadata": {
        "colab": {
          "base_uri": "https://localhost:8080/",
          "height": 497
        },
        "id": "SRZlBojBQ1hc",
        "outputId": "5b3b950e-a04c-4673-82fb-e6cbfbee2a6f"
      },
      "execution_count": null,
      "outputs": [
        {
          "output_type": "display_data",
          "data": {
            "text/plain": [
              "<Figure size 1080x576 with 1 Axes>"
            ],
            "image/png": "[encoded data removed]"
          },
          "metadata": {
            "needs_background": "light"
          }
        }
      ]
    },
    {
      "cell_type": "code",
      "source": [
        "# plotando gráfico com a quantidade de churn ou não churn para as contas que possuem ou não idosos\n",
        "plt.subplots(figsize=(15,8))\n",
        "sns.histplot(data = customers, x = customers['SeniorCitizen'], hue = 'Churn')\n",
        "plt.show()\n",
        "#Vemos que muitos idosos cancelam e os dados estão bem desbalanceados"
      ],
      "metadata": {
        "colab": {
          "base_uri": "https://localhost:8080/",
          "height": 497
        },
        "id": "qMaF401zRBTu",
        "outputId": "11b39c97-275e-4443-98ca-38cb05d3e7be"
      },
      "execution_count": null,
      "outputs": [
        {
          "output_type": "display_data",
          "data": {
            "text/plain": [
              "<Figure size 1080x576 with 1 Axes>"
            ],
            "image/png": "[encoded data removed]"
          },
          "metadata": {
            "needs_background": "light"
          }
        }
      ]
    },
    {
      "cell_type": "code",
      "source": [
        "# plotando gráfico com a quantidade de churn ou não churn para pessoas que possuem ou não um parceiro\n",
        "plt.subplots(figsize=(15,8))\n",
        "sns.histplot(data = customers, x = customers['Partner'], hue = 'Churn')\n",
        "plt.show()\n",
        "# Pessoas sem parceiro tem uma tendênica maior de dar churn"
      ],
      "metadata": {
        "colab": {
          "base_uri": "https://localhost:8080/",
          "height": 497
        },
        "id": "YF00gplVRHzp",
        "outputId": "493c7591-7746-4ec7-fcb8-0d5de541b5f5"
      },
      "execution_count": null,
      "outputs": [
        {
          "output_type": "display_data",
          "data": {
            "text/plain": [
              "<Figure size 1080x576 with 1 Axes>"
            ],
            "image/png": "[encoded data removed]"
          },
          "metadata": {
            "needs_background": "light"
          }
        }
      ]
    },
    {
      "cell_type": "code",
      "source": [
        "# plotando gráfico com a quantidade de churn ou não churn para quem possui ou não possui dependentes\n",
        "plt.subplots(figsize=(15,8))\n",
        "sns.histplot(data = customers, x = customers['Dependents'], hue = 'Churn')\n",
        "plt.show()"
      ],
      "metadata": {
        "colab": {
          "base_uri": "https://localhost:8080/",
          "height": 497
        },
        "id": "FnQaXFecSAC2",
        "outputId": "192d5b54-453a-4eb0-8011-48316be4c3b1"
      },
      "execution_count": null,
      "outputs": [
        {
          "output_type": "display_data",
          "data": {
            "text/plain": [
              "<Figure size 1080x576 with 1 Axes>"
            ],
            "image/png": "[encoded data removed]"
          },
          "metadata": {
            "needs_background": "light"
          }
        }
      ]
    },
    {
      "cell_type": "code",
      "source": [
        "# plotando gráfico com a quantidade de churn ou não churn para quem possui ou não o serviço de telefone\n",
        "plt.subplots(figsize=(15,8))\n",
        "sns.histplot(data = customers, x = customers['PhoneService'], hue = 'Churn')\n",
        "plt.show()\n",
        "# a maioria dos clientes usa serviço de telefone\n",
        "# Os dados estão desbaleceados e a proporção de churn é bem parecida, pode ser bom retirar essa feature"
      ],
      "metadata": {
        "colab": {
          "base_uri": "https://localhost:8080/",
          "height": 497
        },
        "id": "kV2SOEWeSErL",
        "outputId": "8ead98d5-64b3-4031-abdd-8d1f3f8419da"
      },
      "execution_count": null,
      "outputs": [
        {
          "output_type": "display_data",
          "data": {
            "text/plain": [
              "<Figure size 1080x576 with 1 Axes>"
            ],
            "image/png": "[encoded data removed]"
          },
          "metadata": {
            "needs_background": "light"
          }
        }
      ]
    },
    {
      "cell_type": "code",
      "source": [
        "# plotando gráfico com a quantidade de churn ou não churn para quem possui ou não o serviço de multiplas linhas\n",
        "plt.subplots(figsize=(15,8))\n",
        "sns.histplot(data = customers, x = customers['MultipleLines'], hue = 'Churn')\n",
        "plt.show()"
      ],
      "metadata": {
        "colab": {
          "base_uri": "https://localhost:8080/",
          "height": 497
        },
        "id": "RaqH3StfSMXB",
        "outputId": "1b832d3f-fc9b-4588-8a87-b93c8d4e7647"
      },
      "execution_count": null,
      "outputs": [
        {
          "output_type": "display_data",
          "data": {
            "text/plain": [
              "<Figure size 1080x576 with 1 Axes>"
            ],
            "image/png": "[encoded data removed]"
          },
          "metadata": {
            "needs_background": "light"
          }
        }
      ]
    },
    {
      "cell_type": "code",
      "source": [
        "# plotando gráfico com a quantidade de churn ou não churn para cada tipo de serviço de internet\n",
        "plt.subplots(figsize=(15,8))\n",
        "sns.histplot(data = customers, x = customers['InternetService'], hue = 'Churn')\n",
        "plt.show()\n",
        "# Muito churn vindo do serviço de internet"
      ],
      "metadata": {
        "colab": {
          "base_uri": "https://localhost:8080/",
          "height": 497
        },
        "id": "5EKqr-4VScYl",
        "outputId": "6ddb9883-8b4b-474c-9869-5e28a62df8a9"
      },
      "execution_count": null,
      "outputs": [
        {
          "output_type": "display_data",
          "data": {
            "text/plain": [
              "<Figure size 1080x576 with 1 Axes>"
            ],
            "image/png": "[encoded data removed]"
          },
          "metadata": {
            "needs_background": "light"
          }
        }
      ]
    },
    {
      "cell_type": "code",
      "source": [
        "# plotando gráfico com a quantidade de churn ou não churn para cada tipo de segurança online\n",
        "plt.subplots(figsize=(15,8))\n",
        "sns.histplot(data = customers, x = customers['OnlineSecurity'], hue = 'Churn')\n",
        "plt.show()"
      ],
      "metadata": {
        "colab": {
          "base_uri": "https://localhost:8080/",
          "height": 497
        },
        "id": "PUOxEzMPSjNP",
        "outputId": "68aca2e5-bbe9-47ef-e1d4-1c7672a4799a"
      },
      "execution_count": null,
      "outputs": [
        {
          "output_type": "display_data",
          "data": {
            "text/plain": [
              "<Figure size 1080x576 with 1 Axes>"
            ],
            "image/png": "[encoded data removed]"
          },
          "metadata": {
            "needs_background": "light"
          }
        }
      ]
    },
    {
      "cell_type": "code",
      "source": [
        "# plotando gráfico com a quantidade de churn ou não churn para cada tipo de backup online\n",
        "plt.subplots(figsize=(15,8))\n",
        "sns.histplot(data = customers, x = customers['OnlineBackup'], hue = 'Churn')\n",
        "plt.show()"
      ],
      "metadata": {
        "colab": {
          "base_uri": "https://localhost:8080/",
          "height": 500
        },
        "id": "weIY8Qa6SnbK",
        "outputId": "8f758293-b2ce-4004-de0e-4fab1aefe5eb"
      },
      "execution_count": null,
      "outputs": [
        {
          "output_type": "display_data",
          "data": {
            "text/plain": [
              "<Figure size 1080x576 with 1 Axes>"
            ],
            "image/png": "[encoded data removed]"
          },
          "metadata": {
            "needs_background": "light"
          }
        }
      ]
    },
    {
      "cell_type": "code",
      "source": [
        "# plotando gráfico com a quantidade de churn ou não churn para cada tipo de proteção do dispositivo\n",
        "plt.subplots(figsize=(15,8))\n",
        "sns.histplot(data = customers, x = customers['DeviceProtection'], hue = 'Churn')\n",
        "plt.show()\n",
        "# Os gráficos de 'OnlineSecurity', Online Backup e device protection são praricamente iguais, provalevemnte seja melhor eliminar algum deles"
      ],
      "metadata": {
        "colab": {
          "base_uri": "https://localhost:8080/",
          "height": 497
        },
        "id": "nBhev_pdSyro",
        "outputId": "e1787aee-f8a5-45e3-bbe7-37e00346a205"
      },
      "execution_count": null,
      "outputs": [
        {
          "output_type": "display_data",
          "data": {
            "text/plain": [
              "<Figure size 1080x576 with 1 Axes>"
            ],
            "image/png": "[encoded data removed]"
          },
          "metadata": {
            "needs_background": "light"
          }
        }
      ]
    },
    {
      "cell_type": "code",
      "source": [
        "# plotando gráfico com a quantidade de churn ou não churn para cada tipo de suporte tecnológico\n",
        "plt.subplots(figsize=(15,8))\n",
        "sns.histplot(data = customers, x = customers['TechSupport'], hue = 'Churn')\n",
        "plt.show()\n",
        "# Esse também é um pouco parecido com os outros três anteriores"
      ],
      "metadata": {
        "colab": {
          "base_uri": "https://localhost:8080/",
          "height": 497
        },
        "id": "yUf00Wo7TKaX",
        "outputId": "fa464efd-e36f-4da3-b63d-de7864f9d33e"
      },
      "execution_count": null,
      "outputs": [
        {
          "output_type": "display_data",
          "data": {
            "text/plain": [
              "<Figure size 1080x576 with 1 Axes>"
            ],
            "image/png": "[encoded data removed]"
          },
          "metadata": {
            "needs_background": "light"
          }
        }
      ]
    },
    {
      "cell_type": "code",
      "source": [
        "# plotando gráfico com a quantidade de churn ou não churn para cada tipo de serviço de streaming de televisão\n",
        "plt.subplots(figsize=(15,8))\n",
        "sns.histplot(data = customers, x = customers['StreamingTV'], hue = 'Churn')\n",
        "plt.show()"
      ],
      "metadata": {
        "colab": {
          "base_uri": "https://localhost:8080/",
          "height": 497
        },
        "id": "r7wfytbtTNwo",
        "outputId": "8b0c8a59-6203-4d2a-b8d9-2bd78d268844"
      },
      "execution_count": null,
      "outputs": [
        {
          "output_type": "display_data",
          "data": {
            "text/plain": [
              "<Figure size 1080x576 with 1 Axes>"
            ],
            "image/png": "[encoded data removed]"
          },
          "metadata": {
            "needs_background": "light"
          }
        }
      ]
    },
    {
      "cell_type": "code",
      "source": [
        "# plotando gráfico com a quantidade de churn ou não churn para cada tipo de serviço de streaming de filmes\n",
        "plt.subplots(figsize=(15,8))\n",
        "sns.histplot(data = customers, x = customers['StreamingMovies'], hue = 'Churn')\n",
        "plt.show()\n",
        "# Muito parecido com o streaming TV"
      ],
      "metadata": {
        "colab": {
          "base_uri": "https://localhost:8080/",
          "height": 499
        },
        "id": "6r50npcBTSID",
        "outputId": "cadf65a0-ebdd-42ba-d2fb-dd7d0adc011f"
      },
      "execution_count": null,
      "outputs": [
        {
          "output_type": "display_data",
          "data": {
            "text/plain": [
              "<Figure size 1080x576 with 1 Axes>"
            ],
            "image/png": "[encoded data removed]"
          },
          "metadata": {
            "needs_background": "light"
          }
        }
      ]
    },
    {
      "cell_type": "code",
      "source": [
        "# plotando gráfico com a quantidade de churn ou não churn para tipo de conta com papel ou sem papel\n",
        "plt.subplots(figsize=(15,8))\n",
        "sns.histplot(data = customers, x = customers['PaperlessBilling'], hue = 'Churn')\n",
        "plt.show()"
      ],
      "metadata": {
        "colab": {
          "base_uri": "https://localhost:8080/",
          "height": 497
        },
        "id": "kpdavIyDTcqd",
        "outputId": "1adc167f-7394-4aea-e85b-21688d9c28e6"
      },
      "execution_count": null,
      "outputs": [
        {
          "output_type": "display_data",
          "data": {
            "text/plain": [
              "<Figure size 1080x576 with 1 Axes>"
            ],
            "image/png": "[encoded data removed]"
          },
          "metadata": {
            "needs_background": "light"
          }
        }
      ]
    },
    {
      "cell_type": "code",
      "source": [
        "# plotando gráfico com a quantidade de churn ou não churn para os meses que está usando o serviço\n",
        "plt.subplots(figsize=(15,8))\n",
        "sns.histplot(data = customers, x = customers['tenure'], hue = 'Churn', bins=30)\n",
        "plt.show()"
      ],
      "metadata": {
        "colab": {
          "base_uri": "https://localhost:8080/",
          "height": 497
        },
        "id": "pFfQAXt0Th9o",
        "outputId": "0a959b8b-7900-43bb-e85c-f8cb9362b8a1"
      },
      "execution_count": null,
      "outputs": [
        {
          "output_type": "display_data",
          "data": {
            "text/plain": [
              "<Figure size 1080x576 with 1 Axes>"
            ],
            "image/png": "[encoded data removed]"
          },
          "metadata": {
            "needs_background": "light"
          }
        }
      ]
    },
    {
      "cell_type": "code",
      "source": [
        "# plotando gráfico com a quantidade de churn ou não churn para cada o valor da mensalidade\n",
        "plt.subplots(figsize=(15,8))\n",
        "sns.histplot(data = customers, x = customers['MonthlyCharges'], hue = 'Churn', bins=30)\n",
        "plt.show()"
      ],
      "metadata": {
        "colab": {
          "base_uri": "https://localhost:8080/",
          "height": 497
        },
        "id": "rD-TxXbDUYOC",
        "outputId": "db88dc2f-1766-4c37-dade-ea2044dc75c5"
      },
      "execution_count": null,
      "outputs": [
        {
          "output_type": "display_data",
          "data": {
            "text/plain": [
              "<Figure size 1080x576 with 1 Axes>"
            ],
            "image/png": "[encoded data removed]"
          },
          "metadata": {
            "needs_background": "light"
          }
        }
      ]
    },
    {
      "cell_type": "code",
      "source": [
        "# Retirando colunas que não primeiro momento não serão uteis\n",
        "customer_drop = customers.drop(['OnlineBackup', 'DeviceProtection', 'StreamingMovies'], axis=1)\n",
        "customer_drop.head()"
      ],
      "metadata": {
        "colab": {
          "base_uri": "https://localhost:8080/",
          "height": 357
        },
        "id": "kxxMEBpFW4ug",
        "outputId": "c86a7313-4942-4992-e0c8-59a67aa8c02e"
      },
      "execution_count": null,
      "outputs": [
        {
          "output_type": "execute_result",
          "data": {
            "text/plain": [
              "   customerID  gender  SeniorCitizen Partner Dependents  tenure PhoneService  \\\n",
              "0  7590-VHVEG  Female              0     Yes         No       1           No   \n",
              "1  5575-GNVDE    Male              0      No         No      34          Yes   \n",
              "2  3668-QPYBK    Male              0      No         No       2          Yes   \n",
              "3  7795-CFOCW    Male              0      No         No      45           No   \n",
              "4  9237-HQITU  Female              0      No         No       2          Yes   \n",
              "\n",
              "      MultipleLines InternetService OnlineSecurity TechSupport StreamingTV  \\\n",
              "0  No phone service             DSL             No          No          No   \n",
              "1                No             DSL            Yes          No          No   \n",
              "2                No             DSL            Yes          No          No   \n",
              "3  No phone service             DSL            Yes         Yes          No   \n",
              "4                No     Fiber optic             No          No          No   \n",
              "\n",
              "         Contract PaperlessBilling              PaymentMethod  MonthlyCharges  \\\n",
              "0  Month-to-month              Yes           Electronic check           29.85   \n",
              "1        One year               No               Mailed check           56.95   \n",
              "2  Month-to-month              Yes               Mailed check           53.85   \n",
              "3        One year               No  Bank transfer (automatic)           42.30   \n",
              "4  Month-to-month              Yes           Electronic check           70.70   \n",
              "\n",
              "  TotalCharges Churn  \n",
              "0        29.85    No  \n",
              "1       1889.5    No  \n",
              "2       108.15   Yes  \n",
              "3      1840.75    No  \n",
              "4       151.65   Yes  "
            ],
            "text/html": [
              "\n",
              "  <div id=\"df-904538ce-b1b2-4cc9-8d5d-e4ba2dcffda4\">\n",
              "    <div class=\"colab-df-container\">\n",
              "      <div>\n",
              "<style scoped>\n",
              "    .dataframe tbody tr th:only-of-type {\n",
              "        vertical-align: middle;\n",
              "    }\n",
              "\n",
              "    .dataframe tbody tr th {\n",
              "        vertical-align: top;\n",
              "    }\n",
              "\n",
              "    .dataframe thead th {\n",
              "        text-align: right;\n",
              "    }\n",
              "</style>\n",
              "<table border=\"1\" class=\"dataframe\">\n",
              "  <thead>\n",
              "    <tr style=\"text-align: right;\">\n",
              "      <th></th>\n",
              "      <th>customerID</th>\n",
              "      <th>gender</th>\n",
              "      <th>SeniorCitizen</th>\n",
              "      <th>Partner</th>\n",
              "      <th>Dependents</th>\n",
              "      <th>tenure</th>\n",
              "      <th>PhoneService</th>\n",
              "      <th>MultipleLines</th>\n",
              "      <th>InternetService</th>\n",
              "      <th>OnlineSecurity</th>\n",
              "      <th>TechSupport</th>\n",
              "      <th>StreamingTV</th>\n",
              "      <th>Contract</th>\n",
              "      <th>PaperlessBilling</th>\n",
              "      <th>PaymentMethod</th>\n",
              "      <th>MonthlyCharges</th>\n",
              "      <th>TotalCharges</th>\n",
              "      <th>Churn</th>\n",
              "    </tr>\n",
              "  </thead>\n",
              "  <tbody>\n",
              "    <tr>\n",
              "      <th>0</th>\n",
              "      <td>7590-VHVEG</td>\n",
              "      <td>Female</td>\n",
              "      <td>0</td>\n",
              "      <td>Yes</td>\n",
              "      <td>No</td>\n",
              "      <td>1</td>\n",
              "      <td>No</td>\n",
              "      <td>No phone service</td>\n",
              "      <td>DSL</td>\n",
              "      <td>No</td>\n",
              "      <td>No</td>\n",
              "      <td>No</td>\n",
              "      <td>Month-to-month</td>\n",
              "      <td>Yes</td>\n",
              "      <td>Electronic check</td>\n",
              "      <td>29.85</td>\n",
              "      <td>29.85</td>\n",
              "      <td>No</td>\n",
              "    </tr>\n",
              "    <tr>\n",
              "      <th>1</th>\n",
              "      <td>5575-GNVDE</td>\n",
              "      <td>Male</td>\n",
              "      <td>0</td>\n",
              "      <td>No</td>\n",
              "      <td>No</td>\n",
              "      <td>34</td>\n",
              "      <td>Yes</td>\n",
              "      <td>No</td>\n",
              "      <td>DSL</td>\n",
              "      <td>Yes</td>\n",
              "      <td>No</td>\n",
              "      <td>No</td>\n",
              "      <td>One year</td>\n",
              "      <td>No</td>\n",
              "      <td>Mailed check</td>\n",
              "      <td>56.95</td>\n",
              "      <td>1889.5</td>\n",
              "      <td>No</td>\n",
              "    </tr>\n",
              "    <tr>\n",
              "      <th>2</th>\n",
              "      <td>3668-QPYBK</td>\n",
              "      <td>Male</td>\n",
              "      <td>0</td>\n",
              "      <td>No</td>\n",
              "      <td>No</td>\n",
              "      <td>2</td>\n",
              "      <td>Yes</td>\n",
              "      <td>No</td>\n",
              "      <td>DSL</td>\n",
              "      <td>Yes</td>\n",
              "      <td>No</td>\n",
              "      <td>No</td>\n",
              "      <td>Month-to-month</td>\n",
              "      <td>Yes</td>\n",
              "      <td>Mailed check</td>\n",
              "      <td>53.85</td>\n",
              "      <td>108.15</td>\n",
              "      <td>Yes</td>\n",
              "    </tr>\n",
              "    <tr>\n",
              "      <th>3</th>\n",
              "      <td>7795-CFOCW</td>\n",
              "      <td>Male</td>\n",
              "      <td>0</td>\n",
              "      <td>No</td>\n",
              "      <td>No</td>\n",
              "      <td>45</td>\n",
              "      <td>No</td>\n",
              "      <td>No phone service</td>\n",
              "      <td>DSL</td>\n",
              "      <td>Yes</td>\n",
              "      <td>Yes</td>\n",
              "      <td>No</td>\n",
              "      <td>One year</td>\n",
              "      <td>No</td>\n",
              "      <td>Bank transfer (automatic)</td>\n",
              "      <td>42.30</td>\n",
              "      <td>1840.75</td>\n",
              "      <td>No</td>\n",
              "    </tr>\n",
              "    <tr>\n",
              "      <th>4</th>\n",
              "      <td>9237-HQITU</td>\n",
              "      <td>Female</td>\n",
              "      <td>0</td>\n",
              "      <td>No</td>\n",
              "      <td>No</td>\n",
              "      <td>2</td>\n",
              "      <td>Yes</td>\n",
              "      <td>No</td>\n",
              "      <td>Fiber optic</td>\n",
              "      <td>No</td>\n",
              "      <td>No</td>\n",
              "      <td>No</td>\n",
              "      <td>Month-to-month</td>\n",
              "      <td>Yes</td>\n",
              "      <td>Electronic check</td>\n",
              "      <td>70.70</td>\n",
              "      <td>151.65</td>\n",
              "      <td>Yes</td>\n",
              "    </tr>\n",
              "  </tbody>\n",
              "</table>\n",
              "</div>\n",
              "      <button class=\"colab-df-convert\" onclick=\"convertToInteractive('df-904538ce-b1b2-4cc9-8d5d-e4ba2dcffda4')\"\n",
              "              title=\"Convert this dataframe to an interactive table.\"\n",
              "              style=\"display:none;\">\n",
              "        \n",
              "  <svg xmlns=\"http://www.w3.org/2000/svg\" height=\"24px\"viewBox=\"0 0 24 24\"\n",
              "       width=\"24px\">\n",
              "    <path d=\"M0 0h24v24H0V0z\" fill=\"none\"/>\n",
              "    <path d=\"M18.56 5.44l.94 2.06.94-2.06 2.06-.94-2.06-.94-.94-2.06-.94 2.06-2.06.94zm-11 1L8.5 8.5l.94-2.06 2.06-.94-2.06-.94L8.5 2.5l-.94 2.06-2.06.94zm10 10l.94 2.06.94-2.06 2.06-.94-2.06-.94-.94-2.06-.94 2.06-2.06.94z\"/><path d=\"M17.41 7.96l-1.37-1.37c-.4-.4-.92-.59-1.43-.59-.52 0-1.04.2-1.43.59L10.3 9.45l-7.72 7.72c-.78.78-.78 2.05 0 2.83L4 21.41c.39.39.9.59 1.41.59.51 0 1.02-.2 1.41-.59l7.78-7.78 2.81-2.81c.8-.78.8-2.07 0-2.86zM5.41 20L4 18.59l7.72-7.72 1.47 1.35L5.41 20z\"/>\n",
              "  </svg>\n",
              "      </button>\n",
              "      \n",
              "  <style>\n",
              "    .colab-df-container {\n",
              "      display:flex;\n",
              "      flex-wrap:wrap;\n",
              "      gap: 12px;\n",
              "    }\n",
              "\n",
              "    .colab-df-convert {\n",
              "      background-color: #E8F0FE;\n",
              "      border: none;\n",
              "      border-radius: 50%;\n",
              "      cursor: pointer;\n",
              "      display: none;\n",
              "      fill: #1967D2;\n",
              "      height: 32px;\n",
              "      padding: 0 0 0 0;\n",
              "      width: 32px;\n",
              "    }\n",
              "\n",
              "    .colab-df-convert:hover {\n",
              "      background-color: #E2EBFA;\n",
              "      box-shadow: 0px 1px 2px rgba(60, 64, 67, 0.3), 0px 1px 3px 1px rgba(60, 64, 67, 0.15);\n",
              "      fill: #174EA6;\n",
              "    }\n",
              "\n",
              "    [theme=dark] .colab-df-convert {\n",
              "      background-color: #3B4455;\n",
              "      fill: #D2E3FC;\n",
              "    }\n",
              "\n",
              "    [theme=dark] .colab-df-convert:hover {\n",
              "      background-color: #434B5C;\n",
              "      box-shadow: 0px 1px 3px 1px rgba(0, 0, 0, 0.15);\n",
              "      filter: drop-shadow(0px 1px 2px rgba(0, 0, 0, 0.3));\n",
              "      fill: #FFFFFF;\n",
              "    }\n",
              "  </style>\n",
              "\n",
              "      <script>\n",
              "        const buttonEl =\n",
              "          document.querySelector('#df-904538ce-b1b2-4cc9-8d5d-e4ba2dcffda4 button.colab-df-convert');\n",
              "        buttonEl.style.display =\n",
              "          google.colab.kernel.accessAllowed ? 'block' : 'none';\n",
              "\n",
              "        async function convertToInteractive(key) {\n",
              "          const element = document.querySelector('#df-904538ce-b1b2-4cc9-8d5d-e4ba2dcffda4');\n",
              "          const dataTable =\n",
              "            await google.colab.kernel.invokeFunction('convertToInteractive',\n",
              "                                                     [key], {});\n",
              "          if (!dataTable) return;\n",
              "\n",
              "          const docLinkHtml = 'Like what you see? Visit the ' +\n",
              "            '<a target=\"_blank\" href=https://colab.research.google.com/notebooks/data_table.ipynb>data table notebook</a>'\n",
              "            + ' to learn more about interactive tables.';\n",
              "          element.innerHTML = '';\n",
              "          dataTable['output_type'] = 'display_data';\n",
              "          await google.colab.output.renderOutput(dataTable, element);\n",
              "          const docLink = document.createElement('div');\n",
              "          docLink.innerHTML = docLinkHtml;\n",
              "          element.appendChild(docLink);\n",
              "        }\n",
              "      </script>\n",
              "    </div>\n",
              "  </div>\n",
              "  "
            ]
          },
          "metadata": {},
          "execution_count": 41
        }
      ]
    },
    {
      "cell_type": "code",
      "source": [
        "# Transformando os dados de gênero categóricos em numéricos\n",
        "customer_drop['gender'] = customer_drop['gender'].map({\"Male\":0 , \"Female\":1})"
      ],
      "metadata": {
        "id": "8LMJ9g7kXe2f"
      },
      "execution_count": null,
      "outputs": []
    },
    {
      "cell_type": "code",
      "source": [
        "# Transformando os dados categóricos de sim e não em numéricos\n",
        "def transform_yes(valor):\n",
        "  if valor == \"No\":\n",
        "    return 0\n",
        "  elif valor=='Yes':\n",
        "    return 1\n",
        "  else:\n",
        "    return 2\n",
        "\n",
        "customer_drop['Partner'] = customer_drop['Partner'].map(transform_yes)\n",
        "customer_drop['Dependents'] = customer_drop['Dependents'].map(transform_yes)\n",
        "customer_drop['PhoneService'] = customer_drop['PhoneService'].map(transform_yes)\n",
        "customer_drop['MultipleLines'] = customer_drop['MultipleLines'].map(transform_yes)\n",
        "customer_drop['OnlineSecurity'] = customer_drop['OnlineSecurity'].map(transform_yes)\n",
        "customer_drop['TechSupport'] = customer_drop['TechSupport'].map(transform_yes)\n",
        "customer_drop['StreamingTV'] = customer_drop['StreamingTV'].map(transform_yes)\n",
        "customer_drop['PaperlessBilling'] = customer_drop['PaperlessBilling'].map(transform_yes)\n",
        "customer_drop['Churn'] = customer_drop['Churn'].map(transform_yes)\n",
        "\n",
        "customer_drop.head()"
      ],
      "metadata": {
        "colab": {
          "base_uri": "https://localhost:8080/",
          "height": 357
        },
        "id": "5kPlK0sVcWTw",
        "outputId": "96fbe31a-f590-43c5-e9a1-8657d248f7e9"
      },
      "execution_count": null,
      "outputs": [
        {
          "output_type": "execute_result",
          "data": {
            "text/plain": [
              "   customerID  gender  SeniorCitizen  Partner  Dependents  tenure  \\\n",
              "0  7590-VHVEG       1              0        1           0       1   \n",
              "1  5575-GNVDE       0              0        0           0      34   \n",
              "2  3668-QPYBK       0              0        0           0       2   \n",
              "3  7795-CFOCW       0              0        0           0      45   \n",
              "4  9237-HQITU       1              0        0           0       2   \n",
              "\n",
              "   PhoneService  MultipleLines InternetService  OnlineSecurity  TechSupport  \\\n",
              "0             0              2             DSL               0            0   \n",
              "1             1              0             DSL               1            0   \n",
              "2             1              0             DSL               1            0   \n",
              "3             0              2             DSL               1            1   \n",
              "4             1              0     Fiber optic               0            0   \n",
              "\n",
              "   StreamingTV        Contract  PaperlessBilling              PaymentMethod  \\\n",
              "0            0  Month-to-month                 1           Electronic check   \n",
              "1            0        One year                 0               Mailed check   \n",
              "2            0  Month-to-month                 1               Mailed check   \n",
              "3            0        One year                 0  Bank transfer (automatic)   \n",
              "4            0  Month-to-month                 1           Electronic check   \n",
              "\n",
              "   MonthlyCharges TotalCharges  Churn  \n",
              "0           29.85        29.85      0  \n",
              "1           56.95       1889.5      0  \n",
              "2           53.85       108.15      1  \n",
              "3           42.30      1840.75      0  \n",
              "4           70.70       151.65      1  "
            ],
            "text/html": [
              "\n",
              "  <div id=\"df-fc313232-bb5e-41f6-8d5e-1ae68cf941a4\">\n",
              "    <div class=\"colab-df-container\">\n",
              "      <div>\n",
              "<style scoped>\n",
              "    .dataframe tbody tr th:only-of-type {\n",
              "        vertical-align: middle;\n",
              "    }\n",
              "\n",
              "    .dataframe tbody tr th {\n",
              "        vertical-align: top;\n",
              "    }\n",
              "\n",
              "    .dataframe thead th {\n",
              "        text-align: right;\n",
              "    }\n",
              "</style>\n",
              "<table border=\"1\" class=\"dataframe\">\n",
              "  <thead>\n",
              "    <tr style=\"text-align: right;\">\n",
              "      <th></th>\n",
              "      <th>customerID</th>\n",
              "      <th>gender</th>\n",
              "      <th>SeniorCitizen</th>\n",
              "      <th>Partner</th>\n",
              "      <th>Dependents</th>\n",
              "      <th>tenure</th>\n",
              "      <th>PhoneService</th>\n",
              "      <th>MultipleLines</th>\n",
              "      <th>InternetService</th>\n",
              "      <th>OnlineSecurity</th>\n",
              "      <th>TechSupport</th>\n",
              "      <th>StreamingTV</th>\n",
              "      <th>Contract</th>\n",
              "      <th>PaperlessBilling</th>\n",
              "      <th>PaymentMethod</th>\n",
              "      <th>MonthlyCharges</th>\n",
              "      <th>TotalCharges</th>\n",
              "      <th>Churn</th>\n",
              "    </tr>\n",
              "  </thead>\n",
              "  <tbody>\n",
              "    <tr>\n",
              "      <th>0</th>\n",
              "      <td>7590-VHVEG</td>\n",
              "      <td>1</td>\n",
              "      <td>0</td>\n",
              "      <td>1</td>\n",
              "      <td>0</td>\n",
              "      <td>1</td>\n",
              "      <td>0</td>\n",
              "      <td>2</td>\n",
              "      <td>DSL</td>\n",
              "      <td>0</td>\n",
              "      <td>0</td>\n",
              "      <td>0</td>\n",
              "      <td>Month-to-month</td>\n",
              "      <td>1</td>\n",
              "      <td>Electronic check</td>\n",
              "      <td>29.85</td>\n",
              "      <td>29.85</td>\n",
              "      <td>0</td>\n",
              "    </tr>\n",
              "    <tr>\n",
              "      <th>1</th>\n",
              "      <td>5575-GNVDE</td>\n",
              "      <td>0</td>\n",
              "      <td>0</td>\n",
              "      <td>0</td>\n",
              "      <td>0</td>\n",
              "      <td>34</td>\n",
              "      <td>1</td>\n",
              "      <td>0</td>\n",
              "      <td>DSL</td>\n",
              "      <td>1</td>\n",
              "      <td>0</td>\n",
              "      <td>0</td>\n",
              "      <td>One year</td>\n",
              "      <td>0</td>\n",
              "      <td>Mailed check</td>\n",
              "      <td>56.95</td>\n",
              "      <td>1889.5</td>\n",
              "      <td>0</td>\n",
              "    </tr>\n",
              "    <tr>\n",
              "      <th>2</th>\n",
              "      <td>3668-QPYBK</td>\n",
              "      <td>0</td>\n",
              "      <td>0</td>\n",
              "      <td>0</td>\n",
              "      <td>0</td>\n",
              "      <td>2</td>\n",
              "      <td>1</td>\n",
              "      <td>0</td>\n",
              "      <td>DSL</td>\n",
              "      <td>1</td>\n",
              "      <td>0</td>\n",
              "      <td>0</td>\n",
              "      <td>Month-to-month</td>\n",
              "      <td>1</td>\n",
              "      <td>Mailed check</td>\n",
              "      <td>53.85</td>\n",
              "      <td>108.15</td>\n",
              "      <td>1</td>\n",
              "    </tr>\n",
              "    <tr>\n",
              "      <th>3</th>\n",
              "      <td>7795-CFOCW</td>\n",
              "      <td>0</td>\n",
              "      <td>0</td>\n",
              "      <td>0</td>\n",
              "      <td>0</td>\n",
              "      <td>45</td>\n",
              "      <td>0</td>\n",
              "      <td>2</td>\n",
              "      <td>DSL</td>\n",
              "      <td>1</td>\n",
              "      <td>1</td>\n",
              "      <td>0</td>\n",
              "      <td>One year</td>\n",
              "      <td>0</td>\n",
              "      <td>Bank transfer (automatic)</td>\n",
              "      <td>42.30</td>\n",
              "      <td>1840.75</td>\n",
              "      <td>0</td>\n",
              "    </tr>\n",
              "    <tr>\n",
              "      <th>4</th>\n",
              "      <td>9237-HQITU</td>\n",
              "      <td>1</td>\n",
              "      <td>0</td>\n",
              "      <td>0</td>\n",
              "      <td>0</td>\n",
              "      <td>2</td>\n",
              "      <td>1</td>\n",
              "      <td>0</td>\n",
              "      <td>Fiber optic</td>\n",
              "      <td>0</td>\n",
              "      <td>0</td>\n",
              "      <td>0</td>\n",
              "      <td>Month-to-month</td>\n",
              "      <td>1</td>\n",
              "      <td>Electronic check</td>\n",
              "      <td>70.70</td>\n",
              "      <td>151.65</td>\n",
              "      <td>1</td>\n",
              "    </tr>\n",
              "  </tbody>\n",
              "</table>\n",
              "</div>\n",
              "      <button class=\"colab-df-convert\" onclick=\"convertToInteractive('df-fc313232-bb5e-41f6-8d5e-1ae68cf941a4')\"\n",
              "              title=\"Convert this dataframe to an interactive table.\"\n",
              "              style=\"display:none;\">\n",
              "        \n",
              "  <svg xmlns=\"http://www.w3.org/2000/svg\" height=\"24px\"viewBox=\"0 0 24 24\"\n",
              "       width=\"24px\">\n",
              "    <path d=\"M0 0h24v24H0V0z\" fill=\"none\"/>\n",
              "    <path d=\"M18.56 5.44l.94 2.06.94-2.06 2.06-.94-2.06-.94-.94-2.06-.94 2.06-2.06.94zm-11 1L8.5 8.5l.94-2.06 2.06-.94-2.06-.94L8.5 2.5l-.94 2.06-2.06.94zm10 10l.94 2.06.94-2.06 2.06-.94-2.06-.94-.94-2.06-.94 2.06-2.06.94z\"/><path d=\"M17.41 7.96l-1.37-1.37c-.4-.4-.92-.59-1.43-.59-.52 0-1.04.2-1.43.59L10.3 9.45l-7.72 7.72c-.78.78-.78 2.05 0 2.83L4 21.41c.39.39.9.59 1.41.59.51 0 1.02-.2 1.41-.59l7.78-7.78 2.81-2.81c.8-.78.8-2.07 0-2.86zM5.41 20L4 18.59l7.72-7.72 1.47 1.35L5.41 20z\"/>\n",
              "  </svg>\n",
              "      </button>\n",
              "      \n",
              "  <style>\n",
              "    .colab-df-container {\n",
              "      display:flex;\n",
              "      flex-wrap:wrap;\n",
              "      gap: 12px;\n",
              "    }\n",
              "\n",
              "    .colab-df-convert {\n",
              "      background-color: #E8F0FE;\n",
              "      border: none;\n",
              "      border-radius: 50%;\n",
              "      cursor: pointer;\n",
              "      display: none;\n",
              "      fill: #1967D2;\n",
              "      height: 32px;\n",
              "      padding: 0 0 0 0;\n",
              "      width: 32px;\n",
              "    }\n",
              "\n",
              "    .colab-df-convert:hover {\n",
              "      background-color: #E2EBFA;\n",
              "      box-shadow: 0px 1px 2px rgba(60, 64, 67, 0.3), 0px 1px 3px 1px rgba(60, 64, 67, 0.15);\n",
              "      fill: #174EA6;\n",
              "    }\n",
              "\n",
              "    [theme=dark] .colab-df-convert {\n",
              "      background-color: #3B4455;\n",
              "      fill: #D2E3FC;\n",
              "    }\n",
              "\n",
              "    [theme=dark] .colab-df-convert:hover {\n",
              "      background-color: #434B5C;\n",
              "      box-shadow: 0px 1px 3px 1px rgba(0, 0, 0, 0.15);\n",
              "      filter: drop-shadow(0px 1px 2px rgba(0, 0, 0, 0.3));\n",
              "      fill: #FFFFFF;\n",
              "    }\n",
              "  </style>\n",
              "\n",
              "      <script>\n",
              "        const buttonEl =\n",
              "          document.querySelector('#df-fc313232-bb5e-41f6-8d5e-1ae68cf941a4 button.colab-df-convert');\n",
              "        buttonEl.style.display =\n",
              "          google.colab.kernel.accessAllowed ? 'block' : 'none';\n",
              "\n",
              "        async function convertToInteractive(key) {\n",
              "          const element = document.querySelector('#df-fc313232-bb5e-41f6-8d5e-1ae68cf941a4');\n",
              "          const dataTable =\n",
              "            await google.colab.kernel.invokeFunction('convertToInteractive',\n",
              "                                                     [key], {});\n",
              "          if (!dataTable) return;\n",
              "\n",
              "          const docLinkHtml = 'Like what you see? Visit the ' +\n",
              "            '<a target=\"_blank\" href=https://colab.research.google.com/notebooks/data_table.ipynb>data table notebook</a>'\n",
              "            + ' to learn more about interactive tables.';\n",
              "          element.innerHTML = '';\n",
              "          dataTable['output_type'] = 'display_data';\n",
              "          await google.colab.output.renderOutput(dataTable, element);\n",
              "          const docLink = document.createElement('div');\n",
              "          docLink.innerHTML = docLinkHtml;\n",
              "          element.appendChild(docLink);\n",
              "        }\n",
              "      </script>\n",
              "    </div>\n",
              "  </div>\n",
              "  "
            ]
          },
          "metadata": {},
          "execution_count": 43
        }
      ]
    },
    {
      "cell_type": "code",
      "source": [
        "# Transformando os outros dados categóricos em numéricos\n",
        "encoding = customer_drop\n",
        "encoding = pd.concat([encoding.drop(\"InternetService\", axis=1), pd.get_dummies(encoding.InternetService)], axis=1)\n",
        "encoding = pd.concat([encoding.drop(\"Contract\", axis=1), pd.get_dummies(encoding.Contract)], axis=1)\n",
        "encoding = pd.concat([encoding.drop(\"PaymentMethod\", axis=1), pd.get_dummies(encoding.PaymentMethod)], axis=1)"
      ],
      "metadata": {
        "id": "0h_AHTmyeBL9"
      },
      "execution_count": null,
      "outputs": []
    },
    {
      "cell_type": "code",
      "source": [
        "encoding.info()\n",
        "# Agora temos que só customerID possui tipo de dado objeto e TotalCharges(Esse temos que mudar)"
      ],
      "metadata": {
        "colab": {
          "base_uri": "https://localhost:8080/"
        },
        "id": "hgcdCDMqeIq9",
        "outputId": "cb20b856-aee0-4197-900f-91714749be6d"
      },
      "execution_count": null,
      "outputs": [
        {
          "output_type": "stream",
          "name": "stdout",
          "text": [
            "<class 'pandas.core.frame.DataFrame'>\n",
            "RangeIndex: 7043 entries, 0 to 7042\n",
            "Data columns (total 25 columns):\n",
            " #   Column                     Non-Null Count  Dtype  \n",
            "---  ------                     --------------  -----  \n",
            " 0   customerID                 7043 non-null   object \n",
            " 1   gender                     7043 non-null   int64  \n",
            " 2   SeniorCitizen              7043 non-null   int64  \n",
            " 3   Partner                    7043 non-null   int64  \n",
            " 4   Dependents                 7043 non-null   int64  \n",
            " 5   tenure                     7043 non-null   int64  \n",
            " 6   PhoneService               7043 non-null   int64  \n",
            " 7   MultipleLines              7043 non-null   int64  \n",
            " 8   OnlineSecurity             7043 non-null   int64  \n",
            " 9   TechSupport                7043 non-null   int64  \n",
            " 10  StreamingTV                7043 non-null   int64  \n",
            " 11  PaperlessBilling           7043 non-null   int64  \n",
            " 12  MonthlyCharges             7043 non-null   float64\n",
            " 13  TotalCharges               7043 non-null   float64\n",
            " 14  Churn                      7043 non-null   int64  \n",
            " 15  DSL                        7043 non-null   uint8  \n",
            " 16  Fiber optic                7043 non-null   uint8  \n",
            " 17  No                         7043 non-null   uint8  \n",
            " 18  Month-to-month             7043 non-null   uint8  \n",
            " 19  One year                   7043 non-null   uint8  \n",
            " 20  Two year                   7043 non-null   uint8  \n",
            " 21  Bank transfer (automatic)  7043 non-null   uint8  \n",
            " 22  Credit card (automatic)    7043 non-null   uint8  \n",
            " 23  Electronic check           7043 non-null   uint8  \n",
            " 24  Mailed check               7043 non-null   uint8  \n",
            "dtypes: float64(2), int64(12), object(1), uint8(10)\n",
            "memory usage: 894.3+ KB\n"
          ]
        }
      ]
    },
    {
      "cell_type": "code",
      "source": [
        "# Forçando a transformação do total charges em numérico\n",
        "encoding['TotalCharges'] = pd.to_numeric(encoding['TotalCharges'], errors='coerce')"
      ],
      "metadata": {
        "id": "fcDVKMjnnJ65"
      },
      "execution_count": null,
      "outputs": []
    },
    {
      "cell_type": "code",
      "source": [
        "# olhando se possui algum dados NaN\n",
        "sns.heatmap(encoding.isna())"
      ],
      "metadata": {
        "colab": {
          "base_uri": "https://localhost:8080/",
          "height": 407
        },
        "id": "w2uOujLMgKbZ",
        "outputId": "37379c90-e457-4032-cb96-7abee0d7e999"
      },
      "execution_count": null,
      "outputs": [
        {
          "output_type": "execute_result",
          "data": {
            "text/plain": [
              "<matplotlib.axes._subplots.AxesSubplot at 0x7fb9d63c3910>"
            ]
          },
          "metadata": {},
          "execution_count": 75
        },
        {
          "output_type": "display_data",
          "data": {
            "text/plain": [
              "<Figure size 432x288 with 2 Axes>"
            ],
            "image/png": "[encoded data removed]"
          },
          "metadata": {
            "needs_background": "light"
          }
        }
      ]
    },
    {
      "cell_type": "code",
      "source": [
        "# Preenchendo com 0 caso ainda existe algum número NaN\n",
        "encoding = encoding.fillna(0)"
      ],
      "metadata": {
        "id": "HLf3WJ-Ck2RS"
      },
      "execution_count": null,
      "outputs": []
    },
    {
      "cell_type": "code",
      "source": [
        "# Aplicando StandardScaler\n",
        "from sklearn.preprocessing import StandardScaler\n",
        "scaler = StandardScaler()\n",
        "encoding[['MonthlyCharges', 'TotalCharges']] = scaler.fit_transform(encoding[['MonthlyCharges', 'TotalCharges']])"
      ],
      "metadata": {
        "id": "nO7pctgEqy9J"
      },
      "execution_count": null,
      "outputs": []
    },
    {
      "cell_type": "markdown",
      "source": [
        "Agora vamos começar de fato a classificação"
      ],
      "metadata": {
        "id": "Pauok77Ye8MS"
      }
    },
    {
      "cell_type": "code",
      "source": [
        "# Separando os dados em X e y\n",
        "y = encoding['Churn'] \n",
        "X = encoding.drop(['customerID', 'Churn'], axis=1)"
      ],
      "metadata": {
        "id": "v8RiavBNe9o4"
      },
      "execution_count": null,
      "outputs": []
    },
    {
      "cell_type": "code",
      "source": [
        "# OLhando a correlação do dados\n",
        "corrmat = X.corr()\n",
        "f, ax = plt.subplots(figsize=(12, 9))\n",
        "sns.heatmap(corrmat, vmax=.8, square=True);\n",
        "# Parece que faz sentido tirar OnlineSecurity,  TechSupport,  'TotalCharges', 'PhoneService'"
      ],
      "metadata": {
        "colab": {
          "base_uri": "https://localhost:8080/",
          "height": 660
        },
        "id": "VGxjC2RlfHQf",
        "outputId": "e2765ba2-c015-4068-c8fb-42f47e5c9d33"
      },
      "execution_count": null,
      "outputs": [
        {
          "output_type": "display_data",
          "data": {
            "text/plain": [
              "<Figure size 864x648 with 2 Axes>"
            ],
            "image/png": "[encoded data removed]"
          },
          "metadata": {
            "needs_background": "light"
          }
        }
      ]
    },
    {
      "cell_type": "code",
      "source": [
        "# Separando novamente os dados em X com base na correlação\n",
        "y = encoding['Churn'] \n",
        "X = encoding.drop(['customerID', 'Churn', 'OnlineSecurity', 'TechSupport', 'TotalCharges', 'PhoneService'], axis=1)"
      ],
      "metadata": {
        "id": "FwEL6IJr1dSE"
      },
      "execution_count": null,
      "outputs": []
    },
    {
      "cell_type": "code",
      "source": [
        "# Dividindo os dados em treino, teste e validação\n",
        "from sklearn.model_selection import train_test_split\n",
        "\n",
        "seed = 0\n",
        "\n",
        "#Construa os Datasets de Treino e Teste\n",
        "X_training,X_test, y_training, y_test= train_test_split(X, y, random_state=seed, test_size=0.25, stratify=y)\n",
        "\n",
        "#Construa o Dataset de Validação\n",
        "X_train, X_val, y_train,  y_val = train_test_split(X_training, y_training, random_state=seed,\n",
        "                         test_size=0.33, stratify=y_training)"
      ],
      "metadata": {
        "id": "clSB1s8dfehQ"
      },
      "execution_count": null,
      "outputs": []
    },
    {
      "cell_type": "code",
      "source": [
        "# Importando bibliotecs para aplicar diferentes técnicas\n",
        "from sklearn.tree import DecisionTreeClassifier\n",
        "from sklearn.metrics import classification_report, confusion_matrix, roc_auc_score\n",
        "from sklearn.model_selection import cross_val_score\n",
        "\n",
        "from sklearn.model_selection import StratifiedKFold\n",
        "from sklearn.model_selection import GridSearchCV\n",
        "\n",
        "# Definir os possiveis valores para cada hiperparametro para serem explorados\n",
        "params = {'max_depth': [2, 3, 4, 5, 6, 7, 8, 9],\n",
        "          'min_samples_split': [2, 3, 4, 5, 6],\n",
        "          'min_samples_leaf': [1, 2, 3]}\n",
        "\n",
        "# Criar objeto com o DecisionTreeClassifier\n",
        "tree = DecisionTreeClassifier(random_state=seed)\n",
        "\n",
        "# Criar objeto KFold com StratifiedKFold para validação cruzada\n",
        "skf = StratifiedKFold(n_splits=3, shuffle=True, random_state=seed)\n",
        "\n",
        "# Criar um objeto de grade de busca com GridSearchCV, a partir dos parâmetros que definimos\n",
        "grid_search = GridSearchCV(tree, param_grid=params, scoring='roc_auc',\n",
        "                           cv=skf.split(X_training, y_training))\n",
        "\n",
        "# Treinar o modelo com o grid search\n",
        "grid_search.fit(X_training, y_training)\n",
        "\n",
        "\n",
        "# Printar a melhor combinação de hiperparâmetros\n",
        "print('Melhores hiperparâmetros:')\n",
        "print(grid_search.best_params_)\n",
        "\n",
        "# Gera uma árvore com as melhores combinações de hiperparâmetros\n",
        "tree_3 = DecisionTreeClassifier(random_state=seed, max_depth=grid_search.best_params_['max_depth'],\n",
        "                                min_samples_split=grid_search.best_params_['min_samples_split'],\n",
        "                                min_samples_leaf=grid_search.best_params_['min_samples_leaf'])\n",
        "\n",
        "# Fita o modelo com o dataset de treino\n",
        "tree_3.fit(X_train, y_train)\n",
        "\n",
        "# Usa o modelo para prever o conjunto de validação\n",
        "y_pred = tree_3.predict(X_val)\n",
        "\n",
        "# Calcular e printar métricas\n",
        "print(\"Acurácia no conjunto de treino: {:.3f}\".format(tree_3.score(X_train, y_train)))\n",
        "print(\"Acurácia no conjunto de validação: {:.3f}\".format(tree_3.score(X_val, y_val)))\n",
        "print(classification_report(y_val, y_pred))\n",
        "print(confusion_matrix(y_val, y_pred))\n",
        "print(\"Área sob a curva ROC: {:.3f}\".format(roc_auc_score(y_val, y_pred)))"
      ],
      "metadata": {
        "colab": {
          "base_uri": "https://localhost:8080/"
        },
        "id": "zLpALfijft4W",
        "outputId": "d9447bc1-abfa-4b42-c701-29ec18005af8"
      },
      "execution_count": null,
      "outputs": [
        {
          "output_type": "stream",
          "name": "stdout",
          "text": [
            "Melhores hiperparâmetros:\n",
            "{'max_depth': 4, 'min_samples_leaf': 3, 'min_samples_split': 2}\n",
            "Acurácia no conjunto de treino: 0.795\n",
            "Acurácia no conjunto de validação: 0.796\n",
            "              precision    recall  f1-score   support\n",
            "\n",
            "           0       0.83      0.90      0.87      1281\n",
            "           1       0.65      0.51      0.57       463\n",
            "\n",
            "    accuracy                           0.80      1744\n",
            "   macro avg       0.74      0.70      0.72      1744\n",
            "weighted avg       0.78      0.80      0.79      1744\n",
            "\n",
            "[[1154  127]\n",
            " [ 229  234]]\n",
            "Área sob a curva ROC: 0.703\n"
          ]
        }
      ]
    },
    {
      "cell_type": "code",
      "source": [
        "from sklearn.ensemble import RandomForestClassifier\n",
        "# Definir os possiveis valores para cada hiperparametro para serem explorados\n",
        "params = {'max_depth': [2, 3, 4, 5, 6, 7, 8, 9],\n",
        "          'min_samples_split': [2, 3, 4, 5, 6],\n",
        "          'min_samples_leaf': [1, 2, 3]}\n",
        "\n",
        "# Criar objeto com o RandomForestClassifier\n",
        "rd_forest= RandomForestClassifier(random_state=seed)\n",
        "\n",
        "# Criar objeto KFold com StratifiedKFold para validação cruzada\n",
        "skf = StratifiedKFold(n_splits=3, shuffle=True, random_state=seed)\n",
        "\n",
        "# Criar um objeto de grade de busca com GridSearchCV, a partir dos parâmetros que definimos\n",
        "grid_search = GridSearchCV(tree, param_grid=params, scoring='roc_auc',\n",
        "                           cv=skf.split(X_training, y_training))\n",
        "\n",
        "# Treinar o modelo com o grid search\n",
        "grid_search.fit(X_training, y_training)\n",
        "\n",
        "\n",
        "# Printar a melhor combinação de hiperparâmetros\n",
        "print('Melhores hiperparâmetros:')\n",
        "print(grid_search.best_params_)\n",
        "\n",
        "# Gera uma árvore com as melhores combinações de hiperparâmetros\n",
        "rd_forest = RandomForestClassifier(random_state=seed, max_depth=grid_search.best_params_['max_depth'],\n",
        "                                min_samples_split=grid_search.best_params_['min_samples_split'],\n",
        "                                min_samples_leaf=grid_search.best_params_['min_samples_leaf'])\n",
        "\n",
        "# Fita o modelo com o dataset de treino\n",
        "rd_forest.fit(X_train, y_train)\n",
        "\n",
        "# Usa o modelo para prever o conjunto de validação\n",
        "y_pred = rd_forest.predict(X_val)\n",
        "\n",
        "# Calcular e printar métricas\n",
        "print(\"Acurácia no conjunto de treino: {:.3f}\".format(rd_forest.score(X_train, y_train)))\n",
        "print(\"Acurácia no conjunto de validação: {:.3f}\".format(rd_forest.score(X_val, y_val)))\n",
        "print(classification_report(y_val, y_pred))\n",
        "print(confusion_matrix(y_val, y_pred))\n",
        "print(\"Área sob a curva ROC: {:.3f}\".format(roc_auc_score(y_val, y_pred)))"
      ],
      "metadata": {
        "colab": {
          "base_uri": "https://localhost:8080/"
        },
        "id": "R-yj5T2Cn9Y3",
        "outputId": "29cf2ba2-e609-4c68-a3ee-e7e37c3ae8cf"
      },
      "execution_count": null,
      "outputs": [
        {
          "output_type": "stream",
          "name": "stdout",
          "text": [
            "Melhores hiperparâmetros:\n",
            "{'max_depth': 4, 'min_samples_leaf': 3, 'min_samples_split': 2}\n",
            "Acurácia no conjunto de treino: 0.793\n",
            "Acurácia no conjunto de validação: 0.803\n",
            "              precision    recall  f1-score   support\n",
            "\n",
            "           0       0.82      0.94      0.88      1281\n",
            "           1       0.71      0.43      0.54       463\n",
            "\n",
            "    accuracy                           0.80      1744\n",
            "   macro avg       0.77      0.68      0.71      1744\n",
            "weighted avg       0.79      0.80      0.79      1744\n",
            "\n",
            "[[1201   80]\n",
            " [ 263  200]]\n",
            "Área sob a curva ROC: 0.685\n"
          ]
        }
      ]
    },
    {
      "cell_type": "code",
      "source": [
        "# Regressão logística\n",
        "\n",
        "from sklearn.linear_model import LogisticRegression\n",
        "\n",
        "# Generate a range with different values for C parameter\n",
        "grid = {\"C\": [1,150,5, 3, 10, 50]}\n",
        "logreg_cv = GridSearchCV(LogisticRegression(solver='liblinear'), grid, cv=10)\n",
        "logreg_cv.fit(X_train, y_train)\n",
        "\n",
        "print(\"Melhores hiperparâmetros: \", logreg_cv.best_params_)\n",
        "\n",
        "y_pred_logreg = logreg_cv.predict(X_val)\n",
        "\n",
        "print(\"Acurácia no dataset de treino: {:.3f}\".format(logreg_cv.score(X_train, y_train)))\n",
        "print(\"Acurácia no dataset de validação: {:.3f}\".format(logreg_cv.score(X_val, y_val)))\n",
        "print(classification_report(y_val, y_pred_logreg))\n",
        "print(confusion_matrix(y_val, y_pred_logreg))\n",
        "print(\"AUC: {:.3f}\".format(roc_auc_score(y_val, y_pred_logreg)))\n",
        "\n",
        "#Métrica de Avaliação do Modelo (Utilizado para nota)\n",
        "acur_val_logreg = logreg_cv.score(X_val, y_val)\n",
        "\n",
        "ex_6_4 = acur_val_logreg"
      ],
      "metadata": {
        "colab": {
          "base_uri": "https://localhost:8080/"
        },
        "id": "d_uAHxIvoGMN",
        "outputId": "d439d258-dfff-4642-b591-5a24016784d4"
      },
      "execution_count": null,
      "outputs": [
        {
          "output_type": "stream",
          "name": "stdout",
          "text": [
            "Melhores hiperparâmetros:  {'C': 150}\n",
            "Acurácia no dataset de treino: 0.800\n",
            "Acurácia no dataset de validação: 0.819\n",
            "              precision    recall  f1-score   support\n",
            "\n",
            "           0       0.85      0.91      0.88      1281\n",
            "           1       0.70      0.56      0.62       463\n",
            "\n",
            "    accuracy                           0.82      1744\n",
            "   macro avg       0.77      0.74      0.75      1744\n",
            "weighted avg       0.81      0.82      0.81      1744\n",
            "\n",
            "[[1169  112]\n",
            " [ 204  259]]\n",
            "AUC: 0.736\n"
          ]
        }
      ]
    },
    {
      "cell_type": "code",
      "source": [
        "# XGBOOST\n",
        "import xgboost as xgb\n",
        "\n",
        "# XGBoost com Cross Validation\n",
        "\n",
        "from sklearn.model_selection import GridSearchCV\n",
        "\n",
        "# Define um conjunto de possíveis valores para os hiperparâmetros\n",
        "params = {'learning_rate': [0.1, 0.2, 0.3],\n",
        "          'alpha': [5, 10, 15],\n",
        "          'colsample_bytree': [0.1, 0.3, 0.5, 0.7, 1.0],\n",
        "          'max_depth': [3, 4, 5]}\n",
        "\n",
        "# Cria o modelo\n",
        "xgb_model_cv_gs = xgb.XGBClassifier(objective=\"binary:logistic\", random_state=seed,\n",
        "                                    eval_metric=\"auc\", n_estimators=10,use_label_encoder=False)\n",
        "\n",
        "# Cria o grid search com validação cruzada estratificada\n",
        "skf = StratifiedKFold(n_splits=3, shuffle=True, random_state=seed)\n",
        "grid_search = GridSearchCV(xgb_model_cv_gs, param_grid=params, scoring='roc_auc',\n",
        "                           cv=skf.split(X_training, y_training))\n",
        "\n",
        "# Treina o modelo e printa os melhores hiperparâmetros\n",
        "grid_search.fit(X_training, y_training)\n",
        "print('\\n Melhores hiperparâmetros:')\n",
        "print(grid_search.best_params_)\n",
        "\n",
        "# Obtém os resultados da validação cruzada\n",
        "cv_results = pd.DataFrame(grid_search.cv_results_)\n",
        "print(\"Acurácia média no conjunto de validação: {:.3f} +/- {:.3f}\".format(\n",
        "  cv_results[cv_results.rank_test_score == 1].mean_test_score.values[0],\n",
        "  cv_results[cv_results.rank_test_score == 1].std_test_score.values[0])\n",
        ")\n",
        "\n",
        "# Atribui os melhores valores para os hiperparâmetros\n",
        "xgb_model_cv_gs.set_params(learning_rate = grid_search.best_params_['learning_rate'],\n",
        "                           alpha = grid_search.best_params_['alpha'],\n",
        "                           colsample_bytree = grid_search.best_params_['colsample_bytree'],\n",
        "                           max_depth = grid_search.best_params_['max_depth'])\n",
        "\n",
        "# Treina o modelo usando os melhores hiperparâmetros\n",
        "xgb_model_cv_gs.fit(X_training, y_training)\n",
        "\n",
        "y_pred_xgb = xgb_model_cv_gs.predict(X_val)\n",
        "\n",
        "print(\"Acurácia no dataset de treino: {:.3f}\".format(xgb_model_cv_gs.score(X_train, y_train)))\n",
        "print(\"Acurácia no dataset de validação: {:.3f}\".format(xgb_model_cv_gs.score(X_val, y_val)))\n",
        "print(classification_report(y_val, y_pred_xgb))\n",
        "print(confusion_matrix(y_val, y_pred_xgb))\n",
        "print(\"AUC: {:.3f}\".format(roc_auc_score(y_val, y_pred_xgb)))\n",
        "\n",
        "#Métrica de Avaliação do Modelo (Utilizado para nota)\n",
        "acur_val_xgb = xgb_model_cv_gs.score(X_val, y_val)\n",
        "\n",
        "ex_6_5 = acur_val_xgb"
      ],
      "metadata": {
        "colab": {
          "base_uri": "https://localhost:8080/"
        },
        "id": "6sYX0zg6oOaV",
        "outputId": "45eeb50a-5aa7-47cd-8d96-8eb0b4a1702d"
      },
      "execution_count": null,
      "outputs": [
        {
          "output_type": "stream",
          "name": "stdout",
          "text": [
            "\n",
            " Melhores hiperparâmetros:\n",
            "{'alpha': 5, 'colsample_bytree': 1.0, 'learning_rate': 0.3, 'max_depth': 4}\n",
            "Acurácia média no conjunto de validação: 0.845 +/- 0.013\n",
            "Acurácia no dataset de treino: 0.806\n",
            "Acurácia no dataset de validação: 0.818\n",
            "              precision    recall  f1-score   support\n",
            "\n",
            "           0       0.85      0.91      0.88      1281\n",
            "           1       0.69      0.57      0.62       463\n",
            "\n",
            "    accuracy                           0.82      1744\n",
            "   macro avg       0.77      0.74      0.75      1744\n",
            "weighted avg       0.81      0.82      0.81      1744\n",
            "\n",
            "[[1164  117]\n",
            " [ 200  263]]\n",
            "AUC: 0.738\n"
          ]
        }
      ]
    },
    {
      "cell_type": "code",
      "source": [
        "# Jutando a decisição de cada metódo para votarem e fazerem juntos a previsão\n",
        "from sklearn.ensemble import VotingClassifier\n",
        "clf = DecisionTreeClassifier(random_state=seed, max_depth= 4, min_samples_leaf= 3, min_samples_split= 2)\n",
        "clf1 = RandomForestClassifier(random_state=seed, max_depth= 5, min_samples_leaf= 1, min_samples_split= 5)\n",
        "clf2 = LogisticRegression(random_state=seed, solver='liblinear', C=150)\n",
        "clf3 = xgb.XGBClassifier(alpha= 5, colsample_bytree= 1.0, learning_rate =0.3, max_depth= 4, random_state=seed, objective=\"binary:logistic\", eval_metric=\"auc\")\n",
        "\n",
        "eclf = VotingClassifier(estimators=[('DT', clf),('RF', clf1), ('LR', clf2), ('XGB', clf3)],\n",
        "                        voting='soft', weights=[2,0,2,2])\n",
        "\n",
        "eclf.fit(X_train, y_train)"
      ],
      "metadata": {
        "colab": {
          "base_uri": "https://localhost:8080/"
        },
        "id": "0GnhIQW0oROz",
        "outputId": "9791d363-a05d-4f74-b1d3-310eb6ed400a"
      },
      "execution_count": null,
      "outputs": [
        {
          "output_type": "execute_result",
          "data": {
            "text/plain": [
              "VotingClassifier(estimators=[('DT',\n",
              "                              DecisionTreeClassifier(max_depth=4,\n",
              "                                                     min_samples_leaf=3,\n",
              "                                                     random_state=0)),\n",
              "                             ('RF',\n",
              "                              RandomForestClassifier(max_depth=5,\n",
              "                                                     min_samples_split=5,\n",
              "                                                     random_state=0)),\n",
              "                             ('LR',\n",
              "                              LogisticRegression(C=150, random_state=0,\n",
              "                                                 solver='liblinear')),\n",
              "                             ('XGB',\n",
              "                              XGBClassifier(alpha=5, colsample_bytree=1.0,\n",
              "                                            eval_metric='auc',\n",
              "                                            learning_rate=0.3, max_depth=4))],\n",
              "                 voting='soft', weights=[2, 0, 2, 2])"
            ]
          },
          "metadata": {},
          "execution_count": 241
        }
      ]
    },
    {
      "cell_type": "code",
      "source": [
        "# Avaliando o modelo\n",
        "predictions = eclf.predict(X_test)\n",
        "print(classification_report(y_test, predictions))"
      ],
      "metadata": {
        "colab": {
          "base_uri": "https://localhost:8080/"
        },
        "id": "CX2fhL_roh0S",
        "outputId": "88771af3-6030-45e1-cb8a-db1d8056cc6b"
      },
      "execution_count": null,
      "outputs": [
        {
          "output_type": "stream",
          "name": "stdout",
          "text": [
            "              precision    recall  f1-score   support\n",
            "\n",
            "           0       0.84      0.90      0.87      1294\n",
            "           1       0.65      0.54      0.59       467\n",
            "\n",
            "    accuracy                           0.80      1761\n",
            "   macro avg       0.75      0.72      0.73      1761\n",
            "weighted avg       0.79      0.80      0.79      1761\n",
            "\n"
          ]
        }
      ]
    },
    {
      "cell_type": "code",
      "source": [
        "# Ainda avaliando o modelo\n",
        "plt.figure(figsize=(6,4))\n",
        "sns.heatmap(confusion_matrix(y_test, predictions), annot=True,fmt = \"d\")\n",
        "    \n",
        "plt.title(\"Matriz de Confusão\",fontsize=10)\n",
        "plt.show()"
      ],
      "metadata": {
        "colab": {
          "base_uri": "https://localhost:8080/",
          "height": 279
        },
        "id": "e1Zezng_oobb",
        "outputId": "28e8c3eb-7edf-4ac6-ef42-34f6883f1ba4"
      },
      "execution_count": null,
      "outputs": [
        {
          "output_type": "display_data",
          "data": {
            "text/plain": [
              "<Figure size 432x288 with 2 Axes>"
            ],
            "image/png": "[encoded data removed]"
          },
          "metadata": {
            "needs_background": "light"
          }
        }
      ]
    },
    {
      "cell_type": "code",
      "source": [
        "from sklearn.metrics import accuracy_score\n",
        "print(accuracy_score(y_test, predictions))"
      ],
      "metadata": {
        "colab": {
          "base_uri": "https://localhost:8080/"
        },
        "id": "G_fhQrt8qDbq",
        "outputId": "2b1faf94-0a25-4e81-828e-9e7cbb5fec5e"
      },
      "execution_count": null,
      "outputs": [
        {
          "output_type": "stream",
          "name": "stdout",
          "text": [
            "0.8006814310051107\n"
          ]
        }
      ]
    }
  ]
}