{
  "nbformat": 4,
  "nbformat_minor": 0,
  "metadata": {
    "colab": {
      "provenance": [],
      "authorship_tag": "ABX9TyP3LuZx0E7P/S1sQtQGIu8x",
      "include_colab_link": true
    },
    "kernelspec": {
      "name": "python3",
      "display_name": "Python 3"
    },
    "language_info": {
      "name": "python"
    }
  },
  "cells": [
    {
      "cell_type": "markdown",
      "metadata": {
        "id": "view-in-github",
        "colab_type": "text"
      },
      "source": [
        "<a href=\"https://colab.research.google.com/github/soaresbru/bootcamp-Unimed-Data-science/blob/main/An%C3%A1lise%20explorat%C3%B3ria.ipynb\" target=\"_parent\"><img src=\"https://colab.research.google.com/assets/colab-badge.svg\" alt=\"Open In Colab\"/></a>"
      ]
    },
    {
      "cell_type": "code",
      "execution_count": null,
      "metadata": {
        "id": "60esweMrA1uJ"
      },
      "outputs": [],
      "source": [
        "# importando as bibliotecas padrões\n",
        "import numpy as np\n",
        "import pandas as pd\n",
        "import seaborn as sns\n",
        "import matplotlib.pyplot as plt\n",
        "import sqlalchemy"
      ]
    },
    {
      "cell_type": "code",
      "source": [
        "#lendo os arquivos\n",
        "midia = pd.read_excel('/content/Gasto com Mídia.xlsx')\n",
        "origem = pd.read_csv('/content/ORIGEM_TRAFEGO.csv', delimiter=';')\n",
        "clientes = pd.read_parquet('/content/cadastro_clientes.parquet')"
      ],
      "metadata": {
        "id": "OMHU7Lu8BR1t"
      },
      "execution_count": null,
      "outputs": []
    },
    {
      "cell_type": "markdown",
      "source": [
        "Analisando o arquivo de mídia"
      ],
      "metadata": {
        "id": "85uxSWM6vKil"
      }
    },
    {
      "cell_type": "code",
      "source": [
        "midia.head()"
      ],
      "metadata": {
        "colab": {
          "base_uri": "https://localhost:8080/",
          "height": 206
        },
        "id": "uboMD5FCBsxO",
        "outputId": "a32796b6-f97a-439a-d703-74796f2195ca"
      },
      "execution_count": null,
      "outputs": [
        {
          "output_type": "execute_result",
          "data": {
            "text/plain": [
              "         Dia  Facebook Ads  Google Ads\n",
              "0 2020-01-01        620.02      987.46\n",
              "1 2020-01-02        596.95     1165.32\n",
              "2 2020-01-03        691.31      876.76\n",
              "3 2020-01-04        554.15      804.85\n",
              "4 2020-01-05        696.08      899.13"
            ],
            "text/html": [
              "\n",
              "  <div id=\"df-f17f7de5-2bf3-4e05-9e4d-c028b349f641\">\n",
              "    <div class=\"colab-df-container\">\n",
              "      <div>\n",
              "<style scoped>\n",
              "    .dataframe tbody tr th:only-of-type {\n",
              "        vertical-align: middle;\n",
              "    }\n",
              "\n",
              "    .dataframe tbody tr th {\n",
              "        vertical-align: top;\n",
              "    }\n",
              "\n",
              "    .dataframe thead th {\n",
              "        text-align: right;\n",
              "    }\n",
              "</style>\n",
              "<table border=\"1\" class=\"dataframe\">\n",
              "  <thead>\n",
              "    <tr style=\"text-align: right;\">\n",
              "      <th></th>\n",
              "      <th>Dia</th>\n",
              "      <th>Facebook Ads</th>\n",
              "      <th>Google Ads</th>\n",
              "    </tr>\n",
              "  </thead>\n",
              "  <tbody>\n",
              "    <tr>\n",
              "      <th>0</th>\n",
              "      <td>2020-01-01</td>\n",
              "      <td>620.02</td>\n",
              "      <td>987.46</td>\n",
              "    </tr>\n",
              "    <tr>\n",
              "      <th>1</th>\n",
              "      <td>2020-01-02</td>\n",
              "      <td>596.95</td>\n",
              "      <td>1165.32</td>\n",
              "    </tr>\n",
              "    <tr>\n",
              "      <th>2</th>\n",
              "      <td>2020-01-03</td>\n",
              "      <td>691.31</td>\n",
              "      <td>876.76</td>\n",
              "    </tr>\n",
              "    <tr>\n",
              "      <th>3</th>\n",
              "      <td>2020-01-04</td>\n",
              "      <td>554.15</td>\n",
              "      <td>804.85</td>\n",
              "    </tr>\n",
              "    <tr>\n",
              "      <th>4</th>\n",
              "      <td>2020-01-05</td>\n",
              "      <td>696.08</td>\n",
              "      <td>899.13</td>\n",
              "    </tr>\n",
              "  </tbody>\n",
              "</table>\n",
              "</div>\n",
              "      <button class=\"colab-df-convert\" onclick=\"convertToInteractive('df-f17f7de5-2bf3-4e05-9e4d-c028b349f641')\"\n",
              "              title=\"Convert this dataframe to an interactive table.\"\n",
              "              style=\"display:none;\">\n",
              "        \n",
              "  <svg xmlns=\"http://www.w3.org/2000/svg\" height=\"24px\"viewBox=\"0 0 24 24\"\n",
              "       width=\"24px\">\n",
              "    <path d=\"M0 0h24v24H0V0z\" fill=\"none\"/>\n",
              "    <path d=\"M18.56 5.44l.94 2.06.94-2.06 2.06-.94-2.06-.94-.94-2.06-.94 2.06-2.06.94zm-11 1L8.5 8.5l.94-2.06 2.06-.94-2.06-.94L8.5 2.5l-.94 2.06-2.06.94zm10 10l.94 2.06.94-2.06 2.06-.94-2.06-.94-.94-2.06-.94 2.06-2.06.94z\"/><path d=\"M17.41 7.96l-1.37-1.37c-.4-.4-.92-.59-1.43-.59-.52 0-1.04.2-1.43.59L10.3 9.45l-7.72 7.72c-.78.78-.78 2.05 0 2.83L4 21.41c.39.39.9.59 1.41.59.51 0 1.02-.2 1.41-.59l7.78-7.78 2.81-2.81c.8-.78.8-2.07 0-2.86zM5.41 20L4 18.59l7.72-7.72 1.47 1.35L5.41 20z\"/>\n",
              "  </svg>\n",
              "      </button>\n",
              "      \n",
              "  <style>\n",
              "    .colab-df-container {\n",
              "      display:flex;\n",
              "      flex-wrap:wrap;\n",
              "      gap: 12px;\n",
              "    }\n",
              "\n",
              "    .colab-df-convert {\n",
              "      background-color: #E8F0FE;\n",
              "      border: none;\n",
              "      border-radius: 50%;\n",
              "      cursor: pointer;\n",
              "      display: none;\n",
              "      fill: #1967D2;\n",
              "      height: 32px;\n",
              "      padding: 0 0 0 0;\n",
              "      width: 32px;\n",
              "    }\n",
              "\n",
              "    .colab-df-convert:hover {\n",
              "      background-color: #E2EBFA;\n",
              "      box-shadow: 0px 1px 2px rgba(60, 64, 67, 0.3), 0px 1px 3px 1px rgba(60, 64, 67, 0.15);\n",
              "      fill: #174EA6;\n",
              "    }\n",
              "\n",
              "    [theme=dark] .colab-df-convert {\n",
              "      background-color: #3B4455;\n",
              "      fill: #D2E3FC;\n",
              "    }\n",
              "\n",
              "    [theme=dark] .colab-df-convert:hover {\n",
              "      background-color: #434B5C;\n",
              "      box-shadow: 0px 1px 3px 1px rgba(0, 0, 0, 0.15);\n",
              "      filter: drop-shadow(0px 1px 2px rgba(0, 0, 0, 0.3));\n",
              "      fill: #FFFFFF;\n",
              "    }\n",
              "  </style>\n",
              "\n",
              "      <script>\n",
              "        const buttonEl =\n",
              "          document.querySelector('#df-f17f7de5-2bf3-4e05-9e4d-c028b349f641 button.colab-df-convert');\n",
              "        buttonEl.style.display =\n",
              "          google.colab.kernel.accessAllowed ? 'block' : 'none';\n",
              "\n",
              "        async function convertToInteractive(key) {\n",
              "          const element = document.querySelector('#df-f17f7de5-2bf3-4e05-9e4d-c028b349f641');\n",
              "          const dataTable =\n",
              "            await google.colab.kernel.invokeFunction('convertToInteractive',\n",
              "                                                     [key], {});\n",
              "          if (!dataTable) return;\n",
              "\n",
              "          const docLinkHtml = 'Like what you see? Visit the ' +\n",
              "            '<a target=\"_blank\" href=https://colab.research.google.com/notebooks/data_table.ipynb>data table notebook</a>'\n",
              "            + ' to learn more about interactive tables.';\n",
              "          element.innerHTML = '';\n",
              "          dataTable['output_type'] = 'display_data';\n",
              "          await google.colab.output.renderOutput(dataTable, element);\n",
              "          const docLink = document.createElement('div');\n",
              "          docLink.innerHTML = docLinkHtml;\n",
              "          element.appendChild(docLink);\n",
              "        }\n",
              "      </script>\n",
              "    </div>\n",
              "  </div>\n",
              "  "
            ]
          },
          "metadata": {},
          "execution_count": 3
        }
      ]
    },
    {
      "cell_type": "code",
      "source": [
        "midia.info()"
      ],
      "metadata": {
        "colab": {
          "base_uri": "https://localhost:8080/"
        },
        "id": "oM7R8adaPAYJ",
        "outputId": "b203403b-da85-4a81-ca34-68913aec96dc"
      },
      "execution_count": null,
      "outputs": [
        {
          "output_type": "stream",
          "name": "stdout",
          "text": [
            "<class 'pandas.core.frame.DataFrame'>\n",
            "RangeIndex: 456 entries, 0 to 455\n",
            "Data columns (total 3 columns):\n",
            " #   Column        Non-Null Count  Dtype         \n",
            "---  ------        --------------  -----         \n",
            " 0   Dia           456 non-null    datetime64[ns]\n",
            " 1   Facebook Ads  456 non-null    float64       \n",
            " 2   Google Ads    456 non-null    float64       \n",
            "dtypes: datetime64[ns](1), float64(2)\n",
            "memory usage: 10.8 KB\n"
          ]
        }
      ]
    },
    {
      "cell_type": "code",
      "source": [
        "midia.describe()"
      ],
      "metadata": {
        "colab": {
          "base_uri": "https://localhost:8080/",
          "height": 300
        },
        "id": "dKneU_JoBzNv",
        "outputId": "abe3c9c8-6661-4900-8deb-28e91d28da5d"
      },
      "execution_count": null,
      "outputs": [
        {
          "output_type": "execute_result",
          "data": {
            "text/plain": [
              "       Facebook Ads   Google Ads\n",
              "count    456.000000   456.000000\n",
              "mean    1535.800461   809.000197\n",
              "std     1146.435285   734.727751\n",
              "min        0.000000   140.830000\n",
              "25%      729.662500   456.072500\n",
              "50%     1040.945000   615.595000\n",
              "75%     2233.162500   825.445000\n",
              "max     6151.030000  7899.190000"
            ],
            "text/html": [
              "\n",
              "  <div id=\"df-670d6312-4583-46d3-92ae-ad075c2ef3a1\">\n",
              "    <div class=\"colab-df-container\">\n",
              "      <div>\n",
              "<style scoped>\n",
              "    .dataframe tbody tr th:only-of-type {\n",
              "        vertical-align: middle;\n",
              "    }\n",
              "\n",
              "    .dataframe tbody tr th {\n",
              "        vertical-align: top;\n",
              "    }\n",
              "\n",
              "    .dataframe thead th {\n",
              "        text-align: right;\n",
              "    }\n",
              "</style>\n",
              "<table border=\"1\" class=\"dataframe\">\n",
              "  <thead>\n",
              "    <tr style=\"text-align: right;\">\n",
              "      <th></th>\n",
              "      <th>Facebook Ads</th>\n",
              "      <th>Google Ads</th>\n",
              "    </tr>\n",
              "  </thead>\n",
              "  <tbody>\n",
              "    <tr>\n",
              "      <th>count</th>\n",
              "      <td>456.000000</td>\n",
              "      <td>456.000000</td>\n",
              "    </tr>\n",
              "    <tr>\n",
              "      <th>mean</th>\n",
              "      <td>1535.800461</td>\n",
              "      <td>809.000197</td>\n",
              "    </tr>\n",
              "    <tr>\n",
              "      <th>std</th>\n",
              "      <td>1146.435285</td>\n",
              "      <td>734.727751</td>\n",
              "    </tr>\n",
              "    <tr>\n",
              "      <th>min</th>\n",
              "      <td>0.000000</td>\n",
              "      <td>140.830000</td>\n",
              "    </tr>\n",
              "    <tr>\n",
              "      <th>25%</th>\n",
              "      <td>729.662500</td>\n",
              "      <td>456.072500</td>\n",
              "    </tr>\n",
              "    <tr>\n",
              "      <th>50%</th>\n",
              "      <td>1040.945000</td>\n",
              "      <td>615.595000</td>\n",
              "    </tr>\n",
              "    <tr>\n",
              "      <th>75%</th>\n",
              "      <td>2233.162500</td>\n",
              "      <td>825.445000</td>\n",
              "    </tr>\n",
              "    <tr>\n",
              "      <th>max</th>\n",
              "      <td>6151.030000</td>\n",
              "      <td>7899.190000</td>\n",
              "    </tr>\n",
              "  </tbody>\n",
              "</table>\n",
              "</div>\n",
              "      <button class=\"colab-df-convert\" onclick=\"convertToInteractive('df-670d6312-4583-46d3-92ae-ad075c2ef3a1')\"\n",
              "              title=\"Convert this dataframe to an interactive table.\"\n",
              "              style=\"display:none;\">\n",
              "        \n",
              "  <svg xmlns=\"http://www.w3.org/2000/svg\" height=\"24px\"viewBox=\"0 0 24 24\"\n",
              "       width=\"24px\">\n",
              "    <path d=\"M0 0h24v24H0V0z\" fill=\"none\"/>\n",
              "    <path d=\"M18.56 5.44l.94 2.06.94-2.06 2.06-.94-2.06-.94-.94-2.06-.94 2.06-2.06.94zm-11 1L8.5 8.5l.94-2.06 2.06-.94-2.06-.94L8.5 2.5l-.94 2.06-2.06.94zm10 10l.94 2.06.94-2.06 2.06-.94-2.06-.94-.94-2.06-.94 2.06-2.06.94z\"/><path d=\"M17.41 7.96l-1.37-1.37c-.4-.4-.92-.59-1.43-.59-.52 0-1.04.2-1.43.59L10.3 9.45l-7.72 7.72c-.78.78-.78 2.05 0 2.83L4 21.41c.39.39.9.59 1.41.59.51 0 1.02-.2 1.41-.59l7.78-7.78 2.81-2.81c.8-.78.8-2.07 0-2.86zM5.41 20L4 18.59l7.72-7.72 1.47 1.35L5.41 20z\"/>\n",
              "  </svg>\n",
              "      </button>\n",
              "      \n",
              "  <style>\n",
              "    .colab-df-container {\n",
              "      display:flex;\n",
              "      flex-wrap:wrap;\n",
              "      gap: 12px;\n",
              "    }\n",
              "\n",
              "    .colab-df-convert {\n",
              "      background-color: #E8F0FE;\n",
              "      border: none;\n",
              "      border-radius: 50%;\n",
              "      cursor: pointer;\n",
              "      display: none;\n",
              "      fill: #1967D2;\n",
              "      height: 32px;\n",
              "      padding: 0 0 0 0;\n",
              "      width: 32px;\n",
              "    }\n",
              "\n",
              "    .colab-df-convert:hover {\n",
              "      background-color: #E2EBFA;\n",
              "      box-shadow: 0px 1px 2px rgba(60, 64, 67, 0.3), 0px 1px 3px 1px rgba(60, 64, 67, 0.15);\n",
              "      fill: #174EA6;\n",
              "    }\n",
              "\n",
              "    [theme=dark] .colab-df-convert {\n",
              "      background-color: #3B4455;\n",
              "      fill: #D2E3FC;\n",
              "    }\n",
              "\n",
              "    [theme=dark] .colab-df-convert:hover {\n",
              "      background-color: #434B5C;\n",
              "      box-shadow: 0px 1px 3px 1px rgba(0, 0, 0, 0.15);\n",
              "      filter: drop-shadow(0px 1px 2px rgba(0, 0, 0, 0.3));\n",
              "      fill: #FFFFFF;\n",
              "    }\n",
              "  </style>\n",
              "\n",
              "      <script>\n",
              "        const buttonEl =\n",
              "          document.querySelector('#df-670d6312-4583-46d3-92ae-ad075c2ef3a1 button.colab-df-convert');\n",
              "        buttonEl.style.display =\n",
              "          google.colab.kernel.accessAllowed ? 'block' : 'none';\n",
              "\n",
              "        async function convertToInteractive(key) {\n",
              "          const element = document.querySelector('#df-670d6312-4583-46d3-92ae-ad075c2ef3a1');\n",
              "          const dataTable =\n",
              "            await google.colab.kernel.invokeFunction('convertToInteractive',\n",
              "                                                     [key], {});\n",
              "          if (!dataTable) return;\n",
              "\n",
              "          const docLinkHtml = 'Like what you see? Visit the ' +\n",
              "            '<a target=\"_blank\" href=https://colab.research.google.com/notebooks/data_table.ipynb>data table notebook</a>'\n",
              "            + ' to learn more about interactive tables.';\n",
              "          element.innerHTML = '';\n",
              "          dataTable['output_type'] = 'display_data';\n",
              "          await google.colab.output.renderOutput(dataTable, element);\n",
              "          const docLink = document.createElement('div');\n",
              "          docLink.innerHTML = docLinkHtml;\n",
              "          element.appendChild(docLink);\n",
              "        }\n",
              "      </script>\n",
              "    </div>\n",
              "  </div>\n",
              "  "
            ]
          },
          "metadata": {},
          "execution_count": 5
        }
      ]
    },
    {
      "cell_type": "code",
      "source": [
        "midia.sum().sort_values(ascending=False)\n",
        "#é possível observar que o total gasto com mídia foi bem maior com Facebook do que com Google\n",
        "# Então é esperado mais pessoas vindo do Facebook"
      ],
      "metadata": {
        "colab": {
          "base_uri": "https://localhost:8080/"
        },
        "id": "KjYK3366KTiB",
        "outputId": "4d0cc180-c25b-4d59-b824-088e60f41f50"
      },
      "execution_count": null,
      "outputs": [
        {
          "output_type": "stream",
          "name": "stderr",
          "text": [
            "/usr/local/lib/python3.7/dist-packages/ipykernel_launcher.py:1: FutureWarning: Dropping of nuisance columns in DataFrame reductions (with 'numeric_only=None') is deprecated; in a future version this will raise TypeError.  Select only valid columns before calling the reduction.\n",
            "  \"\"\"Entry point for launching an IPython kernel.\n"
          ]
        },
        {
          "output_type": "execute_result",
          "data": {
            "text/plain": [
              "Facebook Ads    700325.01\n",
              "Google Ads      368904.09\n",
              "dtype: float64"
            ]
          },
          "metadata": {},
          "execution_count": 6
        }
      ]
    },
    {
      "cell_type": "code",
      "source": [
        "plt.figure(figsize=(15,6))\n",
        "plt.plot(midia['Dia'],midia['Facebook Ads'], label='Facebook')\n",
        "plt.plot(midia['Dia'],midia['Google Ads'], label='Google')\n",
        "\n",
        "plt.title(\"Valor gasto em mídia de 01/2020 até 03/2021\",fontsize=15)\n",
        "plt.xlabel(\"Data\",fontsize=13)\n",
        "plt.ylabel(\"Valor Gasto\",fontsize=13)\n",
        "plt.legend()\n",
        "plt.show()"
      ],
      "metadata": {
        "colab": {
          "base_uri": "https://localhost:8080/",
          "height": 410
        },
        "id": "PKzfrelnUo7o",
        "outputId": "188d4aff-0d03-4c4b-93a4-25d78abf01a2"
      },
      "execution_count": null,
      "outputs": [
        {
          "output_type": "display_data",
          "data": {
            "text/plain": [
              "<Figure size 1080x432 with 1 Axes>"
            ],
            "image/png": "[encoded data removed]"
          },
          "metadata": {
            "needs_background": "light"
          }
        }
      ]
    },
    {
      "cell_type": "markdown",
      "source": [
        "Analisando a origem do tráfego"
      ],
      "metadata": {
        "id": "LDfqMlVrvgZq"
      }
    },
    {
      "cell_type": "code",
      "source": [
        "origem.head()"
      ],
      "metadata": {
        "colab": {
          "base_uri": "https://localhost:8080/",
          "height": 206
        },
        "id": "COjvix4aCKS-",
        "outputId": "456ff7af-69e1-4edb-883e-f3a38c43a1a9"
      },
      "execution_count": null,
      "outputs": [
        {
          "output_type": "execute_result",
          "data": {
            "text/plain": [
              "     PEDIDO_ERP CANAL_MARKETING\n",
              "0  P10000123123      Google Ads\n",
              "1  P10000123124    Facebook Ads\n",
              "2  P10000123125           Email\n",
              "3  P10000123126          Direto\n",
              "4  P10000123127  Busca orgânica"
            ],
            "text/html": [
              "\n",
              "  <div id=\"df-f75a5399-c00a-4b9c-bb74-dbb27da8db8c\">\n",
              "    <div class=\"colab-df-container\">\n",
              "      <div>\n",
              "<style scoped>\n",
              "    .dataframe tbody tr th:only-of-type {\n",
              "        vertical-align: middle;\n",
              "    }\n",
              "\n",
              "    .dataframe tbody tr th {\n",
              "        vertical-align: top;\n",
              "    }\n",
              "\n",
              "    .dataframe thead th {\n",
              "        text-align: right;\n",
              "    }\n",
              "</style>\n",
              "<table border=\"1\" class=\"dataframe\">\n",
              "  <thead>\n",
              "    <tr style=\"text-align: right;\">\n",
              "      <th></th>\n",
              "      <th>PEDIDO_ERP</th>\n",
              "      <th>CANAL_MARKETING</th>\n",
              "    </tr>\n",
              "  </thead>\n",
              "  <tbody>\n",
              "    <tr>\n",
              "      <th>0</th>\n",
              "      <td>P10000123123</td>\n",
              "      <td>Google Ads</td>\n",
              "    </tr>\n",
              "    <tr>\n",
              "      <th>1</th>\n",
              "      <td>P10000123124</td>\n",
              "      <td>Facebook Ads</td>\n",
              "    </tr>\n",
              "    <tr>\n",
              "      <th>2</th>\n",
              "      <td>P10000123125</td>\n",
              "      <td>Email</td>\n",
              "    </tr>\n",
              "    <tr>\n",
              "      <th>3</th>\n",
              "      <td>P10000123126</td>\n",
              "      <td>Direto</td>\n",
              "    </tr>\n",
              "    <tr>\n",
              "      <th>4</th>\n",
              "      <td>P10000123127</td>\n",
              "      <td>Busca orgânica</td>\n",
              "    </tr>\n",
              "  </tbody>\n",
              "</table>\n",
              "</div>\n",
              "      <button class=\"colab-df-convert\" onclick=\"convertToInteractive('df-f75a5399-c00a-4b9c-bb74-dbb27da8db8c')\"\n",
              "              title=\"Convert this dataframe to an interactive table.\"\n",
              "              style=\"display:none;\">\n",
              "        \n",
              "  <svg xmlns=\"http://www.w3.org/2000/svg\" height=\"24px\"viewBox=\"0 0 24 24\"\n",
              "       width=\"24px\">\n",
              "    <path d=\"M0 0h24v24H0V0z\" fill=\"none\"/>\n",
              "    <path d=\"M18.56 5.44l.94 2.06.94-2.06 2.06-.94-2.06-.94-.94-2.06-.94 2.06-2.06.94zm-11 1L8.5 8.5l.94-2.06 2.06-.94-2.06-.94L8.5 2.5l-.94 2.06-2.06.94zm10 10l.94 2.06.94-2.06 2.06-.94-2.06-.94-.94-2.06-.94 2.06-2.06.94z\"/><path d=\"M17.41 7.96l-1.37-1.37c-.4-.4-.92-.59-1.43-.59-.52 0-1.04.2-1.43.59L10.3 9.45l-7.72 7.72c-.78.78-.78 2.05 0 2.83L4 21.41c.39.39.9.59 1.41.59.51 0 1.02-.2 1.41-.59l7.78-7.78 2.81-2.81c.8-.78.8-2.07 0-2.86zM5.41 20L4 18.59l7.72-7.72 1.47 1.35L5.41 20z\"/>\n",
              "  </svg>\n",
              "      </button>\n",
              "      \n",
              "  <style>\n",
              "    .colab-df-container {\n",
              "      display:flex;\n",
              "      flex-wrap:wrap;\n",
              "      gap: 12px;\n",
              "    }\n",
              "\n",
              "    .colab-df-convert {\n",
              "      background-color: #E8F0FE;\n",
              "      border: none;\n",
              "      border-radius: 50%;\n",
              "      cursor: pointer;\n",
              "      display: none;\n",
              "      fill: #1967D2;\n",
              "      height: 32px;\n",
              "      padding: 0 0 0 0;\n",
              "      width: 32px;\n",
              "    }\n",
              "\n",
              "    .colab-df-convert:hover {\n",
              "      background-color: #E2EBFA;\n",
              "      box-shadow: 0px 1px 2px rgba(60, 64, 67, 0.3), 0px 1px 3px 1px rgba(60, 64, 67, 0.15);\n",
              "      fill: #174EA6;\n",
              "    }\n",
              "\n",
              "    [theme=dark] .colab-df-convert {\n",
              "      background-color: #3B4455;\n",
              "      fill: #D2E3FC;\n",
              "    }\n",
              "\n",
              "    [theme=dark] .colab-df-convert:hover {\n",
              "      background-color: #434B5C;\n",
              "      box-shadow: 0px 1px 3px 1px rgba(0, 0, 0, 0.15);\n",
              "      filter: drop-shadow(0px 1px 2px rgba(0, 0, 0, 0.3));\n",
              "      fill: #FFFFFF;\n",
              "    }\n",
              "  </style>\n",
              "\n",
              "      <script>\n",
              "        const buttonEl =\n",
              "          document.querySelector('#df-f75a5399-c00a-4b9c-bb74-dbb27da8db8c button.colab-df-convert');\n",
              "        buttonEl.style.display =\n",
              "          google.colab.kernel.accessAllowed ? 'block' : 'none';\n",
              "\n",
              "        async function convertToInteractive(key) {\n",
              "          const element = document.querySelector('#df-f75a5399-c00a-4b9c-bb74-dbb27da8db8c');\n",
              "          const dataTable =\n",
              "            await google.colab.kernel.invokeFunction('convertToInteractive',\n",
              "                                                     [key], {});\n",
              "          if (!dataTable) return;\n",
              "\n",
              "          const docLinkHtml = 'Like what you see? Visit the ' +\n",
              "            '<a target=\"_blank\" href=https://colab.research.google.com/notebooks/data_table.ipynb>data table notebook</a>'\n",
              "            + ' to learn more about interactive tables.';\n",
              "          element.innerHTML = '';\n",
              "          dataTable['output_type'] = 'display_data';\n",
              "          await google.colab.output.renderOutput(dataTable, element);\n",
              "          const docLink = document.createElement('div');\n",
              "          docLink.innerHTML = docLinkHtml;\n",
              "          element.appendChild(docLink);\n",
              "        }\n",
              "      </script>\n",
              "    </div>\n",
              "  </div>\n",
              "  "
            ]
          },
          "metadata": {},
          "execution_count": 8
        }
      ]
    },
    {
      "cell_type": "code",
      "source": [
        "origem.info()"
      ],
      "metadata": {
        "colab": {
          "base_uri": "https://localhost:8080/"
        },
        "id": "afBPG7fGCSi3",
        "outputId": "8aa92309-5bdd-4177-c252-7740b1f1d4de"
      },
      "execution_count": null,
      "outputs": [
        {
          "output_type": "stream",
          "name": "stdout",
          "text": [
            "<class 'pandas.core.frame.DataFrame'>\n",
            "RangeIndex: 172031 entries, 0 to 172030\n",
            "Data columns (total 2 columns):\n",
            " #   Column           Non-Null Count   Dtype \n",
            "---  ------           --------------   ----- \n",
            " 0   PEDIDO_ERP       172031 non-null  object\n",
            " 1   CANAL_MARKETING  151600 non-null  object\n",
            "dtypes: object(2)\n",
            "memory usage: 2.6+ MB\n"
          ]
        }
      ]
    },
    {
      "cell_type": "code",
      "source": [
        "origem.groupby(['CANAL_MARKETING'])['CANAL_MARKETING'].count().sort_values(ascending=False)\n",
        "#Observa-se que a maior parte vem do Google Ads\n",
        "#Dessa forma pode ser que está gastando dinheiro demais em Facebook Ads para obter pouco retorno"
      ],
      "metadata": {
        "colab": {
          "base_uri": "https://localhost:8080/"
        },
        "id": "ZnuW9Gj2HBDQ",
        "outputId": "4613c48a-f50a-4f52-a24d-66a52f64e256"
      },
      "execution_count": null,
      "outputs": [
        {
          "output_type": "execute_result",
          "data": {
            "text/plain": [
              "CANAL_MARKETING\n",
              "Google Ads        60935\n",
              "Busca orgânica    28287\n",
              "Direto            17270\n",
              "Facebook Ads      14780\n",
              "Referência        10890\n",
              "Outros            10065\n",
              "Email              9373\n",
              "Name: CANAL_MARKETING, dtype: int64"
            ]
          },
          "metadata": {},
          "execution_count": 10
        }
      ]
    },
    {
      "cell_type": "markdown",
      "source": [
        "Analisando os clientes"
      ],
      "metadata": {
        "id": "_RHFDZHey7IQ"
      }
    },
    {
      "cell_type": "code",
      "source": [
        "clientes.head()"
      ],
      "metadata": {
        "colab": {
          "base_uri": "https://localhost:8080/",
          "height": 206
        },
        "id": "qzHkJkmsCtg1",
        "outputId": "3b37d87e-6fff-4a94-8868-242a144df2e6"
      },
      "execution_count": null,
      "outputs": [
        {
          "output_type": "execute_result",
          "data": {
            "text/plain": [
              "   COD_CLIENTE  IDADE  UF    REGIAO  RENDA_PRESUMIDA\n",
              "0      4000001   31.0  AL  Nordeste          6471.90\n",
              "1      4000002   51.0  RN  Nordeste          7431.55\n",
              "2      4000003   51.0  RR     Norte          8827.41\n",
              "3      4000004   33.0  MG   Sudeste          7978.01\n",
              "4      4000005   39.0  SP   Sudeste          7532.21"
            ],
            "text/html": [
              "\n",
              "  <div id=\"df-a8214504-bac7-4935-a8e7-d84867b4f253\">\n",
              "    <div class=\"colab-df-container\">\n",
              "      <div>\n",
              "<style scoped>\n",
              "    .dataframe tbody tr th:only-of-type {\n",
              "        vertical-align: middle;\n",
              "    }\n",
              "\n",
              "    .dataframe tbody tr th {\n",
              "        vertical-align: top;\n",
              "    }\n",
              "\n",
              "    .dataframe thead th {\n",
              "        text-align: right;\n",
              "    }\n",
              "</style>\n",
              "<table border=\"1\" class=\"dataframe\">\n",
              "  <thead>\n",
              "    <tr style=\"text-align: right;\">\n",
              "      <th></th>\n",
              "      <th>COD_CLIENTE</th>\n",
              "      <th>IDADE</th>\n",
              "      <th>UF</th>\n",
              "      <th>REGIAO</th>\n",
              "      <th>RENDA_PRESUMIDA</th>\n",
              "    </tr>\n",
              "  </thead>\n",
              "  <tbody>\n",
              "    <tr>\n",
              "      <th>0</th>\n",
              "      <td>4000001</td>\n",
              "      <td>31.0</td>\n",
              "      <td>AL</td>\n",
              "      <td>Nordeste</td>\n",
              "      <td>6471.90</td>\n",
              "    </tr>\n",
              "    <tr>\n",
              "      <th>1</th>\n",
              "      <td>4000002</td>\n",
              "      <td>51.0</td>\n",
              "      <td>RN</td>\n",
              "      <td>Nordeste</td>\n",
              "      <td>7431.55</td>\n",
              "    </tr>\n",
              "    <tr>\n",
              "      <th>2</th>\n",
              "      <td>4000003</td>\n",
              "      <td>51.0</td>\n",
              "      <td>RR</td>\n",
              "      <td>Norte</td>\n",
              "      <td>8827.41</td>\n",
              "    </tr>\n",
              "    <tr>\n",
              "      <th>3</th>\n",
              "      <td>4000004</td>\n",
              "      <td>33.0</td>\n",
              "      <td>MG</td>\n",
              "      <td>Sudeste</td>\n",
              "      <td>7978.01</td>\n",
              "    </tr>\n",
              "    <tr>\n",
              "      <th>4</th>\n",
              "      <td>4000005</td>\n",
              "      <td>39.0</td>\n",
              "      <td>SP</td>\n",
              "      <td>Sudeste</td>\n",
              "      <td>7532.21</td>\n",
              "    </tr>\n",
              "  </tbody>\n",
              "</table>\n",
              "</div>\n",
              "      <button class=\"colab-df-convert\" onclick=\"convertToInteractive('df-a8214504-bac7-4935-a8e7-d84867b4f253')\"\n",
              "              title=\"Convert this dataframe to an interactive table.\"\n",
              "              style=\"display:none;\">\n",
              "        \n",
              "  <svg xmlns=\"http://www.w3.org/2000/svg\" height=\"24px\"viewBox=\"0 0 24 24\"\n",
              "       width=\"24px\">\n",
              "    <path d=\"M0 0h24v24H0V0z\" fill=\"none\"/>\n",
              "    <path d=\"M18.56 5.44l.94 2.06.94-2.06 2.06-.94-2.06-.94-.94-2.06-.94 2.06-2.06.94zm-11 1L8.5 8.5l.94-2.06 2.06-.94-2.06-.94L8.5 2.5l-.94 2.06-2.06.94zm10 10l.94 2.06.94-2.06 2.06-.94-2.06-.94-.94-2.06-.94 2.06-2.06.94z\"/><path d=\"M17.41 7.96l-1.37-1.37c-.4-.4-.92-.59-1.43-.59-.52 0-1.04.2-1.43.59L10.3 9.45l-7.72 7.72c-.78.78-.78 2.05 0 2.83L4 21.41c.39.39.9.59 1.41.59.51 0 1.02-.2 1.41-.59l7.78-7.78 2.81-2.81c.8-.78.8-2.07 0-2.86zM5.41 20L4 18.59l7.72-7.72 1.47 1.35L5.41 20z\"/>\n",
              "  </svg>\n",
              "      </button>\n",
              "      \n",
              "  <style>\n",
              "    .colab-df-container {\n",
              "      display:flex;\n",
              "      flex-wrap:wrap;\n",
              "      gap: 12px;\n",
              "    }\n",
              "\n",
              "    .colab-df-convert {\n",
              "      background-color: #E8F0FE;\n",
              "      border: none;\n",
              "      border-radius: 50%;\n",
              "      cursor: pointer;\n",
              "      display: none;\n",
              "      fill: #1967D2;\n",
              "      height: 32px;\n",
              "      padding: 0 0 0 0;\n",
              "      width: 32px;\n",
              "    }\n",
              "\n",
              "    .colab-df-convert:hover {\n",
              "      background-color: #E2EBFA;\n",
              "      box-shadow: 0px 1px 2px rgba(60, 64, 67, 0.3), 0px 1px 3px 1px rgba(60, 64, 67, 0.15);\n",
              "      fill: #174EA6;\n",
              "    }\n",
              "\n",
              "    [theme=dark] .colab-df-convert {\n",
              "      background-color: #3B4455;\n",
              "      fill: #D2E3FC;\n",
              "    }\n",
              "\n",
              "    [theme=dark] .colab-df-convert:hover {\n",
              "      background-color: #434B5C;\n",
              "      box-shadow: 0px 1px 3px 1px rgba(0, 0, 0, 0.15);\n",
              "      filter: drop-shadow(0px 1px 2px rgba(0, 0, 0, 0.3));\n",
              "      fill: #FFFFFF;\n",
              "    }\n",
              "  </style>\n",
              "\n",
              "      <script>\n",
              "        const buttonEl =\n",
              "          document.querySelector('#df-a8214504-bac7-4935-a8e7-d84867b4f253 button.colab-df-convert');\n",
              "        buttonEl.style.display =\n",
              "          google.colab.kernel.accessAllowed ? 'block' : 'none';\n",
              "\n",
              "        async function convertToInteractive(key) {\n",
              "          const element = document.querySelector('#df-a8214504-bac7-4935-a8e7-d84867b4f253');\n",
              "          const dataTable =\n",
              "            await google.colab.kernel.invokeFunction('convertToInteractive',\n",
              "                                                     [key], {});\n",
              "          if (!dataTable) return;\n",
              "\n",
              "          const docLinkHtml = 'Like what you see? Visit the ' +\n",
              "            '<a target=\"_blank\" href=https://colab.research.google.com/notebooks/data_table.ipynb>data table notebook</a>'\n",
              "            + ' to learn more about interactive tables.';\n",
              "          element.innerHTML = '';\n",
              "          dataTable['output_type'] = 'display_data';\n",
              "          await google.colab.output.renderOutput(dataTable, element);\n",
              "          const docLink = document.createElement('div');\n",
              "          docLink.innerHTML = docLinkHtml;\n",
              "          element.appendChild(docLink);\n",
              "        }\n",
              "      </script>\n",
              "    </div>\n",
              "  </div>\n",
              "  "
            ]
          },
          "metadata": {},
          "execution_count": 11
        }
      ]
    },
    {
      "cell_type": "code",
      "source": [
        "clientes.info()"
      ],
      "metadata": {
        "colab": {
          "base_uri": "https://localhost:8080/"
        },
        "id": "4jQFwAV9f6Me",
        "outputId": "2fbdb567-1417-48c8-900c-06feb7068c96"
      },
      "execution_count": null,
      "outputs": [
        {
          "output_type": "stream",
          "name": "stdout",
          "text": [
            "<class 'pandas.core.frame.DataFrame'>\n",
            "RangeIndex: 146333 entries, 0 to 146332\n",
            "Data columns (total 5 columns):\n",
            " #   Column           Non-Null Count   Dtype  \n",
            "---  ------           --------------   -----  \n",
            " 0   COD_CLIENTE      146333 non-null  int64  \n",
            " 1   IDADE            146333 non-null  float64\n",
            " 2   UF               146333 non-null  object \n",
            " 3   REGIAO           146333 non-null  object \n",
            " 4   RENDA_PRESUMIDA  146333 non-null  float64\n",
            "dtypes: float64(2), int64(1), object(2)\n",
            "memory usage: 5.6+ MB\n"
          ]
        }
      ]
    },
    {
      "cell_type": "code",
      "source": [
        "clientes.describe()\n",
        "# A média e a mediana da idade é relativamente próxima, os mesmo acontece com a renda presumida"
      ],
      "metadata": {
        "colab": {
          "base_uri": "https://localhost:8080/",
          "height": 300
        },
        "id": "Jc1LU3Dyf_0s",
        "outputId": "75eff6c0-8d90-4400-eb49-149e385a40dd"
      },
      "execution_count": null,
      "outputs": [
        {
          "output_type": "execute_result",
          "data": {
            "text/plain": [
              "        COD_CLIENTE          IDADE  RENDA_PRESUMIDA\n",
              "count  1.463330e+05  146333.000000    146333.000000\n",
              "mean   4.073167e+06      37.570001      7725.349091\n",
              "std    4.224284e+04      10.134532       790.240388\n",
              "min    4.000001e+06      16.000000      4508.700000\n",
              "25%    4.036584e+06      30.000000      7208.840000\n",
              "50%    4.073167e+06      36.000000      7673.250000\n",
              "75%    4.109750e+06      46.000000      8174.280000\n",
              "max    4.146333e+06      82.000000     37943.110000"
            ],
            "text/html": [
              "\n",
              "  <div id=\"df-4791ab92-45f9-4a2a-94df-a744af4c8e49\">\n",
              "    <div class=\"colab-df-container\">\n",
              "      <div>\n",
              "<style scoped>\n",
              "    .dataframe tbody tr th:only-of-type {\n",
              "        vertical-align: middle;\n",
              "    }\n",
              "\n",
              "    .dataframe tbody tr th {\n",
              "        vertical-align: top;\n",
              "    }\n",
              "\n",
              "    .dataframe thead th {\n",
              "        text-align: right;\n",
              "    }\n",
              "</style>\n",
              "<table border=\"1\" class=\"dataframe\">\n",
              "  <thead>\n",
              "    <tr style=\"text-align: right;\">\n",
              "      <th></th>\n",
              "      <th>COD_CLIENTE</th>\n",
              "      <th>IDADE</th>\n",
              "      <th>RENDA_PRESUMIDA</th>\n",
              "    </tr>\n",
              "  </thead>\n",
              "  <tbody>\n",
              "    <tr>\n",
              "      <th>count</th>\n",
              "      <td>1.463330e+05</td>\n",
              "      <td>146333.000000</td>\n",
              "      <td>146333.000000</td>\n",
              "    </tr>\n",
              "    <tr>\n",
              "      <th>mean</th>\n",
              "      <td>4.073167e+06</td>\n",
              "      <td>37.570001</td>\n",
              "      <td>7725.349091</td>\n",
              "    </tr>\n",
              "    <tr>\n",
              "      <th>std</th>\n",
              "      <td>4.224284e+04</td>\n",
              "      <td>10.134532</td>\n",
              "      <td>790.240388</td>\n",
              "    </tr>\n",
              "    <tr>\n",
              "      <th>min</th>\n",
              "      <td>4.000001e+06</td>\n",
              "      <td>16.000000</td>\n",
              "      <td>4508.700000</td>\n",
              "    </tr>\n",
              "    <tr>\n",
              "      <th>25%</th>\n",
              "      <td>4.036584e+06</td>\n",
              "      <td>30.000000</td>\n",
              "      <td>7208.840000</td>\n",
              "    </tr>\n",
              "    <tr>\n",
              "      <th>50%</th>\n",
              "      <td>4.073167e+06</td>\n",
              "      <td>36.000000</td>\n",
              "      <td>7673.250000</td>\n",
              "    </tr>\n",
              "    <tr>\n",
              "      <th>75%</th>\n",
              "      <td>4.109750e+06</td>\n",
              "      <td>46.000000</td>\n",
              "      <td>8174.280000</td>\n",
              "    </tr>\n",
              "    <tr>\n",
              "      <th>max</th>\n",
              "      <td>4.146333e+06</td>\n",
              "      <td>82.000000</td>\n",
              "      <td>37943.110000</td>\n",
              "    </tr>\n",
              "  </tbody>\n",
              "</table>\n",
              "</div>\n",
              "      <button class=\"colab-df-convert\" onclick=\"convertToInteractive('df-4791ab92-45f9-4a2a-94df-a744af4c8e49')\"\n",
              "              title=\"Convert this dataframe to an interactive table.\"\n",
              "              style=\"display:none;\">\n",
              "        \n",
              "  <svg xmlns=\"http://www.w3.org/2000/svg\" height=\"24px\"viewBox=\"0 0 24 24\"\n",
              "       width=\"24px\">\n",
              "    <path d=\"M0 0h24v24H0V0z\" fill=\"none\"/>\n",
              "    <path d=\"M18.56 5.44l.94 2.06.94-2.06 2.06-.94-2.06-.94-.94-2.06-.94 2.06-2.06.94zm-11 1L8.5 8.5l.94-2.06 2.06-.94-2.06-.94L8.5 2.5l-.94 2.06-2.06.94zm10 10l.94 2.06.94-2.06 2.06-.94-2.06-.94-.94-2.06-.94 2.06-2.06.94z\"/><path d=\"M17.41 7.96l-1.37-1.37c-.4-.4-.92-.59-1.43-.59-.52 0-1.04.2-1.43.59L10.3 9.45l-7.72 7.72c-.78.78-.78 2.05 0 2.83L4 21.41c.39.39.9.59 1.41.59.51 0 1.02-.2 1.41-.59l7.78-7.78 2.81-2.81c.8-.78.8-2.07 0-2.86zM5.41 20L4 18.59l7.72-7.72 1.47 1.35L5.41 20z\"/>\n",
              "  </svg>\n",
              "      </button>\n",
              "      \n",
              "  <style>\n",
              "    .colab-df-container {\n",
              "      display:flex;\n",
              "      flex-wrap:wrap;\n",
              "      gap: 12px;\n",
              "    }\n",
              "\n",
              "    .colab-df-convert {\n",
              "      background-color: #E8F0FE;\n",
              "      border: none;\n",
              "      border-radius: 50%;\n",
              "      cursor: pointer;\n",
              "      display: none;\n",
              "      fill: #1967D2;\n",
              "      height: 32px;\n",
              "      padding: 0 0 0 0;\n",
              "      width: 32px;\n",
              "    }\n",
              "\n",
              "    .colab-df-convert:hover {\n",
              "      background-color: #E2EBFA;\n",
              "      box-shadow: 0px 1px 2px rgba(60, 64, 67, 0.3), 0px 1px 3px 1px rgba(60, 64, 67, 0.15);\n",
              "      fill: #174EA6;\n",
              "    }\n",
              "\n",
              "    [theme=dark] .colab-df-convert {\n",
              "      background-color: #3B4455;\n",
              "      fill: #D2E3FC;\n",
              "    }\n",
              "\n",
              "    [theme=dark] .colab-df-convert:hover {\n",
              "      background-color: #434B5C;\n",
              "      box-shadow: 0px 1px 3px 1px rgba(0, 0, 0, 0.15);\n",
              "      filter: drop-shadow(0px 1px 2px rgba(0, 0, 0, 0.3));\n",
              "      fill: #FFFFFF;\n",
              "    }\n",
              "  </style>\n",
              "\n",
              "      <script>\n",
              "        const buttonEl =\n",
              "          document.querySelector('#df-4791ab92-45f9-4a2a-94df-a744af4c8e49 button.colab-df-convert');\n",
              "        buttonEl.style.display =\n",
              "          google.colab.kernel.accessAllowed ? 'block' : 'none';\n",
              "\n",
              "        async function convertToInteractive(key) {\n",
              "          const element = document.querySelector('#df-4791ab92-45f9-4a2a-94df-a744af4c8e49');\n",
              "          const dataTable =\n",
              "            await google.colab.kernel.invokeFunction('convertToInteractive',\n",
              "                                                     [key], {});\n",
              "          if (!dataTable) return;\n",
              "\n",
              "          const docLinkHtml = 'Like what you see? Visit the ' +\n",
              "            '<a target=\"_blank\" href=https://colab.research.google.com/notebooks/data_table.ipynb>data table notebook</a>'\n",
              "            + ' to learn more about interactive tables.';\n",
              "          element.innerHTML = '';\n",
              "          dataTable['output_type'] = 'display_data';\n",
              "          await google.colab.output.renderOutput(dataTable, element);\n",
              "          const docLink = document.createElement('div');\n",
              "          docLink.innerHTML = docLinkHtml;\n",
              "          element.appendChild(docLink);\n",
              "        }\n",
              "      </script>\n",
              "    </div>\n",
              "  </div>\n",
              "  "
            ]
          },
          "metadata": {},
          "execution_count": 13
        }
      ]
    },
    {
      "cell_type": "code",
      "source": [
        "plt.hist(clientes['IDADE'])\n",
        "# Então aparentemente o público maior da empresa é de 22 até 55 anos"
      ],
      "metadata": {
        "colab": {
          "base_uri": "https://localhost:8080/",
          "height": 339
        },
        "id": "S1BOdAxqgU1U",
        "outputId": "32069afc-4cff-4207-e3c9-131711426a29"
      },
      "execution_count": null,
      "outputs": [
        {
          "output_type": "execute_result",
          "data": {
            "text/plain": [
              "(array([ 5374., 28751., 37263., 29494., 20454., 19503.,  4353.,   609.,\n",
              "          325.,   207.]),\n",
              " array([16. , 22.6, 29.2, 35.8, 42.4, 49. , 55.6, 62.2, 68.8, 75.4, 82. ]),\n",
              " <a list of 10 Patch objects>)"
            ]
          },
          "metadata": {},
          "execution_count": 14
        },
        {
          "output_type": "display_data",
          "data": {
            "text/plain": [
              "<Figure size 432x288 with 1 Axes>"
            ],
            "image/png": "[encoded data removed]"
          },
          "metadata": {
            "needs_background": "light"
          }
        }
      ]
    },
    {
      "cell_type": "code",
      "source": [
        "plt.hist(clientes['RENDA_PRESUMIDA'])\n",
        "# esse gráfico ficou mais difícil de observar pois existe uma renda de quase 38000, então no próximo gráfico vamos focar em na maior parte dos dados"
      ],
      "metadata": {
        "colab": {
          "base_uri": "https://localhost:8080/",
          "height": 357
        },
        "id": "R0BZ9-g8h4sg",
        "outputId": "20ab5ab0-821a-4e7e-e4c4-f46a7c468a3c"
      },
      "execution_count": null,
      "outputs": [
        {
          "output_type": "execute_result",
          "data": {
            "text/plain": [
              "(array([8.7423e+04, 5.8527e+04, 3.5200e+02, 2.3000e+01, 4.0000e+00,\n",
              "        3.0000e+00, 0.0000e+00, 0.0000e+00, 0.0000e+00, 1.0000e+00]),\n",
              " array([ 4508.7  ,  7852.141, 11195.582, 14539.023, 17882.464, 21225.905,\n",
              "        24569.346, 27912.787, 31256.228, 34599.669, 37943.11 ]),\n",
              " <a list of 10 Patch objects>)"
            ]
          },
          "metadata": {},
          "execution_count": 15
        },
        {
          "output_type": "display_data",
          "data": {
            "text/plain": [
              "<Figure size 432x288 with 1 Axes>"
            ],
            "image/png": "[encoded data removed]"
          },
          "metadata": {
            "needs_background": "light"
          }
        }
      ]
    },
    {
      "cell_type": "code",
      "source": [
        "plt.hist(clientes['RENDA_PRESUMIDA'], range=(4000,15000))\n",
        "# Vendo apenas valore de renda entre 4000 até 15000, pois é onde está a maior parte dos dados"
      ],
      "metadata": {
        "colab": {
          "base_uri": "https://localhost:8080/",
          "height": 357
        },
        "id": "ga7ujZ7uhNg5",
        "outputId": "15e871ca-e3dc-41bd-bae5-2b9412992e1c"
      },
      "execution_count": null,
      "outputs": [
        {
          "output_type": "execute_result",
          "data": {
            "text/plain": [
              "(array([3.0000e+00, 1.7940e+03, 4.1362e+04, 7.8819e+04, 2.1636e+04,\n",
              "        2.0750e+03, 3.9200e+02, 1.1500e+02, 8.1000e+01, 3.2000e+01]),\n",
              " array([ 4000.,  5100.,  6200.,  7300.,  8400.,  9500., 10600., 11700.,\n",
              "        12800., 13900., 15000.]),\n",
              " <a list of 10 Patch objects>)"
            ]
          },
          "metadata": {},
          "execution_count": 16
        },
        {
          "output_type": "display_data",
          "data": {
            "text/plain": [
              "<Figure size 432x288 with 1 Axes>"
            ],
            "image/png": "[encoded data removed]"
          },
          "metadata": {
            "needs_background": "light"
          }
        }
      ]
    },
    {
      "cell_type": "code",
      "source": [
        "clientes.groupby(['REGIAO'])['REGIAO'].count().sort_values(ascending=False)"
      ],
      "metadata": {
        "colab": {
          "base_uri": "https://localhost:8080/"
        },
        "id": "OPOGkxd2iLZc",
        "outputId": "ca729673-3ab8-47c7-e434-7c2b4ed42bab"
      },
      "execution_count": null,
      "outputs": [
        {
          "output_type": "execute_result",
          "data": {
            "text/plain": [
              "REGIAO\n",
              "Sudeste         60023\n",
              "Nordeste        41965\n",
              "Norte           15336\n",
              "Sul             15145\n",
              "Centro-Oeste    13864\n",
              "Name: REGIAO, dtype: int64"
            ]
          },
          "metadata": {},
          "execution_count": 17
        }
      ]
    },
    {
      "cell_type": "code",
      "source": [
        "c =clientes.groupby(['REGIAO'])['REGIAO'].count().sort_values(ascending=False)\n",
        "c /c.sum()"
      ],
      "metadata": {
        "colab": {
          "base_uri": "https://localhost:8080/"
        },
        "id": "OzNBtS_lkja7",
        "outputId": "75cb9875-20fa-41d3-f2d4-431367288a0d"
      },
      "execution_count": null,
      "outputs": [
        {
          "output_type": "execute_result",
          "data": {
            "text/plain": [
              "REGIAO\n",
              "Sudeste         0.410181\n",
              "Nordeste        0.286777\n",
              "Norte           0.104802\n",
              "Sul             0.103497\n",
              "Centro-Oeste    0.094743\n",
              "Name: REGIAO, dtype: float64"
            ]
          },
          "metadata": {},
          "execution_count": 18
        }
      ]
    },
    {
      "cell_type": "markdown",
      "source": [
        "Olhando para a distribuição populacional do Brasil, temos:\n",
        "Sudeste - 42,2% ; \n",
        "Nordeste - 27,2% ;\n",
        "Sul - 14,3% ;\n",
        "Norte - 8,6% ;\n",
        "Centro-Oeste - 7,7% "
      ],
      "metadata": {
        "id": "gWtCYvjCthPR"
      }
    },
    {
      "cell_type": "code",
      "source": [
        "#A porcentagem de clientes é parecida com a porcentagem populacional, A região que ficou mais diferente foi a Sudeste, dessa forma pode\n",
        "# ser uma boa opção investir mais na região"
      ],
      "metadata": {
        "id": "ErpZfCau5FpB"
      },
      "execution_count": null,
      "outputs": []
    },
    {
      "cell_type": "code",
      "source": [
        "clientes.groupby(['UF'])['UF'].count().sort_values(ascending=False)"
      ],
      "metadata": {
        "colab": {
          "base_uri": "https://localhost:8080/"
        },
        "id": "HHFcqqJhirCu",
        "outputId": "6f7821bb-2c15-4c7d-a67b-0a980cb3743b"
      },
      "execution_count": null,
      "outputs": [
        {
          "output_type": "execute_result",
          "data": {
            "text/plain": [
              "UF\n",
              "SP    31413\n",
              "MG    15201\n",
              "RJ    10789\n",
              "BA     9571\n",
              "PA     7480\n",
              "CE     6440\n",
              "PE     6405\n",
              "PR     6334\n",
              "GO     5786\n",
              "RS     5381\n",
              "RN     4818\n",
              "MA     4536\n",
              "SC     3430\n",
              "AM     3419\n",
              "SE     3093\n",
              "MT     2947\n",
              "DF     2699\n",
              "ES     2620\n",
              "PB     2436\n",
              "MS     2432\n",
              "AL     2429\n",
              "PI     2237\n",
              "RO     1464\n",
              "TO     1120\n",
              "AP      670\n",
              "AC      658\n",
              "RR      525\n",
              "Name: UF, dtype: int64"
            ]
          },
          "metadata": {},
          "execution_count": 20
        }
      ]
    },
    {
      "cell_type": "code",
      "source": [
        "# pode-se observar que a empresa tem clientes de todos os estados do Brasil mais o Distrito Federal"
      ],
      "metadata": {
        "id": "MUl-R47g4d7y"
      },
      "execution_count": null,
      "outputs": []
    },
    {
      "cell_type": "code",
      "source": [
        "len(clientes.groupby(['UF'])['UF'].count().sort_values(ascending=False))"
      ],
      "metadata": {
        "colab": {
          "base_uri": "https://localhost:8080/"
        },
        "id": "Pc1qn2jjjN7g",
        "outputId": "da542836-d25f-42c5-b0bf-6ad5f79e7b79"
      },
      "execution_count": null,
      "outputs": [
        {
          "output_type": "execute_result",
          "data": {
            "text/plain": [
              "27"
            ]
          },
          "metadata": {},
          "execution_count": 22
        }
      ]
    },
    {
      "cell_type": "markdown",
      "source": [
        "Analisando agora um pouco mais o banco de dados SQL"
      ],
      "metadata": {
        "id": "4ECUiqpr9TeM"
      }
    },
    {
      "cell_type": "code",
      "source": [
        "#lendo o arquivo sql\n",
        "engine_str = 'sqlite:///dados/vaistore.sqlite'\n",
        "engine = sqlalchemy.create_engine(engine_str)\n",
        "\n",
        "# já temos a engine! Vamos ver as tableas em um DB \n",
        "table_names = sqlalchemy.inspect(engine).get_table_names()\n",
        "print(table_names)"
      ],
      "metadata": {
        "colab": {
          "base_uri": "https://localhost:8080/"
        },
        "id": "_CEPLMczEE7T",
        "outputId": "a9d74463-61e7-4bd1-c164-54678a55faf7"
      },
      "execution_count": null,
      "outputs": [
        {
          "output_type": "stream",
          "name": "stdout",
          "text": [
            "['info_produto', 'pedidos']\n"
          ]
        }
      ]
    },
    {
      "cell_type": "code",
      "source": [
        "with engine.connect() as con:                  # conecta dentro do with\n",
        "    rs = con.execute(\"SELECT * FROM info_produto\")    # executa a query\n",
        "    df = pd.DataFrame(rs.fetchmany(size=5))    # pega os resultados - aqui usamos fetchmany para pegar o numero específico de linhas\n",
        "    df.columns = rs.keys()                     # pega o nome das colunas\n",
        "    \n",
        "df.info()"
      ],
      "metadata": {
        "colab": {
          "base_uri": "https://localhost:8080/"
        },
        "id": "ecihi8NaE-aN",
        "outputId": "4a335500-4d39-4065-ca0c-39c879395f9d"
      },
      "execution_count": null,
      "outputs": [
        {
          "output_type": "stream",
          "name": "stdout",
          "text": [
            "<class 'pandas.core.frame.DataFrame'>\n",
            "RangeIndex: 5 entries, 0 to 4\n",
            "Data columns (total 3 columns):\n",
            " #   Column            Non-Null Count  Dtype  \n",
            "---  ------            --------------  -----  \n",
            " 0   PRODUTO           5 non-null      object \n",
            " 1   CUSTO_MERCADORIA  5 non-null      float64\n",
            " 2   LINHA_PRODUTO     5 non-null      object \n",
            "dtypes: float64(1), object(2)\n",
            "memory usage: 248.0+ bytes\n"
          ]
        }
      ]
    },
    {
      "cell_type": "code",
      "source": [
        "with engine.connect() as con:                  # conecta dentro do with\n",
        "    rs = con.execute(\"SELECT * FROM pedidos\")    # executa a query\n",
        "    df = pd.DataFrame(rs.fetchmany(size=5))    # pega os resultados - aqui usamos fetchmany para pegar o numero específico de linhas\n",
        "    df.columns = rs.keys()                     # pega o nome das colunas\n",
        "    \n",
        "df.info()"
      ],
      "metadata": {
        "colab": {
          "base_uri": "https://localhost:8080/"
        },
        "id": "qMP7shi2Fh0E",
        "outputId": "211ecc9d-4d08-4dee-d3cf-f090c3f200af"
      },
      "execution_count": null,
      "outputs": [
        {
          "output_type": "stream",
          "name": "stdout",
          "text": [
            "<class 'pandas.core.frame.DataFrame'>\n",
            "RangeIndex: 5 entries, 0 to 4\n",
            "Data columns (total 11 columns):\n",
            " #   Column              Non-Null Count  Dtype  \n",
            "---  ------              --------------  -----  \n",
            " 0   DATA_VENDA          5 non-null      object \n",
            " 1   PEDIDO              5 non-null      int64  \n",
            " 2   PEDIDO_ERP          5 non-null      object \n",
            " 3   COD_CLIENTE         5 non-null      int64  \n",
            " 4   PRODUTO             5 non-null      object \n",
            " 5   QTDE                5 non-null      int64  \n",
            " 6   PRECO_UNITARIO      5 non-null      float64\n",
            " 7   DESCONTO_ITEM       5 non-null      float64\n",
            " 8   FRETE_PAGO_CLIENTE  5 non-null      float64\n",
            " 9   RECEITA             5 non-null      float64\n",
            " 10  CUSTO_FRETE         5 non-null      float64\n",
            "dtypes: float64(5), int64(3), object(3)\n",
            "memory usage: 568.0+ bytes\n"
          ]
        }
      ]
    },
    {
      "cell_type": "code",
      "source": [
        "info = pd.read_sql_query(\"SELECT * FROM info_produto\", engine)\n",
        "info.head()"
      ],
      "metadata": {
        "colab": {
          "base_uri": "https://localhost:8080/",
          "height": 206
        },
        "id": "mkL0RUIwsiIt",
        "outputId": "a749f65d-4eb1-41aa-c9a5-137c4aaf6d65"
      },
      "execution_count": null,
      "outputs": [
        {
          "output_type": "execute_result",
          "data": {
            "text/plain": [
              "   PRODUTO  CUSTO_MERCADORIA LINHA_PRODUTO\n",
              "0  A10001G              21.1        BASICO\n",
              "1  A10002M              21.1        BASICO\n",
              "2  A10003M              22.6        BASICO\n",
              "3  A10004P              22.6        BASICO\n",
              "4  A10005M              22.6        BASICO"
            ],
            "text/html": [
              "\n",
              "  <div id=\"df-4f9127be-db76-4049-ba36-6cec6adce5e1\">\n",
              "    <div class=\"colab-df-container\">\n",
              "      <div>\n",
              "<style scoped>\n",
              "    .dataframe tbody tr th:only-of-type {\n",
              "        vertical-align: middle;\n",
              "    }\n",
              "\n",
              "    .dataframe tbody tr th {\n",
              "        vertical-align: top;\n",
              "    }\n",
              "\n",
              "    .dataframe thead th {\n",
              "        text-align: right;\n",
              "    }\n",
              "</style>\n",
              "<table border=\"1\" class=\"dataframe\">\n",
              "  <thead>\n",
              "    <tr style=\"text-align: right;\">\n",
              "      <th></th>\n",
              "      <th>PRODUTO</th>\n",
              "      <th>CUSTO_MERCADORIA</th>\n",
              "      <th>LINHA_PRODUTO</th>\n",
              "    </tr>\n",
              "  </thead>\n",
              "  <tbody>\n",
              "    <tr>\n",
              "      <th>0</th>\n",
              "      <td>A10001G</td>\n",
              "      <td>21.1</td>\n",
              "      <td>BASICO</td>\n",
              "    </tr>\n",
              "    <tr>\n",
              "      <th>1</th>\n",
              "      <td>A10002M</td>\n",
              "      <td>21.1</td>\n",
              "      <td>BASICO</td>\n",
              "    </tr>\n",
              "    <tr>\n",
              "      <th>2</th>\n",
              "      <td>A10003M</td>\n",
              "      <td>22.6</td>\n",
              "      <td>BASICO</td>\n",
              "    </tr>\n",
              "    <tr>\n",
              "      <th>3</th>\n",
              "      <td>A10004P</td>\n",
              "      <td>22.6</td>\n",
              "      <td>BASICO</td>\n",
              "    </tr>\n",
              "    <tr>\n",
              "      <th>4</th>\n",
              "      <td>A10005M</td>\n",
              "      <td>22.6</td>\n",
              "      <td>BASICO</td>\n",
              "    </tr>\n",
              "  </tbody>\n",
              "</table>\n",
              "</div>\n",
              "      <button class=\"colab-df-convert\" onclick=\"convertToInteractive('df-4f9127be-db76-4049-ba36-6cec6adce5e1')\"\n",
              "              title=\"Convert this dataframe to an interactive table.\"\n",
              "              style=\"display:none;\">\n",
              "        \n",
              "  <svg xmlns=\"http://www.w3.org/2000/svg\" height=\"24px\"viewBox=\"0 0 24 24\"\n",
              "       width=\"24px\">\n",
              "    <path d=\"M0 0h24v24H0V0z\" fill=\"none\"/>\n",
              "    <path d=\"M18.56 5.44l.94 2.06.94-2.06 2.06-.94-2.06-.94-.94-2.06-.94 2.06-2.06.94zm-11 1L8.5 8.5l.94-2.06 2.06-.94-2.06-.94L8.5 2.5l-.94 2.06-2.06.94zm10 10l.94 2.06.94-2.06 2.06-.94-2.06-.94-.94-2.06-.94 2.06-2.06.94z\"/><path d=\"M17.41 7.96l-1.37-1.37c-.4-.4-.92-.59-1.43-.59-.52 0-1.04.2-1.43.59L10.3 9.45l-7.72 7.72c-.78.78-.78 2.05 0 2.83L4 21.41c.39.39.9.59 1.41.59.51 0 1.02-.2 1.41-.59l7.78-7.78 2.81-2.81c.8-.78.8-2.07 0-2.86zM5.41 20L4 18.59l7.72-7.72 1.47 1.35L5.41 20z\"/>\n",
              "  </svg>\n",
              "      </button>\n",
              "      \n",
              "  <style>\n",
              "    .colab-df-container {\n",
              "      display:flex;\n",
              "      flex-wrap:wrap;\n",
              "      gap: 12px;\n",
              "    }\n",
              "\n",
              "    .colab-df-convert {\n",
              "      background-color: #E8F0FE;\n",
              "      border: none;\n",
              "      border-radius: 50%;\n",
              "      cursor: pointer;\n",
              "      display: none;\n",
              "      fill: #1967D2;\n",
              "      height: 32px;\n",
              "      padding: 0 0 0 0;\n",
              "      width: 32px;\n",
              "    }\n",
              "\n",
              "    .colab-df-convert:hover {\n",
              "      background-color: #E2EBFA;\n",
              "      box-shadow: 0px 1px 2px rgba(60, 64, 67, 0.3), 0px 1px 3px 1px rgba(60, 64, 67, 0.15);\n",
              "      fill: #174EA6;\n",
              "    }\n",
              "\n",
              "    [theme=dark] .colab-df-convert {\n",
              "      background-color: #3B4455;\n",
              "      fill: #D2E3FC;\n",
              "    }\n",
              "\n",
              "    [theme=dark] .colab-df-convert:hover {\n",
              "      background-color: #434B5C;\n",
              "      box-shadow: 0px 1px 3px 1px rgba(0, 0, 0, 0.15);\n",
              "      filter: drop-shadow(0px 1px 2px rgba(0, 0, 0, 0.3));\n",
              "      fill: #FFFFFF;\n",
              "    }\n",
              "  </style>\n",
              "\n",
              "      <script>\n",
              "        const buttonEl =\n",
              "          document.querySelector('#df-4f9127be-db76-4049-ba36-6cec6adce5e1 button.colab-df-convert');\n",
              "        buttonEl.style.display =\n",
              "          google.colab.kernel.accessAllowed ? 'block' : 'none';\n",
              "\n",
              "        async function convertToInteractive(key) {\n",
              "          const element = document.querySelector('#df-4f9127be-db76-4049-ba36-6cec6adce5e1');\n",
              "          const dataTable =\n",
              "            await google.colab.kernel.invokeFunction('convertToInteractive',\n",
              "                                                     [key], {});\n",
              "          if (!dataTable) return;\n",
              "\n",
              "          const docLinkHtml = 'Like what you see? Visit the ' +\n",
              "            '<a target=\"_blank\" href=https://colab.research.google.com/notebooks/data_table.ipynb>data table notebook</a>'\n",
              "            + ' to learn more about interactive tables.';\n",
              "          element.innerHTML = '';\n",
              "          dataTable['output_type'] = 'display_data';\n",
              "          await google.colab.output.renderOutput(dataTable, element);\n",
              "          const docLink = document.createElement('div');\n",
              "          docLink.innerHTML = docLinkHtml;\n",
              "          element.appendChild(docLink);\n",
              "        }\n",
              "      </script>\n",
              "    </div>\n",
              "  </div>\n",
              "  "
            ]
          },
          "metadata": {},
          "execution_count": 26
        }
      ]
    },
    {
      "cell_type": "code",
      "source": [
        "info.info()"
      ],
      "metadata": {
        "colab": {
          "base_uri": "https://localhost:8080/"
        },
        "id": "f89vAR6it187",
        "outputId": "2eb8ad6b-03c3-498f-971d-162c9cd7a8eb"
      },
      "execution_count": null,
      "outputs": [
        {
          "output_type": "stream",
          "name": "stdout",
          "text": [
            "<class 'pandas.core.frame.DataFrame'>\n",
            "RangeIndex: 1681 entries, 0 to 1680\n",
            "Data columns (total 3 columns):\n",
            " #   Column            Non-Null Count  Dtype  \n",
            "---  ------            --------------  -----  \n",
            " 0   PRODUTO           1681 non-null   object \n",
            " 1   CUSTO_MERCADORIA  1681 non-null   float64\n",
            " 2   LINHA_PRODUTO     1192 non-null   object \n",
            "dtypes: float64(1), object(2)\n",
            "memory usage: 39.5+ KB\n"
          ]
        }
      ]
    },
    {
      "cell_type": "code",
      "source": [
        "info.describe()\n",
        "# Nota-se que a maioria do produtos é relativamente barato"
      ],
      "metadata": {
        "colab": {
          "base_uri": "https://localhost:8080/",
          "height": 300
        },
        "id": "HV7CpqRMt9LV",
        "outputId": "35c2f44d-436d-4be3-c0e6-bf7769108618"
      },
      "execution_count": null,
      "outputs": [
        {
          "output_type": "execute_result",
          "data": {
            "text/plain": [
              "       CUSTO_MERCADORIA\n",
              "count       1681.000000\n",
              "mean          27.787252\n",
              "std           44.747764\n",
              "min            0.520000\n",
              "25%            8.540000\n",
              "50%           17.200000\n",
              "75%           32.710000\n",
              "max          898.220000"
            ],
            "text/html": [
              "\n",
              "  <div id=\"df-9e71233b-4ef4-4eeb-b2a0-d6aa43146cf0\">\n",
              "    <div class=\"colab-df-container\">\n",
              "      <div>\n",
              "<style scoped>\n",
              "    .dataframe tbody tr th:only-of-type {\n",
              "        vertical-align: middle;\n",
              "    }\n",
              "\n",
              "    .dataframe tbody tr th {\n",
              "        vertical-align: top;\n",
              "    }\n",
              "\n",
              "    .dataframe thead th {\n",
              "        text-align: right;\n",
              "    }\n",
              "</style>\n",
              "<table border=\"1\" class=\"dataframe\">\n",
              "  <thead>\n",
              "    <tr style=\"text-align: right;\">\n",
              "      <th></th>\n",
              "      <th>CUSTO_MERCADORIA</th>\n",
              "    </tr>\n",
              "  </thead>\n",
              "  <tbody>\n",
              "    <tr>\n",
              "      <th>count</th>\n",
              "      <td>1681.000000</td>\n",
              "    </tr>\n",
              "    <tr>\n",
              "      <th>mean</th>\n",
              "      <td>27.787252</td>\n",
              "    </tr>\n",
              "    <tr>\n",
              "      <th>std</th>\n",
              "      <td>44.747764</td>\n",
              "    </tr>\n",
              "    <tr>\n",
              "      <th>min</th>\n",
              "      <td>0.520000</td>\n",
              "    </tr>\n",
              "    <tr>\n",
              "      <th>25%</th>\n",
              "      <td>8.540000</td>\n",
              "    </tr>\n",
              "    <tr>\n",
              "      <th>50%</th>\n",
              "      <td>17.200000</td>\n",
              "    </tr>\n",
              "    <tr>\n",
              "      <th>75%</th>\n",
              "      <td>32.710000</td>\n",
              "    </tr>\n",
              "    <tr>\n",
              "      <th>max</th>\n",
              "      <td>898.220000</td>\n",
              "    </tr>\n",
              "  </tbody>\n",
              "</table>\n",
              "</div>\n",
              "      <button class=\"colab-df-convert\" onclick=\"convertToInteractive('df-9e71233b-4ef4-4eeb-b2a0-d6aa43146cf0')\"\n",
              "              title=\"Convert this dataframe to an interactive table.\"\n",
              "              style=\"display:none;\">\n",
              "        \n",
              "  <svg xmlns=\"http://www.w3.org/2000/svg\" height=\"24px\"viewBox=\"0 0 24 24\"\n",
              "       width=\"24px\">\n",
              "    <path d=\"M0 0h24v24H0V0z\" fill=\"none\"/>\n",
              "    <path d=\"M18.56 5.44l.94 2.06.94-2.06 2.06-.94-2.06-.94-.94-2.06-.94 2.06-2.06.94zm-11 1L8.5 8.5l.94-2.06 2.06-.94-2.06-.94L8.5 2.5l-.94 2.06-2.06.94zm10 10l.94 2.06.94-2.06 2.06-.94-2.06-.94-.94-2.06-.94 2.06-2.06.94z\"/><path d=\"M17.41 7.96l-1.37-1.37c-.4-.4-.92-.59-1.43-.59-.52 0-1.04.2-1.43.59L10.3 9.45l-7.72 7.72c-.78.78-.78 2.05 0 2.83L4 21.41c.39.39.9.59 1.41.59.51 0 1.02-.2 1.41-.59l7.78-7.78 2.81-2.81c.8-.78.8-2.07 0-2.86zM5.41 20L4 18.59l7.72-7.72 1.47 1.35L5.41 20z\"/>\n",
              "  </svg>\n",
              "      </button>\n",
              "      \n",
              "  <style>\n",
              "    .colab-df-container {\n",
              "      display:flex;\n",
              "      flex-wrap:wrap;\n",
              "      gap: 12px;\n",
              "    }\n",
              "\n",
              "    .colab-df-convert {\n",
              "      background-color: #E8F0FE;\n",
              "      border: none;\n",
              "      border-radius: 50%;\n",
              "      cursor: pointer;\n",
              "      display: none;\n",
              "      fill: #1967D2;\n",
              "      height: 32px;\n",
              "      padding: 0 0 0 0;\n",
              "      width: 32px;\n",
              "    }\n",
              "\n",
              "    .colab-df-convert:hover {\n",
              "      background-color: #E2EBFA;\n",
              "      box-shadow: 0px 1px 2px rgba(60, 64, 67, 0.3), 0px 1px 3px 1px rgba(60, 64, 67, 0.15);\n",
              "      fill: #174EA6;\n",
              "    }\n",
              "\n",
              "    [theme=dark] .colab-df-convert {\n",
              "      background-color: #3B4455;\n",
              "      fill: #D2E3FC;\n",
              "    }\n",
              "\n",
              "    [theme=dark] .colab-df-convert:hover {\n",
              "      background-color: #434B5C;\n",
              "      box-shadow: 0px 1px 3px 1px rgba(0, 0, 0, 0.15);\n",
              "      filter: drop-shadow(0px 1px 2px rgba(0, 0, 0, 0.3));\n",
              "      fill: #FFFFFF;\n",
              "    }\n",
              "  </style>\n",
              "\n",
              "      <script>\n",
              "        const buttonEl =\n",
              "          document.querySelector('#df-9e71233b-4ef4-4eeb-b2a0-d6aa43146cf0 button.colab-df-convert');\n",
              "        buttonEl.style.display =\n",
              "          google.colab.kernel.accessAllowed ? 'block' : 'none';\n",
              "\n",
              "        async function convertToInteractive(key) {\n",
              "          const element = document.querySelector('#df-9e71233b-4ef4-4eeb-b2a0-d6aa43146cf0');\n",
              "          const dataTable =\n",
              "            await google.colab.kernel.invokeFunction('convertToInteractive',\n",
              "                                                     [key], {});\n",
              "          if (!dataTable) return;\n",
              "\n",
              "          const docLinkHtml = 'Like what you see? Visit the ' +\n",
              "            '<a target=\"_blank\" href=https://colab.research.google.com/notebooks/data_table.ipynb>data table notebook</a>'\n",
              "            + ' to learn more about interactive tables.';\n",
              "          element.innerHTML = '';\n",
              "          dataTable['output_type'] = 'display_data';\n",
              "          await google.colab.output.renderOutput(dataTable, element);\n",
              "          const docLink = document.createElement('div');\n",
              "          docLink.innerHTML = docLinkHtml;\n",
              "          element.appendChild(docLink);\n",
              "        }\n",
              "      </script>\n",
              "    </div>\n",
              "  </div>\n",
              "  "
            ]
          },
          "metadata": {},
          "execution_count": 28
        }
      ]
    },
    {
      "cell_type": "code",
      "source": [
        "plt.hist(info['CUSTO_MERCADORIA'])"
      ],
      "metadata": {
        "colab": {
          "base_uri": "https://localhost:8080/",
          "height": 376
        },
        "id": "67oLQguStFIZ",
        "outputId": "1c2b13b7-fc3d-403d-cdd3-733edd30279d"
      },
      "execution_count": null,
      "outputs": [
        {
          "output_type": "execute_result",
          "data": {
            "text/plain": [
              "(array([1.618e+03, 4.700e+01, 1.000e+01, 3.000e+00, 0.000e+00, 1.000e+00,\n",
              "        0.000e+00, 0.000e+00, 0.000e+00, 2.000e+00]),\n",
              " array([5.2000e-01, 9.0290e+01, 1.8006e+02, 2.6983e+02, 3.5960e+02,\n",
              "        4.4937e+02, 5.3914e+02, 6.2891e+02, 7.1868e+02, 8.0845e+02,\n",
              "        8.9822e+02]),\n",
              " <a list of 10 Patch objects>)"
            ]
          },
          "metadata": {},
          "execution_count": 29
        },
        {
          "output_type": "display_data",
          "data": {
            "text/plain": [
              "<Figure size 432x288 with 1 Axes>"
            ],
            "image/png": "[encoded data removed]"
          },
          "metadata": {
            "needs_background": "light"
          }
        }
      ]
    },
    {
      "cell_type": "code",
      "source": [
        "plt.hist(info['CUSTO_MERCADORIA'], range=(0,100))\n",
        "# É possível observar que o produto vai ficando mais caro, a quantidade de produtos diferentes vai diminuindo"
      ],
      "metadata": {
        "colab": {
          "base_uri": "https://localhost:8080/",
          "height": 320
        },
        "id": "6-xSP2jkwAnd",
        "outputId": "f688a5fe-822f-4a0c-c0e4-ad08ce596a13"
      },
      "execution_count": null,
      "outputs": [
        {
          "output_type": "execute_result",
          "data": {
            "text/plain": [
              "(array([531., 399., 279., 153., 101.,  68.,  41.,  22.,  22.,   9.]),\n",
              " array([  0.,  10.,  20.,  30.,  40.,  50.,  60.,  70.,  80.,  90., 100.]),\n",
              " <a list of 10 Patch objects>)"
            ]
          },
          "metadata": {},
          "execution_count": 30
        },
        {
          "output_type": "display_data",
          "data": {
            "text/plain": [
              "<Figure size 432x288 with 1 Axes>"
            ],
            "image/png": "[encoded data removed]"
          },
          "metadata": {
            "needs_background": "light"
          }
        }
      ]
    },
    {
      "cell_type": "code",
      "source": [
        "info.groupby(['LINHA_PRODUTO'])['LINHA_PRODUTO'].count().sort_values(ascending=False)\n",
        "#pela divisão de segmentos vemos que a maioria do produtos é básico"
      ],
      "metadata": {
        "colab": {
          "base_uri": "https://localhost:8080/"
        },
        "id": "5Q2Qu6HDsygy",
        "outputId": "0edcce73-913a-4e77-a1e2-7d650386fd1c"
      },
      "execution_count": null,
      "outputs": [
        {
          "output_type": "execute_result",
          "data": {
            "text/plain": [
              "LINHA_PRODUTO\n",
              "BASICO          415\n",
              "FASHION         276\n",
              "ACESSORIOS      232\n",
              "BOLSAS          185\n",
              "TECH             78\n",
              "COMPLEMENTOS      6\n",
              "Name: LINHA_PRODUTO, dtype: int64"
            ]
          },
          "metadata": {},
          "execution_count": 31
        }
      ]
    },
    {
      "cell_type": "code",
      "source": [
        "pedidos = pd.read_sql_query(\"SELECT * FROM pedidos\", engine)\n",
        "pedidos.head()\n",
        "#nota-se que quando o desconto é positivo, o cliente paga a mais"
      ],
      "metadata": {
        "colab": {
          "base_uri": "https://localhost:8080/",
          "height": 337
        },
        "id": "Lqbi4NC0tNyL",
        "outputId": "f2187e6c-fb53-4242-f9cc-29721c73720a"
      },
      "execution_count": null,
      "outputs": [
        {
          "output_type": "execute_result",
          "data": {
            "text/plain": [
              "                   DATA_VENDA   PEDIDO    PEDIDO_ERP  COD_CLIENTE  PRODUTO  \\\n",
              "0  2020-01-01 00:00:00.000000  7000001  P10000123123      4040690  E10505Y   \n",
              "1  2020-01-01 00:00:00.000000  7000003  P10000123124      4003939  E10513Y   \n",
              "2  2020-01-01 00:00:00.000000  7000006  P10000123128      4043259  E10375Y   \n",
              "3  2020-01-01 00:00:00.000000  7000009  P10000123132      4090303  E10477Y   \n",
              "4  2020-01-01 00:00:00.000000  7000011  P10000294585      4080417  E10058Y   \n",
              "\n",
              "   QTDE  PRECO_UNITARIO  DESCONTO_ITEM  FRETE_PAGO_CLIENTE  RECEITA  \\\n",
              "0     1           149.9           0.00               32.32   182.22   \n",
              "1     1           189.9           0.00                0.00   189.90   \n",
              "2     1           129.9         -12.99               26.93   143.84   \n",
              "3     2            19.9           0.00                0.00    39.80   \n",
              "4     1           189.9           1.17               27.57   218.64   \n",
              "\n",
              "   CUSTO_FRETE  \n",
              "0        32.32  \n",
              "1         0.00  \n",
              "2        26.93  \n",
              "3         0.00  \n",
              "4        27.57  "
            ],
            "text/html": [
              "\n",
              "  <div id=\"df-3e8cb53e-5619-4fdb-b37d-c6cb8291a57e\">\n",
              "    <div class=\"colab-df-container\">\n",
              "      <div>\n",
              "<style scoped>\n",
              "    .dataframe tbody tr th:only-of-type {\n",
              "        vertical-align: middle;\n",
              "    }\n",
              "\n",
              "    .dataframe tbody tr th {\n",
              "        vertical-align: top;\n",
              "    }\n",
              "\n",
              "    .dataframe thead th {\n",
              "        text-align: right;\n",
              "    }\n",
              "</style>\n",
              "<table border=\"1\" class=\"dataframe\">\n",
              "  <thead>\n",
              "    <tr style=\"text-align: right;\">\n",
              "      <th></th>\n",
              "      <th>DATA_VENDA</th>\n",
              "      <th>PEDIDO</th>\n",
              "      <th>PEDIDO_ERP</th>\n",
              "      <th>COD_CLIENTE</th>\n",
              "      <th>PRODUTO</th>\n",
              "      <th>QTDE</th>\n",
              "      <th>PRECO_UNITARIO</th>\n",
              "      <th>DESCONTO_ITEM</th>\n",
              "      <th>FRETE_PAGO_CLIENTE</th>\n",
              "      <th>RECEITA</th>\n",
              "      <th>CUSTO_FRETE</th>\n",
              "    </tr>\n",
              "  </thead>\n",
              "  <tbody>\n",
              "    <tr>\n",
              "      <th>0</th>\n",
              "      <td>2020-01-01 00:00:00.000000</td>\n",
              "      <td>7000001</td>\n",
              "      <td>P10000123123</td>\n",
              "      <td>4040690</td>\n",
              "      <td>E10505Y</td>\n",
              "      <td>1</td>\n",
              "      <td>149.9</td>\n",
              "      <td>0.00</td>\n",
              "      <td>32.32</td>\n",
              "      <td>182.22</td>\n",
              "      <td>32.32</td>\n",
              "    </tr>\n",
              "    <tr>\n",
              "      <th>1</th>\n",
              "      <td>2020-01-01 00:00:00.000000</td>\n",
              "      <td>7000003</td>\n",
              "      <td>P10000123124</td>\n",
              "      <td>4003939</td>\n",
              "      <td>E10513Y</td>\n",
              "      <td>1</td>\n",
              "      <td>189.9</td>\n",
              "      <td>0.00</td>\n",
              "      <td>0.00</td>\n",
              "      <td>189.90</td>\n",
              "      <td>0.00</td>\n",
              "    </tr>\n",
              "    <tr>\n",
              "      <th>2</th>\n",
              "      <td>2020-01-01 00:00:00.000000</td>\n",
              "      <td>7000006</td>\n",
              "      <td>P10000123128</td>\n",
              "      <td>4043259</td>\n",
              "      <td>E10375Y</td>\n",
              "      <td>1</td>\n",
              "      <td>129.9</td>\n",
              "      <td>-12.99</td>\n",
              "      <td>26.93</td>\n",
              "      <td>143.84</td>\n",
              "      <td>26.93</td>\n",
              "    </tr>\n",
              "    <tr>\n",
              "      <th>3</th>\n",
              "      <td>2020-01-01 00:00:00.000000</td>\n",
              "      <td>7000009</td>\n",
              "      <td>P10000123132</td>\n",
              "      <td>4090303</td>\n",
              "      <td>E10477Y</td>\n",
              "      <td>2</td>\n",
              "      <td>19.9</td>\n",
              "      <td>0.00</td>\n",
              "      <td>0.00</td>\n",
              "      <td>39.80</td>\n",
              "      <td>0.00</td>\n",
              "    </tr>\n",
              "    <tr>\n",
              "      <th>4</th>\n",
              "      <td>2020-01-01 00:00:00.000000</td>\n",
              "      <td>7000011</td>\n",
              "      <td>P10000294585</td>\n",
              "      <td>4080417</td>\n",
              "      <td>E10058Y</td>\n",
              "      <td>1</td>\n",
              "      <td>189.9</td>\n",
              "      <td>1.17</td>\n",
              "      <td>27.57</td>\n",
              "      <td>218.64</td>\n",
              "      <td>27.57</td>\n",
              "    </tr>\n",
              "  </tbody>\n",
              "</table>\n",
              "</div>\n",
              "      <button class=\"colab-df-convert\" onclick=\"convertToInteractive('df-3e8cb53e-5619-4fdb-b37d-c6cb8291a57e')\"\n",
              "              title=\"Convert this dataframe to an interactive table.\"\n",
              "              style=\"display:none;\">\n",
              "        \n",
              "  <svg xmlns=\"http://www.w3.org/2000/svg\" height=\"24px\"viewBox=\"0 0 24 24\"\n",
              "       width=\"24px\">\n",
              "    <path d=\"M0 0h24v24H0V0z\" fill=\"none\"/>\n",
              "    <path d=\"M18.56 5.44l.94 2.06.94-2.06 2.06-.94-2.06-.94-.94-2.06-.94 2.06-2.06.94zm-11 1L8.5 8.5l.94-2.06 2.06-.94-2.06-.94L8.5 2.5l-.94 2.06-2.06.94zm10 10l.94 2.06.94-2.06 2.06-.94-2.06-.94-.94-2.06-.94 2.06-2.06.94z\"/><path d=\"M17.41 7.96l-1.37-1.37c-.4-.4-.92-.59-1.43-.59-.52 0-1.04.2-1.43.59L10.3 9.45l-7.72 7.72c-.78.78-.78 2.05 0 2.83L4 21.41c.39.39.9.59 1.41.59.51 0 1.02-.2 1.41-.59l7.78-7.78 2.81-2.81c.8-.78.8-2.07 0-2.86zM5.41 20L4 18.59l7.72-7.72 1.47 1.35L5.41 20z\"/>\n",
              "  </svg>\n",
              "      </button>\n",
              "      \n",
              "  <style>\n",
              "    .colab-df-container {\n",
              "      display:flex;\n",
              "      flex-wrap:wrap;\n",
              "      gap: 12px;\n",
              "    }\n",
              "\n",
              "    .colab-df-convert {\n",
              "      background-color: #E8F0FE;\n",
              "      border: none;\n",
              "      border-radius: 50%;\n",
              "      cursor: pointer;\n",
              "      display: none;\n",
              "      fill: #1967D2;\n",
              "      height: 32px;\n",
              "      padding: 0 0 0 0;\n",
              "      width: 32px;\n",
              "    }\n",
              "\n",
              "    .colab-df-convert:hover {\n",
              "      background-color: #E2EBFA;\n",
              "      box-shadow: 0px 1px 2px rgba(60, 64, 67, 0.3), 0px 1px 3px 1px rgba(60, 64, 67, 0.15);\n",
              "      fill: #174EA6;\n",
              "    }\n",
              "\n",
              "    [theme=dark] .colab-df-convert {\n",
              "      background-color: #3B4455;\n",
              "      fill: #D2E3FC;\n",
              "    }\n",
              "\n",
              "    [theme=dark] .colab-df-convert:hover {\n",
              "      background-color: #434B5C;\n",
              "      box-shadow: 0px 1px 3px 1px rgba(0, 0, 0, 0.15);\n",
              "      filter: drop-shadow(0px 1px 2px rgba(0, 0, 0, 0.3));\n",
              "      fill: #FFFFFF;\n",
              "    }\n",
              "  </style>\n",
              "\n",
              "      <script>\n",
              "        const buttonEl =\n",
              "          document.querySelector('#df-3e8cb53e-5619-4fdb-b37d-c6cb8291a57e button.colab-df-convert');\n",
              "        buttonEl.style.display =\n",
              "          google.colab.kernel.accessAllowed ? 'block' : 'none';\n",
              "\n",
              "        async function convertToInteractive(key) {\n",
              "          const element = document.querySelector('#df-3e8cb53e-5619-4fdb-b37d-c6cb8291a57e');\n",
              "          const dataTable =\n",
              "            await google.colab.kernel.invokeFunction('convertToInteractive',\n",
              "                                                     [key], {});\n",
              "          if (!dataTable) return;\n",
              "\n",
              "          const docLinkHtml = 'Like what you see? Visit the ' +\n",
              "            '<a target=\"_blank\" href=https://colab.research.google.com/notebooks/data_table.ipynb>data table notebook</a>'\n",
              "            + ' to learn more about interactive tables.';\n",
              "          element.innerHTML = '';\n",
              "          dataTable['output_type'] = 'display_data';\n",
              "          await google.colab.output.renderOutput(dataTable, element);\n",
              "          const docLink = document.createElement('div');\n",
              "          docLink.innerHTML = docLinkHtml;\n",
              "          element.appendChild(docLink);\n",
              "        }\n",
              "      </script>\n",
              "    </div>\n",
              "  </div>\n",
              "  "
            ]
          },
          "metadata": {},
          "execution_count": 32
        }
      ]
    },
    {
      "cell_type": "code",
      "source": [
        "pedidos.describe()\n",
        "#Este desconto de 7135.200 está chamando a atenção"
      ],
      "metadata": {
        "colab": {
          "base_uri": "https://localhost:8080/",
          "height": 300
        },
        "id": "EU4PNU_UzKH5",
        "outputId": "8c227a41-c650-4ed9-9730-302b97021ae4"
      },
      "execution_count": null,
      "outputs": [
        {
          "output_type": "execute_result",
          "data": {
            "text/plain": [
              "             PEDIDO   COD_CLIENTE           QTDE  PRECO_UNITARIO  \\\n",
              "count  2.969370e+05  2.969370e+05  296937.000000   296937.000000   \n",
              "mean   8.245409e+06  4.071741e+06       1.096071       88.702216   \n",
              "std    9.617816e+07  4.240777e+04       0.732218       91.983725   \n",
              "min    7.000001e+06  4.000001e+06       1.000000        1.000000   \n",
              "25%    7.045000e+06  4.034865e+06       1.000000       29.900000   \n",
              "50%    7.092251e+06  4.070934e+06       1.000000       59.900000   \n",
              "75%    7.128757e+06  4.107895e+06       1.000000      129.900000   \n",
              "max    8.000000e+09  4.146333e+06     100.000000     2499.900000   \n",
              "\n",
              "       DESCONTO_ITEM  FRETE_PAGO_CLIENTE        RECEITA    CUSTO_FRETE  \n",
              "count  296937.000000       296937.000000  296937.000000  296937.000000  \n",
              "mean       -3.320825            7.565462      96.737892      10.695023  \n",
              "std        20.480290            7.902874      97.317731      10.387043  \n",
              "min     -7135.200000            0.000000       1.080000       0.000000  \n",
              "25%         0.000000            0.000000      32.900000       4.080000  \n",
              "50%         0.000000            6.400000      69.900000       8.090000  \n",
              "75%         0.000000           12.900000     137.410000      14.580000  \n",
              "max        80.000000          147.320000    8001.100000     324.990000  "
            ],
            "text/html": [
              "\n",
              "  <div id=\"df-c92249b4-2609-4c4e-9c59-39a0481d0bc1\">\n",
              "    <div class=\"colab-df-container\">\n",
              "      <div>\n",
              "<style scoped>\n",
              "    .dataframe tbody tr th:only-of-type {\n",
              "        vertical-align: middle;\n",
              "    }\n",
              "\n",
              "    .dataframe tbody tr th {\n",
              "        vertical-align: top;\n",
              "    }\n",
              "\n",
              "    .dataframe thead th {\n",
              "        text-align: right;\n",
              "    }\n",
              "</style>\n",
              "<table border=\"1\" class=\"dataframe\">\n",
              "  <thead>\n",
              "    <tr style=\"text-align: right;\">\n",
              "      <th></th>\n",
              "      <th>PEDIDO</th>\n",
              "      <th>COD_CLIENTE</th>\n",
              "      <th>QTDE</th>\n",
              "      <th>PRECO_UNITARIO</th>\n",
              "      <th>DESCONTO_ITEM</th>\n",
              "      <th>FRETE_PAGO_CLIENTE</th>\n",
              "      <th>RECEITA</th>\n",
              "      <th>CUSTO_FRETE</th>\n",
              "    </tr>\n",
              "  </thead>\n",
              "  <tbody>\n",
              "    <tr>\n",
              "      <th>count</th>\n",
              "      <td>2.969370e+05</td>\n",
              "      <td>2.969370e+05</td>\n",
              "      <td>296937.000000</td>\n",
              "      <td>296937.000000</td>\n",
              "      <td>296937.000000</td>\n",
              "      <td>296937.000000</td>\n",
              "      <td>296937.000000</td>\n",
              "      <td>296937.000000</td>\n",
              "    </tr>\n",
              "    <tr>\n",
              "      <th>mean</th>\n",
              "      <td>8.245409e+06</td>\n",
              "      <td>4.071741e+06</td>\n",
              "      <td>1.096071</td>\n",
              "      <td>88.702216</td>\n",
              "      <td>-3.320825</td>\n",
              "      <td>7.565462</td>\n",
              "      <td>96.737892</td>\n",
              "      <td>10.695023</td>\n",
              "    </tr>\n",
              "    <tr>\n",
              "      <th>std</th>\n",
              "      <td>9.617816e+07</td>\n",
              "      <td>4.240777e+04</td>\n",
              "      <td>0.732218</td>\n",
              "      <td>91.983725</td>\n",
              "      <td>20.480290</td>\n",
              "      <td>7.902874</td>\n",
              "      <td>97.317731</td>\n",
              "      <td>10.387043</td>\n",
              "    </tr>\n",
              "    <tr>\n",
              "      <th>min</th>\n",
              "      <td>7.000001e+06</td>\n",
              "      <td>4.000001e+06</td>\n",
              "      <td>1.000000</td>\n",
              "      <td>1.000000</td>\n",
              "      <td>-7135.200000</td>\n",
              "      <td>0.000000</td>\n",
              "      <td>1.080000</td>\n",
              "      <td>0.000000</td>\n",
              "    </tr>\n",
              "    <tr>\n",
              "      <th>25%</th>\n",
              "      <td>7.045000e+06</td>\n",
              "      <td>4.034865e+06</td>\n",
              "      <td>1.000000</td>\n",
              "      <td>29.900000</td>\n",
              "      <td>0.000000</td>\n",
              "      <td>0.000000</td>\n",
              "      <td>32.900000</td>\n",
              "      <td>4.080000</td>\n",
              "    </tr>\n",
              "    <tr>\n",
              "      <th>50%</th>\n",
              "      <td>7.092251e+06</td>\n",
              "      <td>4.070934e+06</td>\n",
              "      <td>1.000000</td>\n",
              "      <td>59.900000</td>\n",
              "      <td>0.000000</td>\n",
              "      <td>6.400000</td>\n",
              "      <td>69.900000</td>\n",
              "      <td>8.090000</td>\n",
              "    </tr>\n",
              "    <tr>\n",
              "      <th>75%</th>\n",
              "      <td>7.128757e+06</td>\n",
              "      <td>4.107895e+06</td>\n",
              "      <td>1.000000</td>\n",
              "      <td>129.900000</td>\n",
              "      <td>0.000000</td>\n",
              "      <td>12.900000</td>\n",
              "      <td>137.410000</td>\n",
              "      <td>14.580000</td>\n",
              "    </tr>\n",
              "    <tr>\n",
              "      <th>max</th>\n",
              "      <td>8.000000e+09</td>\n",
              "      <td>4.146333e+06</td>\n",
              "      <td>100.000000</td>\n",
              "      <td>2499.900000</td>\n",
              "      <td>80.000000</td>\n",
              "      <td>147.320000</td>\n",
              "      <td>8001.100000</td>\n",
              "      <td>324.990000</td>\n",
              "    </tr>\n",
              "  </tbody>\n",
              "</table>\n",
              "</div>\n",
              "      <button class=\"colab-df-convert\" onclick=\"convertToInteractive('df-c92249b4-2609-4c4e-9c59-39a0481d0bc1')\"\n",
              "              title=\"Convert this dataframe to an interactive table.\"\n",
              "              style=\"display:none;\">\n",
              "        \n",
              "  <svg xmlns=\"http://www.w3.org/2000/svg\" height=\"24px\"viewBox=\"0 0 24 24\"\n",
              "       width=\"24px\">\n",
              "    <path d=\"M0 0h24v24H0V0z\" fill=\"none\"/>\n",
              "    <path d=\"M18.56 5.44l.94 2.06.94-2.06 2.06-.94-2.06-.94-.94-2.06-.94 2.06-2.06.94zm-11 1L8.5 8.5l.94-2.06 2.06-.94-2.06-.94L8.5 2.5l-.94 2.06-2.06.94zm10 10l.94 2.06.94-2.06 2.06-.94-2.06-.94-.94-2.06-.94 2.06-2.06.94z\"/><path d=\"M17.41 7.96l-1.37-1.37c-.4-.4-.92-.59-1.43-.59-.52 0-1.04.2-1.43.59L10.3 9.45l-7.72 7.72c-.78.78-.78 2.05 0 2.83L4 21.41c.39.39.9.59 1.41.59.51 0 1.02-.2 1.41-.59l7.78-7.78 2.81-2.81c.8-.78.8-2.07 0-2.86zM5.41 20L4 18.59l7.72-7.72 1.47 1.35L5.41 20z\"/>\n",
              "  </svg>\n",
              "      </button>\n",
              "      \n",
              "  <style>\n",
              "    .colab-df-container {\n",
              "      display:flex;\n",
              "      flex-wrap:wrap;\n",
              "      gap: 12px;\n",
              "    }\n",
              "\n",
              "    .colab-df-convert {\n",
              "      background-color: #E8F0FE;\n",
              "      border: none;\n",
              "      border-radius: 50%;\n",
              "      cursor: pointer;\n",
              "      display: none;\n",
              "      fill: #1967D2;\n",
              "      height: 32px;\n",
              "      padding: 0 0 0 0;\n",
              "      width: 32px;\n",
              "    }\n",
              "\n",
              "    .colab-df-convert:hover {\n",
              "      background-color: #E2EBFA;\n",
              "      box-shadow: 0px 1px 2px rgba(60, 64, 67, 0.3), 0px 1px 3px 1px rgba(60, 64, 67, 0.15);\n",
              "      fill: #174EA6;\n",
              "    }\n",
              "\n",
              "    [theme=dark] .colab-df-convert {\n",
              "      background-color: #3B4455;\n",
              "      fill: #D2E3FC;\n",
              "    }\n",
              "\n",
              "    [theme=dark] .colab-df-convert:hover {\n",
              "      background-color: #434B5C;\n",
              "      box-shadow: 0px 1px 3px 1px rgba(0, 0, 0, 0.15);\n",
              "      filter: drop-shadow(0px 1px 2px rgba(0, 0, 0, 0.3));\n",
              "      fill: #FFFFFF;\n",
              "    }\n",
              "  </style>\n",
              "\n",
              "      <script>\n",
              "        const buttonEl =\n",
              "          document.querySelector('#df-c92249b4-2609-4c4e-9c59-39a0481d0bc1 button.colab-df-convert');\n",
              "        buttonEl.style.display =\n",
              "          google.colab.kernel.accessAllowed ? 'block' : 'none';\n",
              "\n",
              "        async function convertToInteractive(key) {\n",
              "          const element = document.querySelector('#df-c92249b4-2609-4c4e-9c59-39a0481d0bc1');\n",
              "          const dataTable =\n",
              "            await google.colab.kernel.invokeFunction('convertToInteractive',\n",
              "                                                     [key], {});\n",
              "          if (!dataTable) return;\n",
              "\n",
              "          const docLinkHtml = 'Like what you see? Visit the ' +\n",
              "            '<a target=\"_blank\" href=https://colab.research.google.com/notebooks/data_table.ipynb>data table notebook</a>'\n",
              "            + ' to learn more about interactive tables.';\n",
              "          element.innerHTML = '';\n",
              "          dataTable['output_type'] = 'display_data';\n",
              "          await google.colab.output.renderOutput(dataTable, element);\n",
              "          const docLink = document.createElement('div');\n",
              "          docLink.innerHTML = docLinkHtml;\n",
              "          element.appendChild(docLink);\n",
              "        }\n",
              "      </script>\n",
              "    </div>\n",
              "  </div>\n",
              "  "
            ]
          },
          "metadata": {},
          "execution_count": 33
        }
      ]
    },
    {
      "cell_type": "code",
      "source": [
        "pedidos[pedidos['DESCONTO_ITEM']<-1000]\n",
        "# Nota-se descontos surreais quando alguns itens são comprados em grande quantidade"
      ],
      "metadata": {
        "colab": {
          "base_uri": "https://localhost:8080/",
          "height": 454
        },
        "id": "jRJz7un_1M3X",
        "outputId": "3679e07e-b933-420f-c092-bbd1e51cc701"
      },
      "execution_count": null,
      "outputs": [
        {
          "output_type": "execute_result",
          "data": {
            "text/plain": [
              "                        DATA_VENDA   PEDIDO    PEDIDO_ERP  COD_CLIENTE  \\\n",
              "140261  2020-10-21 00:00:00.000000  7105063  P10000227569      4128796   \n",
              "164969  2020-10-21 00:00:00.000000  7105063  P10000227569      4128796   \n",
              "164970  2020-10-21 00:00:00.000000  7105063  P10000227569      4128796   \n",
              "230505  2021-01-21 00:00:00.000000  7161259  P10000283598      4128796   \n",
              "238633  2020-12-11 00:00:00.000000  7144494  P10000266924      4013903   \n",
              "242326  2020-10-22 00:00:00.000000  7105490  P10000228017      4113368   \n",
              "277931  2020-12-01 00:00:00.000000  7137604  P10000260118      4093216   \n",
              "\n",
              "        PRODUTO  QTDE  PRECO_UNITARIO  DESCONTO_ITEM  FRETE_PAGO_CLIENTE  \\\n",
              "140261  E10725Y     6           229.9       -1205.58                 0.0   \n",
              "164969  E10795Y     6           329.9       -1729.98                 0.0   \n",
              "164970  E10817Y     6           229.9       -1205.58                 0.0   \n",
              "230505  E10822Y     6           189.9       -1003.80                 0.0   \n",
              "238633  E10780Y    30           159.9       -2230.50                 0.0   \n",
              "242326  E10539Y    60           139.9       -7135.20                 0.0   \n",
              "277931  E10744Y     4           499.9       -1499.68                 0.0   \n",
              "\n",
              "        RECEITA  CUSTO_FRETE  \n",
              "140261   173.82        29.89  \n",
              "164969   249.42        42.89  \n",
              "164970   173.82        29.89  \n",
              "230505   135.60        24.69  \n",
              "238633  2566.50        20.79  \n",
              "242326  1258.80        18.19  \n",
              "277931   499.92        64.99  "
            ],
            "text/html": [
              "\n",
              "  <div id=\"df-25dacfe0-1ed7-4128-8d31-bbbe162da5ad\">\n",
              "    <div class=\"colab-df-container\">\n",
              "      <div>\n",
              "<style scoped>\n",
              "    .dataframe tbody tr th:only-of-type {\n",
              "        vertical-align: middle;\n",
              "    }\n",
              "\n",
              "    .dataframe tbody tr th {\n",
              "        vertical-align: top;\n",
              "    }\n",
              "\n",
              "    .dataframe thead th {\n",
              "        text-align: right;\n",
              "    }\n",
              "</style>\n",
              "<table border=\"1\" class=\"dataframe\">\n",
              "  <thead>\n",
              "    <tr style=\"text-align: right;\">\n",
              "      <th></th>\n",
              "      <th>DATA_VENDA</th>\n",
              "      <th>PEDIDO</th>\n",
              "      <th>PEDIDO_ERP</th>\n",
              "      <th>COD_CLIENTE</th>\n",
              "      <th>PRODUTO</th>\n",
              "      <th>QTDE</th>\n",
              "      <th>PRECO_UNITARIO</th>\n",
              "      <th>DESCONTO_ITEM</th>\n",
              "      <th>FRETE_PAGO_CLIENTE</th>\n",
              "      <th>RECEITA</th>\n",
              "      <th>CUSTO_FRETE</th>\n",
              "    </tr>\n",
              "  </thead>\n",
              "  <tbody>\n",
              "    <tr>\n",
              "      <th>140261</th>\n",
              "      <td>2020-10-21 00:00:00.000000</td>\n",
              "      <td>7105063</td>\n",
              "      <td>P10000227569</td>\n",
              "      <td>4128796</td>\n",
              "      <td>E10725Y</td>\n",
              "      <td>6</td>\n",
              "      <td>229.9</td>\n",
              "      <td>-1205.58</td>\n",
              "      <td>0.0</td>\n",
              "      <td>173.82</td>\n",
              "      <td>29.89</td>\n",
              "    </tr>\n",
              "    <tr>\n",
              "      <th>164969</th>\n",
              "      <td>2020-10-21 00:00:00.000000</td>\n",
              "      <td>7105063</td>\n",
              "      <td>P10000227569</td>\n",
              "      <td>4128796</td>\n",
              "      <td>E10795Y</td>\n",
              "      <td>6</td>\n",
              "      <td>329.9</td>\n",
              "      <td>-1729.98</td>\n",
              "      <td>0.0</td>\n",
              "      <td>249.42</td>\n",
              "      <td>42.89</td>\n",
              "    </tr>\n",
              "    <tr>\n",
              "      <th>164970</th>\n",
              "      <td>2020-10-21 00:00:00.000000</td>\n",
              "      <td>7105063</td>\n",
              "      <td>P10000227569</td>\n",
              "      <td>4128796</td>\n",
              "      <td>E10817Y</td>\n",
              "      <td>6</td>\n",
              "      <td>229.9</td>\n",
              "      <td>-1205.58</td>\n",
              "      <td>0.0</td>\n",
              "      <td>173.82</td>\n",
              "      <td>29.89</td>\n",
              "    </tr>\n",
              "    <tr>\n",
              "      <th>230505</th>\n",
              "      <td>2021-01-21 00:00:00.000000</td>\n",
              "      <td>7161259</td>\n",
              "      <td>P10000283598</td>\n",
              "      <td>4128796</td>\n",
              "      <td>E10822Y</td>\n",
              "      <td>6</td>\n",
              "      <td>189.9</td>\n",
              "      <td>-1003.80</td>\n",
              "      <td>0.0</td>\n",
              "      <td>135.60</td>\n",
              "      <td>24.69</td>\n",
              "    </tr>\n",
              "    <tr>\n",
              "      <th>238633</th>\n",
              "      <td>2020-12-11 00:00:00.000000</td>\n",
              "      <td>7144494</td>\n",
              "      <td>P10000266924</td>\n",
              "      <td>4013903</td>\n",
              "      <td>E10780Y</td>\n",
              "      <td>30</td>\n",
              "      <td>159.9</td>\n",
              "      <td>-2230.50</td>\n",
              "      <td>0.0</td>\n",
              "      <td>2566.50</td>\n",
              "      <td>20.79</td>\n",
              "    </tr>\n",
              "    <tr>\n",
              "      <th>242326</th>\n",
              "      <td>2020-10-22 00:00:00.000000</td>\n",
              "      <td>7105490</td>\n",
              "      <td>P10000228017</td>\n",
              "      <td>4113368</td>\n",
              "      <td>E10539Y</td>\n",
              "      <td>60</td>\n",
              "      <td>139.9</td>\n",
              "      <td>-7135.20</td>\n",
              "      <td>0.0</td>\n",
              "      <td>1258.80</td>\n",
              "      <td>18.19</td>\n",
              "    </tr>\n",
              "    <tr>\n",
              "      <th>277931</th>\n",
              "      <td>2020-12-01 00:00:00.000000</td>\n",
              "      <td>7137604</td>\n",
              "      <td>P10000260118</td>\n",
              "      <td>4093216</td>\n",
              "      <td>E10744Y</td>\n",
              "      <td>4</td>\n",
              "      <td>499.9</td>\n",
              "      <td>-1499.68</td>\n",
              "      <td>0.0</td>\n",
              "      <td>499.92</td>\n",
              "      <td>64.99</td>\n",
              "    </tr>\n",
              "  </tbody>\n",
              "</table>\n",
              "</div>\n",
              "      <button class=\"colab-df-convert\" onclick=\"convertToInteractive('df-25dacfe0-1ed7-4128-8d31-bbbe162da5ad')\"\n",
              "              title=\"Convert this dataframe to an interactive table.\"\n",
              "              style=\"display:none;\">\n",
              "        \n",
              "  <svg xmlns=\"http://www.w3.org/2000/svg\" height=\"24px\"viewBox=\"0 0 24 24\"\n",
              "       width=\"24px\">\n",
              "    <path d=\"M0 0h24v24H0V0z\" fill=\"none\"/>\n",
              "    <path d=\"M18.56 5.44l.94 2.06.94-2.06 2.06-.94-2.06-.94-.94-2.06-.94 2.06-2.06.94zm-11 1L8.5 8.5l.94-2.06 2.06-.94-2.06-.94L8.5 2.5l-.94 2.06-2.06.94zm10 10l.94 2.06.94-2.06 2.06-.94-2.06-.94-.94-2.06-.94 2.06-2.06.94z\"/><path d=\"M17.41 7.96l-1.37-1.37c-.4-.4-.92-.59-1.43-.59-.52 0-1.04.2-1.43.59L10.3 9.45l-7.72 7.72c-.78.78-.78 2.05 0 2.83L4 21.41c.39.39.9.59 1.41.59.51 0 1.02-.2 1.41-.59l7.78-7.78 2.81-2.81c.8-.78.8-2.07 0-2.86zM5.41 20L4 18.59l7.72-7.72 1.47 1.35L5.41 20z\"/>\n",
              "  </svg>\n",
              "      </button>\n",
              "      \n",
              "  <style>\n",
              "    .colab-df-container {\n",
              "      display:flex;\n",
              "      flex-wrap:wrap;\n",
              "      gap: 12px;\n",
              "    }\n",
              "\n",
              "    .colab-df-convert {\n",
              "      background-color: #E8F0FE;\n",
              "      border: none;\n",
              "      border-radius: 50%;\n",
              "      cursor: pointer;\n",
              "      display: none;\n",
              "      fill: #1967D2;\n",
              "      height: 32px;\n",
              "      padding: 0 0 0 0;\n",
              "      width: 32px;\n",
              "    }\n",
              "\n",
              "    .colab-df-convert:hover {\n",
              "      background-color: #E2EBFA;\n",
              "      box-shadow: 0px 1px 2px rgba(60, 64, 67, 0.3), 0px 1px 3px 1px rgba(60, 64, 67, 0.15);\n",
              "      fill: #174EA6;\n",
              "    }\n",
              "\n",
              "    [theme=dark] .colab-df-convert {\n",
              "      background-color: #3B4455;\n",
              "      fill: #D2E3FC;\n",
              "    }\n",
              "\n",
              "    [theme=dark] .colab-df-convert:hover {\n",
              "      background-color: #434B5C;\n",
              "      box-shadow: 0px 1px 3px 1px rgba(0, 0, 0, 0.15);\n",
              "      filter: drop-shadow(0px 1px 2px rgba(0, 0, 0, 0.3));\n",
              "      fill: #FFFFFF;\n",
              "    }\n",
              "  </style>\n",
              "\n",
              "      <script>\n",
              "        const buttonEl =\n",
              "          document.querySelector('#df-25dacfe0-1ed7-4128-8d31-bbbe162da5ad button.colab-df-convert');\n",
              "        buttonEl.style.display =\n",
              "          google.colab.kernel.accessAllowed ? 'block' : 'none';\n",
              "\n",
              "        async function convertToInteractive(key) {\n",
              "          const element = document.querySelector('#df-25dacfe0-1ed7-4128-8d31-bbbe162da5ad');\n",
              "          const dataTable =\n",
              "            await google.colab.kernel.invokeFunction('convertToInteractive',\n",
              "                                                     [key], {});\n",
              "          if (!dataTable) return;\n",
              "\n",
              "          const docLinkHtml = 'Like what you see? Visit the ' +\n",
              "            '<a target=\"_blank\" href=https://colab.research.google.com/notebooks/data_table.ipynb>data table notebook</a>'\n",
              "            + ' to learn more about interactive tables.';\n",
              "          element.innerHTML = '';\n",
              "          dataTable['output_type'] = 'display_data';\n",
              "          await google.colab.output.renderOutput(dataTable, element);\n",
              "          const docLink = document.createElement('div');\n",
              "          docLink.innerHTML = docLinkHtml;\n",
              "          element.appendChild(docLink);\n",
              "        }\n",
              "      </script>\n",
              "    </div>\n",
              "  </div>\n",
              "  "
            ]
          },
          "metadata": {},
          "execution_count": 34
        }
      ]
    },
    {
      "cell_type": "markdown",
      "source": [
        "Agora vamos juntar as tabelas"
      ],
      "metadata": {
        "id": "ciFap5R03mGY"
      }
    },
    {
      "cell_type": "code",
      "source": [
        "m4 = pd.merge(info, pedidos, how = 'outer', on='PRODUTO')\n",
        "m4.head()"
      ],
      "metadata": {
        "colab": {
          "base_uri": "https://localhost:8080/",
          "height": 357
        },
        "id": "jbiliAE93rMc",
        "outputId": "83773fab-40dc-4fa6-a402-09f43112c0e8"
      },
      "execution_count": null,
      "outputs": [
        {
          "output_type": "execute_result",
          "data": {
            "text/plain": [
              "   PRODUTO  CUSTO_MERCADORIA LINHA_PRODUTO                  DATA_VENDA  \\\n",
              "0  A10001G              21.1        BASICO  2020-11-03 00:00:00.000000   \n",
              "1  A10001G              21.1        BASICO  2020-09-04 00:00:00.000000   \n",
              "2  A10002M              21.1        BASICO  2021-01-22 00:00:00.000000   \n",
              "3  A10002M              21.1        BASICO  2021-01-02 00:00:00.000000   \n",
              "4  A10003M              22.6        BASICO  2020-09-04 00:00:00.000000   \n",
              "\n",
              "    PEDIDO    PEDIDO_ERP  COD_CLIENTE  QTDE  PRECO_UNITARIO  DESCONTO_ITEM  \\\n",
              "0  7110620  P10000233167      4019515     1            59.9            0.0   \n",
              "1  7093740  P10000216261      4017261     1            59.9            0.0   \n",
              "2  7161508  P10000283866      4110263     1            59.9            0.0   \n",
              "3  7155350  P10000277710      4011082     1            59.9            0.0   \n",
              "4  7093740  P10000216261      4017261     1            59.9            0.0   \n",
              "\n",
              "   FRETE_PAGO_CLIENTE  RECEITA  CUSTO_FRETE  \n",
              "0                4.30    64.20         4.30  \n",
              "1                0.00    59.90         7.79  \n",
              "2                0.00    59.90         7.79  \n",
              "3                3.23    63.13         3.23  \n",
              "4                0.00    59.90         7.79  "
            ],
            "text/html": [
              "\n",
              "  <div id=\"df-7a462ec1-d06c-41bf-a0dc-cbbb9da92d03\">\n",
              "    <div class=\"colab-df-container\">\n",
              "      <div>\n",
              "<style scoped>\n",
              "    .dataframe tbody tr th:only-of-type {\n",
              "        vertical-align: middle;\n",
              "    }\n",
              "\n",
              "    .dataframe tbody tr th {\n",
              "        vertical-align: top;\n",
              "    }\n",
              "\n",
              "    .dataframe thead th {\n",
              "        text-align: right;\n",
              "    }\n",
              "</style>\n",
              "<table border=\"1\" class=\"dataframe\">\n",
              "  <thead>\n",
              "    <tr style=\"text-align: right;\">\n",
              "      <th></th>\n",
              "      <th>PRODUTO</th>\n",
              "      <th>CUSTO_MERCADORIA</th>\n",
              "      <th>LINHA_PRODUTO</th>\n",
              "      <th>DATA_VENDA</th>\n",
              "      <th>PEDIDO</th>\n",
              "      <th>PEDIDO_ERP</th>\n",
              "      <th>COD_CLIENTE</th>\n",
              "      <th>QTDE</th>\n",
              "      <th>PRECO_UNITARIO</th>\n",
              "      <th>DESCONTO_ITEM</th>\n",
              "      <th>FRETE_PAGO_CLIENTE</th>\n",
              "      <th>RECEITA</th>\n",
              "      <th>CUSTO_FRETE</th>\n",
              "    </tr>\n",
              "  </thead>\n",
              "  <tbody>\n",
              "    <tr>\n",
              "      <th>0</th>\n",
              "      <td>A10001G</td>\n",
              "      <td>21.1</td>\n",
              "      <td>BASICO</td>\n",
              "      <td>2020-11-03 00:00:00.000000</td>\n",
              "      <td>7110620</td>\n",
              "      <td>P10000233167</td>\n",
              "      <td>4019515</td>\n",
              "      <td>1</td>\n",
              "      <td>59.9</td>\n",
              "      <td>0.0</td>\n",
              "      <td>4.30</td>\n",
              "      <td>64.20</td>\n",
              "      <td>4.30</td>\n",
              "    </tr>\n",
              "    <tr>\n",
              "      <th>1</th>\n",
              "      <td>A10001G</td>\n",
              "      <td>21.1</td>\n",
              "      <td>BASICO</td>\n",
              "      <td>2020-09-04 00:00:00.000000</td>\n",
              "      <td>7093740</td>\n",
              "      <td>P10000216261</td>\n",
              "      <td>4017261</td>\n",
              "      <td>1</td>\n",
              "      <td>59.9</td>\n",
              "      <td>0.0</td>\n",
              "      <td>0.00</td>\n",
              "      <td>59.90</td>\n",
              "      <td>7.79</td>\n",
              "    </tr>\n",
              "    <tr>\n",
              "      <th>2</th>\n",
              "      <td>A10002M</td>\n",
              "      <td>21.1</td>\n",
              "      <td>BASICO</td>\n",
              "      <td>2021-01-22 00:00:00.000000</td>\n",
              "      <td>7161508</td>\n",
              "      <td>P10000283866</td>\n",
              "      <td>4110263</td>\n",
              "      <td>1</td>\n",
              "      <td>59.9</td>\n",
              "      <td>0.0</td>\n",
              "      <td>0.00</td>\n",
              "      <td>59.90</td>\n",
              "      <td>7.79</td>\n",
              "    </tr>\n",
              "    <tr>\n",
              "      <th>3</th>\n",
              "      <td>A10002M</td>\n",
              "      <td>21.1</td>\n",
              "      <td>BASICO</td>\n",
              "      <td>2021-01-02 00:00:00.000000</td>\n",
              "      <td>7155350</td>\n",
              "      <td>P10000277710</td>\n",
              "      <td>4011082</td>\n",
              "      <td>1</td>\n",
              "      <td>59.9</td>\n",
              "      <td>0.0</td>\n",
              "      <td>3.23</td>\n",
              "      <td>63.13</td>\n",
              "      <td>3.23</td>\n",
              "    </tr>\n",
              "    <tr>\n",
              "      <th>4</th>\n",
              "      <td>A10003M</td>\n",
              "      <td>22.6</td>\n",
              "      <td>BASICO</td>\n",
              "      <td>2020-09-04 00:00:00.000000</td>\n",
              "      <td>7093740</td>\n",
              "      <td>P10000216261</td>\n",
              "      <td>4017261</td>\n",
              "      <td>1</td>\n",
              "      <td>59.9</td>\n",
              "      <td>0.0</td>\n",
              "      <td>0.00</td>\n",
              "      <td>59.90</td>\n",
              "      <td>7.79</td>\n",
              "    </tr>\n",
              "  </tbody>\n",
              "</table>\n",
              "</div>\n",
              "      <button class=\"colab-df-convert\" onclick=\"convertToInteractive('df-7a462ec1-d06c-41bf-a0dc-cbbb9da92d03')\"\n",
              "              title=\"Convert this dataframe to an interactive table.\"\n",
              "              style=\"display:none;\">\n",
              "        \n",
              "  <svg xmlns=\"http://www.w3.org/2000/svg\" height=\"24px\"viewBox=\"0 0 24 24\"\n",
              "       width=\"24px\">\n",
              "    <path d=\"M0 0h24v24H0V0z\" fill=\"none\"/>\n",
              "    <path d=\"M18.56 5.44l.94 2.06.94-2.06 2.06-.94-2.06-.94-.94-2.06-.94 2.06-2.06.94zm-11 1L8.5 8.5l.94-2.06 2.06-.94-2.06-.94L8.5 2.5l-.94 2.06-2.06.94zm10 10l.94 2.06.94-2.06 2.06-.94-2.06-.94-.94-2.06-.94 2.06-2.06.94z\"/><path d=\"M17.41 7.96l-1.37-1.37c-.4-.4-.92-.59-1.43-.59-.52 0-1.04.2-1.43.59L10.3 9.45l-7.72 7.72c-.78.78-.78 2.05 0 2.83L4 21.41c.39.39.9.59 1.41.59.51 0 1.02-.2 1.41-.59l7.78-7.78 2.81-2.81c.8-.78.8-2.07 0-2.86zM5.41 20L4 18.59l7.72-7.72 1.47 1.35L5.41 20z\"/>\n",
              "  </svg>\n",
              "      </button>\n",
              "      \n",
              "  <style>\n",
              "    .colab-df-container {\n",
              "      display:flex;\n",
              "      flex-wrap:wrap;\n",
              "      gap: 12px;\n",
              "    }\n",
              "\n",
              "    .colab-df-convert {\n",
              "      background-color: #E8F0FE;\n",
              "      border: none;\n",
              "      border-radius: 50%;\n",
              "      cursor: pointer;\n",
              "      display: none;\n",
              "      fill: #1967D2;\n",
              "      height: 32px;\n",
              "      padding: 0 0 0 0;\n",
              "      width: 32px;\n",
              "    }\n",
              "\n",
              "    .colab-df-convert:hover {\n",
              "      background-color: #E2EBFA;\n",
              "      box-shadow: 0px 1px 2px rgba(60, 64, 67, 0.3), 0px 1px 3px 1px rgba(60, 64, 67, 0.15);\n",
              "      fill: #174EA6;\n",
              "    }\n",
              "\n",
              "    [theme=dark] .colab-df-convert {\n",
              "      background-color: #3B4455;\n",
              "      fill: #D2E3FC;\n",
              "    }\n",
              "\n",
              "    [theme=dark] .colab-df-convert:hover {\n",
              "      background-color: #434B5C;\n",
              "      box-shadow: 0px 1px 3px 1px rgba(0, 0, 0, 0.15);\n",
              "      filter: drop-shadow(0px 1px 2px rgba(0, 0, 0, 0.3));\n",
              "      fill: #FFFFFF;\n",
              "    }\n",
              "  </style>\n",
              "\n",
              "      <script>\n",
              "        const buttonEl =\n",
              "          document.querySelector('#df-7a462ec1-d06c-41bf-a0dc-cbbb9da92d03 button.colab-df-convert');\n",
              "        buttonEl.style.display =\n",
              "          google.colab.kernel.accessAllowed ? 'block' : 'none';\n",
              "\n",
              "        async function convertToInteractive(key) {\n",
              "          const element = document.querySelector('#df-7a462ec1-d06c-41bf-a0dc-cbbb9da92d03');\n",
              "          const dataTable =\n",
              "            await google.colab.kernel.invokeFunction('convertToInteractive',\n",
              "                                                     [key], {});\n",
              "          if (!dataTable) return;\n",
              "\n",
              "          const docLinkHtml = 'Like what you see? Visit the ' +\n",
              "            '<a target=\"_blank\" href=https://colab.research.google.com/notebooks/data_table.ipynb>data table notebook</a>'\n",
              "            + ' to learn more about interactive tables.';\n",
              "          element.innerHTML = '';\n",
              "          dataTable['output_type'] = 'display_data';\n",
              "          await google.colab.output.renderOutput(dataTable, element);\n",
              "          const docLink = document.createElement('div');\n",
              "          docLink.innerHTML = docLinkHtml;\n",
              "          element.appendChild(docLink);\n",
              "        }\n",
              "      </script>\n",
              "    </div>\n",
              "  </div>\n",
              "  "
            ]
          },
          "metadata": {},
          "execution_count": 35
        }
      ]
    },
    {
      "cell_type": "code",
      "source": [
        "m3 = pd.merge(m4, clientes, how = 'outer', on='COD_CLIENTE')\n",
        "m3.head()"
      ],
      "metadata": {
        "colab": {
          "base_uri": "https://localhost:8080/",
          "height": 357
        },
        "id": "ZfBSlNIi9teB",
        "outputId": "e39bb026-318f-4a7a-b478-be05a6ebfd2e"
      },
      "execution_count": null,
      "outputs": [
        {
          "output_type": "execute_result",
          "data": {
            "text/plain": [
              "   PRODUTO  CUSTO_MERCADORIA LINHA_PRODUTO                  DATA_VENDA  \\\n",
              "0  A10001G             21.10        BASICO  2020-11-03 00:00:00.000000   \n",
              "1  A10008G             24.23        BASICO  2020-11-03 00:00:00.000000   \n",
              "2  A10012G             27.13        BASICO  2020-11-03 00:00:00.000000   \n",
              "3  B10057G              8.70        BASICO  2020-03-14 00:00:00.000000   \n",
              "4  B10058G              8.70        BASICO  2020-03-14 00:00:00.000000   \n",
              "\n",
              "    PEDIDO    PEDIDO_ERP  COD_CLIENTE  QTDE  PRECO_UNITARIO  DESCONTO_ITEM  \\\n",
              "0  7110620  P10000233167      4019515     1            59.9            0.0   \n",
              "1  7110620  P10000233167      4019515     1            64.9            0.0   \n",
              "2  7110620  P10000233167      4019515     1            79.9            0.0   \n",
              "3  7010753  P10000133510      4019515     1            29.9            0.0   \n",
              "4  7010753  P10000133510      4019515     1            29.9            0.0   \n",
              "\n",
              "   FRETE_PAGO_CLIENTE  RECEITA  CUSTO_FRETE  IDADE  UF   REGIAO  \\\n",
              "0                4.30    64.20         4.30   32.0  SP  Sudeste   \n",
              "1                4.30    69.20         4.30   32.0  SP  Sudeste   \n",
              "2                4.30    84.20         4.30   32.0  SP  Sudeste   \n",
              "3                2.76    32.66         2.76   32.0  SP  Sudeste   \n",
              "4                2.76    32.66         2.76   32.0  SP  Sudeste   \n",
              "\n",
              "   RENDA_PRESUMIDA  \n",
              "0          8890.73  \n",
              "1          8890.73  \n",
              "2          8890.73  \n",
              "3          8890.73  \n",
              "4          8890.73  "
            ],
            "text/html": [
              "\n",
              "  <div id=\"df-7175fb95-9de0-4dcc-8534-e819d6420395\">\n",
              "    <div class=\"colab-df-container\">\n",
              "      <div>\n",
              "<style scoped>\n",
              "    .dataframe tbody tr th:only-of-type {\n",
              "        vertical-align: middle;\n",
              "    }\n",
              "\n",
              "    .dataframe tbody tr th {\n",
              "        vertical-align: top;\n",
              "    }\n",
              "\n",
              "    .dataframe thead th {\n",
              "        text-align: right;\n",
              "    }\n",
              "</style>\n",
              "<table border=\"1\" class=\"dataframe\">\n",
              "  <thead>\n",
              "    <tr style=\"text-align: right;\">\n",
              "      <th></th>\n",
              "      <th>PRODUTO</th>\n",
              "      <th>CUSTO_MERCADORIA</th>\n",
              "      <th>LINHA_PRODUTO</th>\n",
              "      <th>DATA_VENDA</th>\n",
              "      <th>PEDIDO</th>\n",
              "      <th>PEDIDO_ERP</th>\n",
              "      <th>COD_CLIENTE</th>\n",
              "      <th>QTDE</th>\n",
              "      <th>PRECO_UNITARIO</th>\n",
              "      <th>DESCONTO_ITEM</th>\n",
              "      <th>FRETE_PAGO_CLIENTE</th>\n",
              "      <th>RECEITA</th>\n",
              "      <th>CUSTO_FRETE</th>\n",
              "      <th>IDADE</th>\n",
              "      <th>UF</th>\n",
              "      <th>REGIAO</th>\n",
              "      <th>RENDA_PRESUMIDA</th>\n",
              "    </tr>\n",
              "  </thead>\n",
              "  <tbody>\n",
              "    <tr>\n",
              "      <th>0</th>\n",
              "      <td>A10001G</td>\n",
              "      <td>21.10</td>\n",
              "      <td>BASICO</td>\n",
              "      <td>2020-11-03 00:00:00.000000</td>\n",
              "      <td>7110620</td>\n",
              "      <td>P10000233167</td>\n",
              "      <td>4019515</td>\n",
              "      <td>1</td>\n",
              "      <td>59.9</td>\n",
              "      <td>0.0</td>\n",
              "      <td>4.30</td>\n",
              "      <td>64.20</td>\n",
              "      <td>4.30</td>\n",
              "      <td>32.0</td>\n",
              "      <td>SP</td>\n",
              "      <td>Sudeste</td>\n",
              "      <td>8890.73</td>\n",
              "    </tr>\n",
              "    <tr>\n",
              "      <th>1</th>\n",
              "      <td>A10008G</td>\n",
              "      <td>24.23</td>\n",
              "      <td>BASICO</td>\n",
              "      <td>2020-11-03 00:00:00.000000</td>\n",
              "      <td>7110620</td>\n",
              "      <td>P10000233167</td>\n",
              "      <td>4019515</td>\n",
              "      <td>1</td>\n",
              "      <td>64.9</td>\n",
              "      <td>0.0</td>\n",
              "      <td>4.30</td>\n",
              "      <td>69.20</td>\n",
              "      <td>4.30</td>\n",
              "      <td>32.0</td>\n",
              "      <td>SP</td>\n",
              "      <td>Sudeste</td>\n",
              "      <td>8890.73</td>\n",
              "    </tr>\n",
              "    <tr>\n",
              "      <th>2</th>\n",
              "      <td>A10012G</td>\n",
              "      <td>27.13</td>\n",
              "      <td>BASICO</td>\n",
              "      <td>2020-11-03 00:00:00.000000</td>\n",
              "      <td>7110620</td>\n",
              "      <td>P10000233167</td>\n",
              "      <td>4019515</td>\n",
              "      <td>1</td>\n",
              "      <td>79.9</td>\n",
              "      <td>0.0</td>\n",
              "      <td>4.30</td>\n",
              "      <td>84.20</td>\n",
              "      <td>4.30</td>\n",
              "      <td>32.0</td>\n",
              "      <td>SP</td>\n",
              "      <td>Sudeste</td>\n",
              "      <td>8890.73</td>\n",
              "    </tr>\n",
              "    <tr>\n",
              "      <th>3</th>\n",
              "      <td>B10057G</td>\n",
              "      <td>8.70</td>\n",
              "      <td>BASICO</td>\n",
              "      <td>2020-03-14 00:00:00.000000</td>\n",
              "      <td>7010753</td>\n",
              "      <td>P10000133510</td>\n",
              "      <td>4019515</td>\n",
              "      <td>1</td>\n",
              "      <td>29.9</td>\n",
              "      <td>0.0</td>\n",
              "      <td>2.76</td>\n",
              "      <td>32.66</td>\n",
              "      <td>2.76</td>\n",
              "      <td>32.0</td>\n",
              "      <td>SP</td>\n",
              "      <td>Sudeste</td>\n",
              "      <td>8890.73</td>\n",
              "    </tr>\n",
              "    <tr>\n",
              "      <th>4</th>\n",
              "      <td>B10058G</td>\n",
              "      <td>8.70</td>\n",
              "      <td>BASICO</td>\n",
              "      <td>2020-03-14 00:00:00.000000</td>\n",
              "      <td>7010753</td>\n",
              "      <td>P10000133510</td>\n",
              "      <td>4019515</td>\n",
              "      <td>1</td>\n",
              "      <td>29.9</td>\n",
              "      <td>0.0</td>\n",
              "      <td>2.76</td>\n",
              "      <td>32.66</td>\n",
              "      <td>2.76</td>\n",
              "      <td>32.0</td>\n",
              "      <td>SP</td>\n",
              "      <td>Sudeste</td>\n",
              "      <td>8890.73</td>\n",
              "    </tr>\n",
              "  </tbody>\n",
              "</table>\n",
              "</div>\n",
              "      <button class=\"colab-df-convert\" onclick=\"convertToInteractive('df-7175fb95-9de0-4dcc-8534-e819d6420395')\"\n",
              "              title=\"Convert this dataframe to an interactive table.\"\n",
              "              style=\"display:none;\">\n",
              "        \n",
              "  <svg xmlns=\"http://www.w3.org/2000/svg\" height=\"24px\"viewBox=\"0 0 24 24\"\n",
              "       width=\"24px\">\n",
              "    <path d=\"M0 0h24v24H0V0z\" fill=\"none\"/>\n",
              "    <path d=\"M18.56 5.44l.94 2.06.94-2.06 2.06-.94-2.06-.94-.94-2.06-.94 2.06-2.06.94zm-11 1L8.5 8.5l.94-2.06 2.06-.94-2.06-.94L8.5 2.5l-.94 2.06-2.06.94zm10 10l.94 2.06.94-2.06 2.06-.94-2.06-.94-.94-2.06-.94 2.06-2.06.94z\"/><path d=\"M17.41 7.96l-1.37-1.37c-.4-.4-.92-.59-1.43-.59-.52 0-1.04.2-1.43.59L10.3 9.45l-7.72 7.72c-.78.78-.78 2.05 0 2.83L4 21.41c.39.39.9.59 1.41.59.51 0 1.02-.2 1.41-.59l7.78-7.78 2.81-2.81c.8-.78.8-2.07 0-2.86zM5.41 20L4 18.59l7.72-7.72 1.47 1.35L5.41 20z\"/>\n",
              "  </svg>\n",
              "      </button>\n",
              "      \n",
              "  <style>\n",
              "    .colab-df-container {\n",
              "      display:flex;\n",
              "      flex-wrap:wrap;\n",
              "      gap: 12px;\n",
              "    }\n",
              "\n",
              "    .colab-df-convert {\n",
              "      background-color: #E8F0FE;\n",
              "      border: none;\n",
              "      border-radius: 50%;\n",
              "      cursor: pointer;\n",
              "      display: none;\n",
              "      fill: #1967D2;\n",
              "      height: 32px;\n",
              "      padding: 0 0 0 0;\n",
              "      width: 32px;\n",
              "    }\n",
              "\n",
              "    .colab-df-convert:hover {\n",
              "      background-color: #E2EBFA;\n",
              "      box-shadow: 0px 1px 2px rgba(60, 64, 67, 0.3), 0px 1px 3px 1px rgba(60, 64, 67, 0.15);\n",
              "      fill: #174EA6;\n",
              "    }\n",
              "\n",
              "    [theme=dark] .colab-df-convert {\n",
              "      background-color: #3B4455;\n",
              "      fill: #D2E3FC;\n",
              "    }\n",
              "\n",
              "    [theme=dark] .colab-df-convert:hover {\n",
              "      background-color: #434B5C;\n",
              "      box-shadow: 0px 1px 3px 1px rgba(0, 0, 0, 0.15);\n",
              "      filter: drop-shadow(0px 1px 2px rgba(0, 0, 0, 0.3));\n",
              "      fill: #FFFFFF;\n",
              "    }\n",
              "  </style>\n",
              "\n",
              "      <script>\n",
              "        const buttonEl =\n",
              "          document.querySelector('#df-7175fb95-9de0-4dcc-8534-e819d6420395 button.colab-df-convert');\n",
              "        buttonEl.style.display =\n",
              "          google.colab.kernel.accessAllowed ? 'block' : 'none';\n",
              "\n",
              "        async function convertToInteractive(key) {\n",
              "          const element = document.querySelector('#df-7175fb95-9de0-4dcc-8534-e819d6420395');\n",
              "          const dataTable =\n",
              "            await google.colab.kernel.invokeFunction('convertToInteractive',\n",
              "                                                     [key], {});\n",
              "          if (!dataTable) return;\n",
              "\n",
              "          const docLinkHtml = 'Like what you see? Visit the ' +\n",
              "            '<a target=\"_blank\" href=https://colab.research.google.com/notebooks/data_table.ipynb>data table notebook</a>'\n",
              "            + ' to learn more about interactive tables.';\n",
              "          element.innerHTML = '';\n",
              "          dataTable['output_type'] = 'display_data';\n",
              "          await google.colab.output.renderOutput(dataTable, element);\n",
              "          const docLink = document.createElement('div');\n",
              "          docLink.innerHTML = docLinkHtml;\n",
              "          element.appendChild(docLink);\n",
              "        }\n",
              "      </script>\n",
              "    </div>\n",
              "  </div>\n",
              "  "
            ]
          },
          "metadata": {},
          "execution_count": 36
        }
      ]
    },
    {
      "cell_type": "code",
      "source": [
        "m2 = pd.merge(m3, origem, how = 'outer', on='PEDIDO_ERP')\n",
        "m2.head()"
      ],
      "metadata": {
        "colab": {
          "base_uri": "https://localhost:8080/",
          "height": 357
        },
        "id": "qCO-H6bQ-n4j",
        "outputId": "e0f6cbf9-27d4-431d-8beb-763e86c8554a"
      },
      "execution_count": null,
      "outputs": [
        {
          "output_type": "execute_result",
          "data": {
            "text/plain": [
              "   PRODUTO  CUSTO_MERCADORIA LINHA_PRODUTO                  DATA_VENDA  \\\n",
              "0  A10001G             21.10        BASICO  2020-11-03 00:00:00.000000   \n",
              "1  A10008G             24.23        BASICO  2020-11-03 00:00:00.000000   \n",
              "2  A10012G             27.13        BASICO  2020-11-03 00:00:00.000000   \n",
              "3  B10057G              8.70        BASICO  2020-03-14 00:00:00.000000   \n",
              "4  B10058G              8.70        BASICO  2020-03-14 00:00:00.000000   \n",
              "\n",
              "    PEDIDO    PEDIDO_ERP  COD_CLIENTE  QTDE  PRECO_UNITARIO  DESCONTO_ITEM  \\\n",
              "0  7110620  P10000233167      4019515     1            59.9            0.0   \n",
              "1  7110620  P10000233167      4019515     1            64.9            0.0   \n",
              "2  7110620  P10000233167      4019515     1            79.9            0.0   \n",
              "3  7010753  P10000133510      4019515     1            29.9            0.0   \n",
              "4  7010753  P10000133510      4019515     1            29.9            0.0   \n",
              "\n",
              "   FRETE_PAGO_CLIENTE  RECEITA  CUSTO_FRETE  IDADE  UF   REGIAO  \\\n",
              "0                4.30    64.20         4.30   32.0  SP  Sudeste   \n",
              "1                4.30    69.20         4.30   32.0  SP  Sudeste   \n",
              "2                4.30    84.20         4.30   32.0  SP  Sudeste   \n",
              "3                2.76    32.66         2.76   32.0  SP  Sudeste   \n",
              "4                2.76    32.66         2.76   32.0  SP  Sudeste   \n",
              "\n",
              "   RENDA_PRESUMIDA CANAL_MARKETING  \n",
              "0          8890.73           Email  \n",
              "1          8890.73           Email  \n",
              "2          8890.73           Email  \n",
              "3          8890.73           Email  \n",
              "4          8890.73           Email  "
            ],
            "text/html": [
              "\n",
              "  <div id=\"df-e8a01a34-6ab8-469f-925a-2efd787bffbf\">\n",
              "    <div class=\"colab-df-container\">\n",
              "      <div>\n",
              "<style scoped>\n",
              "    .dataframe tbody tr th:only-of-type {\n",
              "        vertical-align: middle;\n",
              "    }\n",
              "\n",
              "    .dataframe tbody tr th {\n",
              "        vertical-align: top;\n",
              "    }\n",
              "\n",
              "    .dataframe thead th {\n",
              "        text-align: right;\n",
              "    }\n",
              "</style>\n",
              "<table border=\"1\" class=\"dataframe\">\n",
              "  <thead>\n",
              "    <tr style=\"text-align: right;\">\n",
              "      <th></th>\n",
              "      <th>PRODUTO</th>\n",
              "      <th>CUSTO_MERCADORIA</th>\n",
              "      <th>LINHA_PRODUTO</th>\n",
              "      <th>DATA_VENDA</th>\n",
              "      <th>PEDIDO</th>\n",
              "      <th>PEDIDO_ERP</th>\n",
              "      <th>COD_CLIENTE</th>\n",
              "      <th>QTDE</th>\n",
              "      <th>PRECO_UNITARIO</th>\n",
              "      <th>DESCONTO_ITEM</th>\n",
              "      <th>FRETE_PAGO_CLIENTE</th>\n",
              "      <th>RECEITA</th>\n",
              "      <th>CUSTO_FRETE</th>\n",
              "      <th>IDADE</th>\n",
              "      <th>UF</th>\n",
              "      <th>REGIAO</th>\n",
              "      <th>RENDA_PRESUMIDA</th>\n",
              "      <th>CANAL_MARKETING</th>\n",
              "    </tr>\n",
              "  </thead>\n",
              "  <tbody>\n",
              "    <tr>\n",
              "      <th>0</th>\n",
              "      <td>A10001G</td>\n",
              "      <td>21.10</td>\n",
              "      <td>BASICO</td>\n",
              "      <td>2020-11-03 00:00:00.000000</td>\n",
              "      <td>7110620</td>\n",
              "      <td>P10000233167</td>\n",
              "      <td>4019515</td>\n",
              "      <td>1</td>\n",
              "      <td>59.9</td>\n",
              "      <td>0.0</td>\n",
              "      <td>4.30</td>\n",
              "      <td>64.20</td>\n",
              "      <td>4.30</td>\n",
              "      <td>32.0</td>\n",
              "      <td>SP</td>\n",
              "      <td>Sudeste</td>\n",
              "      <td>8890.73</td>\n",
              "      <td>Email</td>\n",
              "    </tr>\n",
              "    <tr>\n",
              "      <th>1</th>\n",
              "      <td>A10008G</td>\n",
              "      <td>24.23</td>\n",
              "      <td>BASICO</td>\n",
              "      <td>2020-11-03 00:00:00.000000</td>\n",
              "      <td>7110620</td>\n",
              "      <td>P10000233167</td>\n",
              "      <td>4019515</td>\n",
              "      <td>1</td>\n",
              "      <td>64.9</td>\n",
              "      <td>0.0</td>\n",
              "      <td>4.30</td>\n",
              "      <td>69.20</td>\n",
              "      <td>4.30</td>\n",
              "      <td>32.0</td>\n",
              "      <td>SP</td>\n",
              "      <td>Sudeste</td>\n",
              "      <td>8890.73</td>\n",
              "      <td>Email</td>\n",
              "    </tr>\n",
              "    <tr>\n",
              "      <th>2</th>\n",
              "      <td>A10012G</td>\n",
              "      <td>27.13</td>\n",
              "      <td>BASICO</td>\n",
              "      <td>2020-11-03 00:00:00.000000</td>\n",
              "      <td>7110620</td>\n",
              "      <td>P10000233167</td>\n",
              "      <td>4019515</td>\n",
              "      <td>1</td>\n",
              "      <td>79.9</td>\n",
              "      <td>0.0</td>\n",
              "      <td>4.30</td>\n",
              "      <td>84.20</td>\n",
              "      <td>4.30</td>\n",
              "      <td>32.0</td>\n",
              "      <td>SP</td>\n",
              "      <td>Sudeste</td>\n",
              "      <td>8890.73</td>\n",
              "      <td>Email</td>\n",
              "    </tr>\n",
              "    <tr>\n",
              "      <th>3</th>\n",
              "      <td>B10057G</td>\n",
              "      <td>8.70</td>\n",
              "      <td>BASICO</td>\n",
              "      <td>2020-03-14 00:00:00.000000</td>\n",
              "      <td>7010753</td>\n",
              "      <td>P10000133510</td>\n",
              "      <td>4019515</td>\n",
              "      <td>1</td>\n",
              "      <td>29.9</td>\n",
              "      <td>0.0</td>\n",
              "      <td>2.76</td>\n",
              "      <td>32.66</td>\n",
              "      <td>2.76</td>\n",
              "      <td>32.0</td>\n",
              "      <td>SP</td>\n",
              "      <td>Sudeste</td>\n",
              "      <td>8890.73</td>\n",
              "      <td>Email</td>\n",
              "    </tr>\n",
              "    <tr>\n",
              "      <th>4</th>\n",
              "      <td>B10058G</td>\n",
              "      <td>8.70</td>\n",
              "      <td>BASICO</td>\n",
              "      <td>2020-03-14 00:00:00.000000</td>\n",
              "      <td>7010753</td>\n",
              "      <td>P10000133510</td>\n",
              "      <td>4019515</td>\n",
              "      <td>1</td>\n",
              "      <td>29.9</td>\n",
              "      <td>0.0</td>\n",
              "      <td>2.76</td>\n",
              "      <td>32.66</td>\n",
              "      <td>2.76</td>\n",
              "      <td>32.0</td>\n",
              "      <td>SP</td>\n",
              "      <td>Sudeste</td>\n",
              "      <td>8890.73</td>\n",
              "      <td>Email</td>\n",
              "    </tr>\n",
              "  </tbody>\n",
              "</table>\n",
              "</div>\n",
              "      <button class=\"colab-df-convert\" onclick=\"convertToInteractive('df-e8a01a34-6ab8-469f-925a-2efd787bffbf')\"\n",
              "              title=\"Convert this dataframe to an interactive table.\"\n",
              "              style=\"display:none;\">\n",
              "        \n",
              "  <svg xmlns=\"http://www.w3.org/2000/svg\" height=\"24px\"viewBox=\"0 0 24 24\"\n",
              "       width=\"24px\">\n",
              "    <path d=\"M0 0h24v24H0V0z\" fill=\"none\"/>\n",
              "    <path d=\"M18.56 5.44l.94 2.06.94-2.06 2.06-.94-2.06-.94-.94-2.06-.94 2.06-2.06.94zm-11 1L8.5 8.5l.94-2.06 2.06-.94-2.06-.94L8.5 2.5l-.94 2.06-2.06.94zm10 10l.94 2.06.94-2.06 2.06-.94-2.06-.94-.94-2.06-.94 2.06-2.06.94z\"/><path d=\"M17.41 7.96l-1.37-1.37c-.4-.4-.92-.59-1.43-.59-.52 0-1.04.2-1.43.59L10.3 9.45l-7.72 7.72c-.78.78-.78 2.05 0 2.83L4 21.41c.39.39.9.59 1.41.59.51 0 1.02-.2 1.41-.59l7.78-7.78 2.81-2.81c.8-.78.8-2.07 0-2.86zM5.41 20L4 18.59l7.72-7.72 1.47 1.35L5.41 20z\"/>\n",
              "  </svg>\n",
              "      </button>\n",
              "      \n",
              "  <style>\n",
              "    .colab-df-container {\n",
              "      display:flex;\n",
              "      flex-wrap:wrap;\n",
              "      gap: 12px;\n",
              "    }\n",
              "\n",
              "    .colab-df-convert {\n",
              "      background-color: #E8F0FE;\n",
              "      border: none;\n",
              "      border-radius: 50%;\n",
              "      cursor: pointer;\n",
              "      display: none;\n",
              "      fill: #1967D2;\n",
              "      height: 32px;\n",
              "      padding: 0 0 0 0;\n",
              "      width: 32px;\n",
              "    }\n",
              "\n",
              "    .colab-df-convert:hover {\n",
              "      background-color: #E2EBFA;\n",
              "      box-shadow: 0px 1px 2px rgba(60, 64, 67, 0.3), 0px 1px 3px 1px rgba(60, 64, 67, 0.15);\n",
              "      fill: #174EA6;\n",
              "    }\n",
              "\n",
              "    [theme=dark] .colab-df-convert {\n",
              "      background-color: #3B4455;\n",
              "      fill: #D2E3FC;\n",
              "    }\n",
              "\n",
              "    [theme=dark] .colab-df-convert:hover {\n",
              "      background-color: #434B5C;\n",
              "      box-shadow: 0px 1px 3px 1px rgba(0, 0, 0, 0.15);\n",
              "      filter: drop-shadow(0px 1px 2px rgba(0, 0, 0, 0.3));\n",
              "      fill: #FFFFFF;\n",
              "    }\n",
              "  </style>\n",
              "\n",
              "      <script>\n",
              "        const buttonEl =\n",
              "          document.querySelector('#df-e8a01a34-6ab8-469f-925a-2efd787bffbf button.colab-df-convert');\n",
              "        buttonEl.style.display =\n",
              "          google.colab.kernel.accessAllowed ? 'block' : 'none';\n",
              "\n",
              "        async function convertToInteractive(key) {\n",
              "          const element = document.querySelector('#df-e8a01a34-6ab8-469f-925a-2efd787bffbf');\n",
              "          const dataTable =\n",
              "            await google.colab.kernel.invokeFunction('convertToInteractive',\n",
              "                                                     [key], {});\n",
              "          if (!dataTable) return;\n",
              "\n",
              "          const docLinkHtml = 'Like what you see? Visit the ' +\n",
              "            '<a target=\"_blank\" href=https://colab.research.google.com/notebooks/data_table.ipynb>data table notebook</a>'\n",
              "            + ' to learn more about interactive tables.';\n",
              "          element.innerHTML = '';\n",
              "          dataTable['output_type'] = 'display_data';\n",
              "          await google.colab.output.renderOutput(dataTable, element);\n",
              "          const docLink = document.createElement('div');\n",
              "          docLink.innerHTML = docLinkHtml;\n",
              "          element.appendChild(docLink);\n",
              "        }\n",
              "      </script>\n",
              "    </div>\n",
              "  </div>\n",
              "  "
            ]
          },
          "metadata": {},
          "execution_count": 37
        }
      ]
    },
    {
      "cell_type": "markdown",
      "source": [
        "Agora vamos calcular a margem e fazer uma avaliação dela"
      ],
      "metadata": {
        "id": "gRts9HfPD2tK"
      }
    },
    {
      "cell_type": "code",
      "source": [
        "m2['margem'] = m2['RECEITA'] - (m2['CUSTO_FRETE'] + (m2['CUSTO_MERCADORIA'] * m2['QTDE'] ) + m2['RECEITA']*0.275)"
      ],
      "metadata": {
        "id": "ltvpuUFqEC8s"
      },
      "execution_count": null,
      "outputs": []
    },
    {
      "cell_type": "code",
      "source": [
        "m2.head()"
      ],
      "metadata": {
        "colab": {
          "base_uri": "https://localhost:8080/",
          "height": 357
        },
        "id": "r-8ZOVgvE2bK",
        "outputId": "171386aa-6349-4a9a-ef9a-280465dc4160"
      },
      "execution_count": null,
      "outputs": [
        {
          "output_type": "execute_result",
          "data": {
            "text/plain": [
              "   PRODUTO  CUSTO_MERCADORIA LINHA_PRODUTO                  DATA_VENDA  \\\n",
              "0  A10001G             21.10        BASICO  2020-11-03 00:00:00.000000   \n",
              "1  A10008G             24.23        BASICO  2020-11-03 00:00:00.000000   \n",
              "2  A10012G             27.13        BASICO  2020-11-03 00:00:00.000000   \n",
              "3  B10057G              8.70        BASICO  2020-03-14 00:00:00.000000   \n",
              "4  B10058G              8.70        BASICO  2020-03-14 00:00:00.000000   \n",
              "\n",
              "    PEDIDO    PEDIDO_ERP  COD_CLIENTE  QTDE  PRECO_UNITARIO  DESCONTO_ITEM  \\\n",
              "0  7110620  P10000233167      4019515     1            59.9            0.0   \n",
              "1  7110620  P10000233167      4019515     1            64.9            0.0   \n",
              "2  7110620  P10000233167      4019515     1            79.9            0.0   \n",
              "3  7010753  P10000133510      4019515     1            29.9            0.0   \n",
              "4  7010753  P10000133510      4019515     1            29.9            0.0   \n",
              "\n",
              "   FRETE_PAGO_CLIENTE  RECEITA  CUSTO_FRETE  IDADE  UF   REGIAO  \\\n",
              "0                4.30    64.20         4.30   32.0  SP  Sudeste   \n",
              "1                4.30    69.20         4.30   32.0  SP  Sudeste   \n",
              "2                4.30    84.20         4.30   32.0  SP  Sudeste   \n",
              "3                2.76    32.66         2.76   32.0  SP  Sudeste   \n",
              "4                2.76    32.66         2.76   32.0  SP  Sudeste   \n",
              "\n",
              "   RENDA_PRESUMIDA CANAL_MARKETING   margem  \n",
              "0          8890.73           Email  21.1450  \n",
              "1          8890.73           Email  21.6400  \n",
              "2          8890.73           Email  29.6150  \n",
              "3          8890.73           Email  12.2185  \n",
              "4          8890.73           Email  12.2185  "
            ],
            "text/html": [
              "\n",
              "  <div id=\"df-a3387899-5e39-4bdb-845e-c6a7adf8e481\">\n",
              "    <div class=\"colab-df-container\">\n",
              "      <div>\n",
              "<style scoped>\n",
              "    .dataframe tbody tr th:only-of-type {\n",
              "        vertical-align: middle;\n",
              "    }\n",
              "\n",
              "    .dataframe tbody tr th {\n",
              "        vertical-align: top;\n",
              "    }\n",
              "\n",
              "    .dataframe thead th {\n",
              "        text-align: right;\n",
              "    }\n",
              "</style>\n",
              "<table border=\"1\" class=\"dataframe\">\n",
              "  <thead>\n",
              "    <tr style=\"text-align: right;\">\n",
              "      <th></th>\n",
              "      <th>PRODUTO</th>\n",
              "      <th>CUSTO_MERCADORIA</th>\n",
              "      <th>LINHA_PRODUTO</th>\n",
              "      <th>DATA_VENDA</th>\n",
              "      <th>PEDIDO</th>\n",
              "      <th>PEDIDO_ERP</th>\n",
              "      <th>COD_CLIENTE</th>\n",
              "      <th>QTDE</th>\n",
              "      <th>PRECO_UNITARIO</th>\n",
              "      <th>DESCONTO_ITEM</th>\n",
              "      <th>FRETE_PAGO_CLIENTE</th>\n",
              "      <th>RECEITA</th>\n",
              "      <th>CUSTO_FRETE</th>\n",
              "      <th>IDADE</th>\n",
              "      <th>UF</th>\n",
              "      <th>REGIAO</th>\n",
              "      <th>RENDA_PRESUMIDA</th>\n",
              "      <th>CANAL_MARKETING</th>\n",
              "      <th>margem</th>\n",
              "    </tr>\n",
              "  </thead>\n",
              "  <tbody>\n",
              "    <tr>\n",
              "      <th>0</th>\n",
              "      <td>A10001G</td>\n",
              "      <td>21.10</td>\n",
              "      <td>BASICO</td>\n",
              "      <td>2020-11-03 00:00:00.000000</td>\n",
              "      <td>7110620</td>\n",
              "      <td>P10000233167</td>\n",
              "      <td>4019515</td>\n",
              "      <td>1</td>\n",
              "      <td>59.9</td>\n",
              "      <td>0.0</td>\n",
              "      <td>4.30</td>\n",
              "      <td>64.20</td>\n",
              "      <td>4.30</td>\n",
              "      <td>32.0</td>\n",
              "      <td>SP</td>\n",
              "      <td>Sudeste</td>\n",
              "      <td>8890.73</td>\n",
              "      <td>Email</td>\n",
              "      <td>21.1450</td>\n",
              "    </tr>\n",
              "    <tr>\n",
              "      <th>1</th>\n",
              "      <td>A10008G</td>\n",
              "      <td>24.23</td>\n",
              "      <td>BASICO</td>\n",
              "      <td>2020-11-03 00:00:00.000000</td>\n",
              "      <td>7110620</td>\n",
              "      <td>P10000233167</td>\n",
              "      <td>4019515</td>\n",
              "      <td>1</td>\n",
              "      <td>64.9</td>\n",
              "      <td>0.0</td>\n",
              "      <td>4.30</td>\n",
              "      <td>69.20</td>\n",
              "      <td>4.30</td>\n",
              "      <td>32.0</td>\n",
              "      <td>SP</td>\n",
              "      <td>Sudeste</td>\n",
              "      <td>8890.73</td>\n",
              "      <td>Email</td>\n",
              "      <td>21.6400</td>\n",
              "    </tr>\n",
              "    <tr>\n",
              "      <th>2</th>\n",
              "      <td>A10012G</td>\n",
              "      <td>27.13</td>\n",
              "      <td>BASICO</td>\n",
              "      <td>2020-11-03 00:00:00.000000</td>\n",
              "      <td>7110620</td>\n",
              "      <td>P10000233167</td>\n",
              "      <td>4019515</td>\n",
              "      <td>1</td>\n",
              "      <td>79.9</td>\n",
              "      <td>0.0</td>\n",
              "      <td>4.30</td>\n",
              "      <td>84.20</td>\n",
              "      <td>4.30</td>\n",
              "      <td>32.0</td>\n",
              "      <td>SP</td>\n",
              "      <td>Sudeste</td>\n",
              "      <td>8890.73</td>\n",
              "      <td>Email</td>\n",
              "      <td>29.6150</td>\n",
              "    </tr>\n",
              "    <tr>\n",
              "      <th>3</th>\n",
              "      <td>B10057G</td>\n",
              "      <td>8.70</td>\n",
              "      <td>BASICO</td>\n",
              "      <td>2020-03-14 00:00:00.000000</td>\n",
              "      <td>7010753</td>\n",
              "      <td>P10000133510</td>\n",
              "      <td>4019515</td>\n",
              "      <td>1</td>\n",
              "      <td>29.9</td>\n",
              "      <td>0.0</td>\n",
              "      <td>2.76</td>\n",
              "      <td>32.66</td>\n",
              "      <td>2.76</td>\n",
              "      <td>32.0</td>\n",
              "      <td>SP</td>\n",
              "      <td>Sudeste</td>\n",
              "      <td>8890.73</td>\n",
              "      <td>Email</td>\n",
              "      <td>12.2185</td>\n",
              "    </tr>\n",
              "    <tr>\n",
              "      <th>4</th>\n",
              "      <td>B10058G</td>\n",
              "      <td>8.70</td>\n",
              "      <td>BASICO</td>\n",
              "      <td>2020-03-14 00:00:00.000000</td>\n",
              "      <td>7010753</td>\n",
              "      <td>P10000133510</td>\n",
              "      <td>4019515</td>\n",
              "      <td>1</td>\n",
              "      <td>29.9</td>\n",
              "      <td>0.0</td>\n",
              "      <td>2.76</td>\n",
              "      <td>32.66</td>\n",
              "      <td>2.76</td>\n",
              "      <td>32.0</td>\n",
              "      <td>SP</td>\n",
              "      <td>Sudeste</td>\n",
              "      <td>8890.73</td>\n",
              "      <td>Email</td>\n",
              "      <td>12.2185</td>\n",
              "    </tr>\n",
              "  </tbody>\n",
              "</table>\n",
              "</div>\n",
              "      <button class=\"colab-df-convert\" onclick=\"convertToInteractive('df-a3387899-5e39-4bdb-845e-c6a7adf8e481')\"\n",
              "              title=\"Convert this dataframe to an interactive table.\"\n",
              "              style=\"display:none;\">\n",
              "        \n",
              "  <svg xmlns=\"http://www.w3.org/2000/svg\" height=\"24px\"viewBox=\"0 0 24 24\"\n",
              "       width=\"24px\">\n",
              "    <path d=\"M0 0h24v24H0V0z\" fill=\"none\"/>\n",
              "    <path d=\"M18.56 5.44l.94 2.06.94-2.06 2.06-.94-2.06-.94-.94-2.06-.94 2.06-2.06.94zm-11 1L8.5 8.5l.94-2.06 2.06-.94-2.06-.94L8.5 2.5l-.94 2.06-2.06.94zm10 10l.94 2.06.94-2.06 2.06-.94-2.06-.94-.94-2.06-.94 2.06-2.06.94z\"/><path d=\"M17.41 7.96l-1.37-1.37c-.4-.4-.92-.59-1.43-.59-.52 0-1.04.2-1.43.59L10.3 9.45l-7.72 7.72c-.78.78-.78 2.05 0 2.83L4 21.41c.39.39.9.59 1.41.59.51 0 1.02-.2 1.41-.59l7.78-7.78 2.81-2.81c.8-.78.8-2.07 0-2.86zM5.41 20L4 18.59l7.72-7.72 1.47 1.35L5.41 20z\"/>\n",
              "  </svg>\n",
              "      </button>\n",
              "      \n",
              "  <style>\n",
              "    .colab-df-container {\n",
              "      display:flex;\n",
              "      flex-wrap:wrap;\n",
              "      gap: 12px;\n",
              "    }\n",
              "\n",
              "    .colab-df-convert {\n",
              "      background-color: #E8F0FE;\n",
              "      border: none;\n",
              "      border-radius: 50%;\n",
              "      cursor: pointer;\n",
              "      display: none;\n",
              "      fill: #1967D2;\n",
              "      height: 32px;\n",
              "      padding: 0 0 0 0;\n",
              "      width: 32px;\n",
              "    }\n",
              "\n",
              "    .colab-df-convert:hover {\n",
              "      background-color: #E2EBFA;\n",
              "      box-shadow: 0px 1px 2px rgba(60, 64, 67, 0.3), 0px 1px 3px 1px rgba(60, 64, 67, 0.15);\n",
              "      fill: #174EA6;\n",
              "    }\n",
              "\n",
              "    [theme=dark] .colab-df-convert {\n",
              "      background-color: #3B4455;\n",
              "      fill: #D2E3FC;\n",
              "    }\n",
              "\n",
              "    [theme=dark] .colab-df-convert:hover {\n",
              "      background-color: #434B5C;\n",
              "      box-shadow: 0px 1px 3px 1px rgba(0, 0, 0, 0.15);\n",
              "      filter: drop-shadow(0px 1px 2px rgba(0, 0, 0, 0.3));\n",
              "      fill: #FFFFFF;\n",
              "    }\n",
              "  </style>\n",
              "\n",
              "      <script>\n",
              "        const buttonEl =\n",
              "          document.querySelector('#df-a3387899-5e39-4bdb-845e-c6a7adf8e481 button.colab-df-convert');\n",
              "        buttonEl.style.display =\n",
              "          google.colab.kernel.accessAllowed ? 'block' : 'none';\n",
              "\n",
              "        async function convertToInteractive(key) {\n",
              "          const element = document.querySelector('#df-a3387899-5e39-4bdb-845e-c6a7adf8e481');\n",
              "          const dataTable =\n",
              "            await google.colab.kernel.invokeFunction('convertToInteractive',\n",
              "                                                     [key], {});\n",
              "          if (!dataTable) return;\n",
              "\n",
              "          const docLinkHtml = 'Like what you see? Visit the ' +\n",
              "            '<a target=\"_blank\" href=https://colab.research.google.com/notebooks/data_table.ipynb>data table notebook</a>'\n",
              "            + ' to learn more about interactive tables.';\n",
              "          element.innerHTML = '';\n",
              "          dataTable['output_type'] = 'display_data';\n",
              "          await google.colab.output.renderOutput(dataTable, element);\n",
              "          const docLink = document.createElement('div');\n",
              "          docLink.innerHTML = docLinkHtml;\n",
              "          element.appendChild(docLink);\n",
              "        }\n",
              "      </script>\n",
              "    </div>\n",
              "  </div>\n",
              "  "
            ]
          },
          "metadata": {},
          "execution_count": 39
        }
      ]
    },
    {
      "cell_type": "code",
      "source": [
        "m2.groupby(['PRODUTO'])['margem'].mean().sort_values(ascending=False)\n",
        "# margem média por produto\n",
        "# os produtos com margem negativa devem ser retirados e margem positiva devem ser estimulados"
      ],
      "metadata": {
        "colab": {
          "base_uri": "https://localhost:8080/"
        },
        "id": "yp4qsOFyGgBl",
        "outputId": "7064fd7f-aea8-4502-ecad-17f03f9016b1"
      },
      "execution_count": null,
      "outputs": [
        {
          "output_type": "execute_result",
          "data": {
            "text/plain": [
              "PRODUTO\n",
              "E10542Y    2537.902500\n",
              "E10808Y     719.246724\n",
              "E10770Y     691.589562\n",
              "E10026Y     681.264201\n",
              "E10922Y     619.092500\n",
              "              ...     \n",
              "E10369Y     -19.330402\n",
              "D10002      -22.550187\n",
              "D10385      -23.210958\n",
              "E10154Y     -30.841625\n",
              "D10003      -30.898750\n",
              "Name: margem, Length: 1681, dtype: float64"
            ]
          },
          "metadata": {},
          "execution_count": 40
        }
      ]
    },
    {
      "cell_type": "code",
      "source": [
        "m2.groupby(['LINHA_PRODUTO'])['margem'].mean().sort_values(ascending=False)\n",
        "# as bolsas são os produtos onde se consegue a maior margem"
      ],
      "metadata": {
        "colab": {
          "base_uri": "https://localhost:8080/"
        },
        "id": "K8qTxaSyHBtz",
        "outputId": "fdfb7d78-8002-4a3a-ed97-ddf23b979473"
      },
      "execution_count": null,
      "outputs": [
        {
          "output_type": "execute_result",
          "data": {
            "text/plain": [
              "LINHA_PRODUTO\n",
              "BOLSAS          65.863366\n",
              "TECH            58.008480\n",
              "ACESSORIOS      50.375379\n",
              "FASHION         31.650635\n",
              "BASICO          24.862671\n",
              "COMPLEMENTOS     5.970606\n",
              "Name: margem, dtype: float64"
            ]
          },
          "metadata": {},
          "execution_count": 41
        }
      ]
    },
    {
      "cell_type": "code",
      "source": [
        "m2.groupby(['LINHA_PRODUTO'])['margem'].sum().sort_values(ascending=False)\n",
        "# Vendo de onde vem a maior receita da empresa\n",
        "# Acessórios tem uma boa margem e é de onde vem a maior parte da receita"
      ],
      "metadata": {
        "colab": {
          "base_uri": "https://localhost:8080/"
        },
        "id": "bWLIOQX9HoWS",
        "outputId": "61bb948e-fe8b-4e0e-9993-53a249518dcf"
      },
      "execution_count": null,
      "outputs": [
        {
          "output_type": "execute_result",
          "data": {
            "text/plain": [
              "LINHA_PRODUTO\n",
              "ACESSORIOS      3.931647e+06\n",
              "BASICO          2.739419e+06\n",
              "FASHION         1.993768e+06\n",
              "BOLSAS          1.772778e+06\n",
              "TECH            6.817157e+05\n",
              "COMPLEMENTOS    2.334507e+03\n",
              "Name: margem, dtype: float64"
            ]
          },
          "metadata": {},
          "execution_count": 42
        }
      ]
    },
    {
      "cell_type": "code",
      "source": [
        "m2.groupby(['PEDIDO'])['margem'].mean().sort_values(ascending=False)"
      ],
      "metadata": {
        "colab": {
          "base_uri": "https://localhost:8080/"
        },
        "id": "LH6-lJZqINV1",
        "outputId": "5850e4ca-8bb4-4629-a059-6fe2d7950e38"
      },
      "execution_count": null,
      "outputs": [
        {
          "output_type": "execute_result",
          "data": {
            "text/plain": [
              "PEDIDO\n",
              "7002232    2537.90250\n",
              "7166072    2040.13000\n",
              "7133102    1824.34250\n",
              "7081380    1378.24200\n",
              "7124953    1357.08500\n",
              "              ...    \n",
              "7158720    -241.83000\n",
              "7105490    -331.36000\n",
              "7035353    -494.91500\n",
              "7118877    -636.40625\n",
              "7030055    -929.30500\n",
              "Name: margem, Length: 172038, dtype: float64"
            ]
          },
          "metadata": {},
          "execution_count": 43
        }
      ]
    },
    {
      "cell_type": "markdown",
      "source": [
        "Ver direcionamento da campanha de fidelização de clientes"
      ],
      "metadata": {
        "id": "8XK0-ZzuJtBt"
      }
    },
    {
      "cell_type": "code",
      "source": [
        "m2.groupby(['IDADE'])['margem'].sum().sort_values(ascending=False)\n",
        "#A faixa de 30 - 35 anos é o que mais gera receita"
      ],
      "metadata": {
        "id": "EukMpYrZJ1kd",
        "colab": {
          "base_uri": "https://localhost:8080/"
        },
        "outputId": "66b36814-e449-4d59-8b90-d6eb7ebe5e6c"
      },
      "execution_count": null,
      "outputs": [
        {
          "output_type": "execute_result",
          "data": {
            "text/plain": [
              "IDADE\n",
              "32.0    533449.93700\n",
              "35.0    484539.00425\n",
              "33.0    479924.44675\n",
              "30.0    454141.62450\n",
              "41.0    409372.84775\n",
              "            ...     \n",
              "79.0      1779.49625\n",
              "72.0      1581.68075\n",
              "74.0       377.56025\n",
              "82.0       311.59575\n",
              "73.0       272.33000\n",
              "Name: margem, Length: 67, dtype: float64"
            ]
          },
          "metadata": {},
          "execution_count": 44
        }
      ]
    },
    {
      "cell_type": "code",
      "source": [
        "m2.groupby(['IDADE'])['margem'].mean().sort_values(ascending=False)\n",
        "# porém as pessoas com mais de 40 anos, em média costumam gastar mais"
      ],
      "metadata": {
        "colab": {
          "base_uri": "https://localhost:8080/"
        },
        "id": "_F_Lfh32fwO5",
        "outputId": "77bbacbd-2507-4575-afc3-d2049641009a"
      },
      "execution_count": null,
      "outputs": [
        {
          "output_type": "execute_result",
          "data": {
            "text/plain": [
              "IDADE\n",
              "66.0    57.890410\n",
              "45.0    53.929200\n",
              "81.0    53.705457\n",
              "42.0    52.441101\n",
              "65.0    51.209891\n",
              "          ...    \n",
              "17.0    24.224205\n",
              "82.0    23.968904\n",
              "21.0    22.500503\n",
              "20.0    22.344576\n",
              "74.0    17.979060\n",
              "Name: margem, Length: 67, dtype: float64"
            ]
          },
          "metadata": {},
          "execution_count": 45
        }
      ]
    },
    {
      "cell_type": "code",
      "source": [
        "# dividindo a idade em segmentos\n",
        "def transform_idade(idade):\n",
        "  if idade <=20 :\n",
        "    return 20\n",
        "  elif idade <=30:\n",
        "    return 30\n",
        "  elif idade <=40:\n",
        "    return 40\n",
        "  elif idade <=50:\n",
        "    return 50\n",
        "  elif idade <=60:\n",
        "    return 60\n",
        "  else:\n",
        "    return 100\n",
        "m2[\"DIV_IDADE\"] = m2['IDADE'].map(transform_idade)"
      ],
      "metadata": {
        "id": "uV9b9yCGlVC6"
      },
      "execution_count": null,
      "outputs": []
    },
    {
      "cell_type": "code",
      "source": [
        "m2.groupby([\"DIV_IDADE\"])['margem'].mean().sort_values(ascending=False)\n",
        "# Observa-se que as pessoas mais velhas em média gastam mais"
      ],
      "metadata": {
        "colab": {
          "base_uri": "https://localhost:8080/"
        },
        "id": "HrQca2cGmOP8",
        "outputId": "9229d38c-97a5-4845-a6fc-7169fcd88a5f"
      },
      "execution_count": null,
      "outputs": [
        {
          "output_type": "execute_result",
          "data": {
            "text/plain": [
              "DIV_IDADE\n",
              "50     44.139035\n",
              "100    42.229684\n",
              "60     40.951247\n",
              "40     36.950629\n",
              "30     32.892056\n",
              "20     29.017897\n",
              "Name: margem, dtype: float64"
            ]
          },
          "metadata": {},
          "execution_count": 47
        }
      ]
    },
    {
      "cell_type": "code",
      "source": [
        "m2.groupby([\"DIV_IDADE\"])['margem'].sum().sort_values(ascending=False)\n",
        "# os clientes que geram maior receita são de 31 até 50 anos"
      ],
      "metadata": {
        "colab": {
          "base_uri": "https://localhost:8080/"
        },
        "id": "uYuktr0Im-Fa",
        "outputId": "764e3283-c103-4de0-8a62-42a3ad293799"
      },
      "execution_count": null,
      "outputs": [
        {
          "output_type": "execute_result",
          "data": {
            "text/plain": [
              "DIV_IDADE\n",
              "40     3.939417e+06\n",
              "50     3.005515e+06\n",
              "30     2.684123e+06\n",
              "60     1.287835e+06\n",
              "20     1.770962e+05\n",
              "100    1.299407e+05\n",
              "Name: margem, dtype: float64"
            ]
          },
          "metadata": {},
          "execution_count": 48
        }
      ]
    },
    {
      "cell_type": "code",
      "source": [
        "m2.groupby(['REGIAO'])['margem'].sum().sort_values(ascending=False)\n",
        "# regiões que geram a maior receita"
      ],
      "metadata": {
        "colab": {
          "base_uri": "https://localhost:8080/"
        },
        "id": "mbxeRDh3gIlH",
        "outputId": "71cc6a92-0fea-4a2f-ec8e-8c76b5b6e5db"
      },
      "execution_count": null,
      "outputs": [
        {
          "output_type": "execute_result",
          "data": {
            "text/plain": [
              "REGIAO\n",
              "Sudeste         4.600653e+06\n",
              "Nordeste        3.200314e+06\n",
              "Norte           1.225951e+06\n",
              "Sul             1.145115e+06\n",
              "Centro-Oeste    1.051894e+06\n",
              "Name: margem, dtype: float64"
            ]
          },
          "metadata": {},
          "execution_count": 49
        }
      ]
    },
    {
      "cell_type": "code",
      "source": [
        "s =m2.groupby(['REGIAO'])['margem'].sum().sort_values(ascending=False)\n",
        "s /s.sum()\n",
        "# Relembrando a distribuição populacional do Brasil, temos: \n",
        "#Sudeste - 42,2% ; Nordeste - 27,2% ; Sul - 14,3% ; Norte - 8,6% ; Centro-Oeste - 7,7%\n",
        "# A região Sul parece necessitar de mais investimento"
      ],
      "metadata": {
        "colab": {
          "base_uri": "https://localhost:8080/"
        },
        "id": "b8Za6RlMge-g",
        "outputId": "0ab81d53-85d5-4f5f-93ee-567f76de284d"
      },
      "execution_count": null,
      "outputs": [
        {
          "output_type": "execute_result",
          "data": {
            "text/plain": [
              "REGIAO\n",
              "Sudeste         0.409897\n",
              "Nordeste        0.285133\n",
              "Norte           0.109227\n",
              "Sul             0.102024\n",
              "Centro-Oeste    0.093719\n",
              "Name: margem, dtype: float64"
            ]
          },
          "metadata": {},
          "execution_count": 50
        }
      ]
    },
    {
      "cell_type": "code",
      "source": [
        "m2.groupby(['REGIAO'])['margem'].mean().sort_values(ascending=False)\n",
        "# as regiões que menos compram, geralmente possuem um ticket médio mais elevado"
      ],
      "metadata": {
        "colab": {
          "base_uri": "https://localhost:8080/"
        },
        "id": "NVTjbXTwg4Id",
        "outputId": "dc21a347-741c-4831-976b-508e77e68996"
      },
      "execution_count": null,
      "outputs": [
        {
          "output_type": "execute_result",
          "data": {
            "text/plain": [
              "REGIAO\n",
              "Norte           50.917935\n",
              "Centro-Oeste    41.181301\n",
              "Sul             40.596851\n",
              "Nordeste        36.686968\n",
              "Sudeste         34.885939\n",
              "Name: margem, dtype: float64"
            ]
          },
          "metadata": {},
          "execution_count": 51
        }
      ]
    },
    {
      "cell_type": "code",
      "source": [
        "# dividindo a renda em segmentos\n",
        "def transform_renda(renda):\n",
        "  if renda <=6000 :\n",
        "    return 0\n",
        "  elif renda <=8000:\n",
        "    return 1\n",
        "  elif renda <=10000:\n",
        "    return 2\n",
        "  else:\n",
        "    return 3\n",
        "m2[\"DIV_RENDA_PRESUMIDA\"] = m2['RENDA_PRESUMIDA'].map(transform_renda)"
      ],
      "metadata": {
        "id": "hU2_bwVjhTni"
      },
      "execution_count": null,
      "outputs": []
    },
    {
      "cell_type": "code",
      "source": [
        "m2.groupby([\"DIV_RENDA_PRESUMIDA\"])['margem'].mean().sort_values(ascending=False)\n",
        "# Observa-se que quanto maior a renda mais se gasta"
      ],
      "metadata": {
        "colab": {
          "base_uri": "https://localhost:8080/"
        },
        "id": "MbWXRpykk0M-",
        "outputId": "bfb38e64-f195-4c1a-d744-8f78e6395b10"
      },
      "execution_count": null,
      "outputs": [
        {
          "output_type": "execute_result",
          "data": {
            "text/plain": [
              "DIV_RENDA_PRESUMIDA\n",
              "3    93.990238\n",
              "2    48.662535\n",
              "1    29.831699\n",
              "0    14.244952\n",
              "Name: margem, dtype: float64"
            ]
          },
          "metadata": {},
          "execution_count": 53
        }
      ]
    },
    {
      "cell_type": "code",
      "source": [
        "m2.groupby([\"CANAL_MARKETING\"])['margem'].mean().sort_values(ascending=False)\n",
        "# margem média de cada canal"
      ],
      "metadata": {
        "colab": {
          "base_uri": "https://localhost:8080/"
        },
        "id": "L4Lj-L8tyUkI",
        "outputId": "1ed84028-bf38-4692-895b-d5e6ad97af3f"
      },
      "execution_count": null,
      "outputs": [
        {
          "output_type": "execute_result",
          "data": {
            "text/plain": [
              "CANAL_MARKETING\n",
              "Google Ads        42.467590\n",
              "Busca orgânica    41.701995\n",
              "Direto            40.091997\n",
              "Referência        36.477220\n",
              "Facebook Ads      32.867129\n",
              "Email             31.559233\n",
              "Outros            30.107805\n",
              "Name: margem, dtype: float64"
            ]
          },
          "metadata": {},
          "execution_count": 54
        }
      ]
    },
    {
      "cell_type": "code",
      "source": [
        "m2.groupby([\"CANAL_MARKETING\"])['margem'].sum().sort_values(ascending=False)\n",
        "# receita total de cada canal"
      ],
      "metadata": {
        "colab": {
          "base_uri": "https://localhost:8080/"
        },
        "id": "Kuvj3QoXynn0",
        "outputId": "fc453f9d-8929-42e7-a251-0e19383e8260"
      },
      "execution_count": null,
      "outputs": [
        {
          "output_type": "execute_result",
          "data": {
            "text/plain": [
              "CANAL_MARKETING\n",
              "Google Ads        4.133625e+06\n",
              "Busca orgânica    1.891102e+06\n",
              "Direto            1.168962e+06\n",
              "Facebook Ads      8.280544e+05\n",
              "Referência        6.865378e+05\n",
              "Email             6.475323e+05\n",
              "Outros            5.813817e+05\n",
              "Name: margem, dtype: float64"
            ]
          },
          "metadata": {},
          "execution_count": 55
        }
      ]
    },
    {
      "cell_type": "code",
      "source": [
        "m2.groupby([\"CANAL_MARKETING\"])['margem'].sum().sort_values(ascending=False).plot(kind = 'bar')"
      ],
      "metadata": {
        "colab": {
          "base_uri": "https://localhost:8080/",
          "height": 376
        },
        "id": "_AA2BUgit5Pe",
        "outputId": "62a03a59-bf39-4061-ecdc-b27f80d7ab0a"
      },
      "execution_count": null,
      "outputs": [
        {
          "output_type": "execute_result",
          "data": {
            "text/plain": [
              "<matplotlib.axes._subplots.AxesSubplot at 0x7f6031e598d0>"
            ]
          },
          "metadata": {},
          "execution_count": 56
        },
        {
          "output_type": "display_data",
          "data": {
            "text/plain": [
              "<Figure size 432x288 with 1 Axes>"
            ],
            "image/png": "[encoded data removed]"
          },
          "metadata": {
            "needs_background": "light"
          }
        }
      ]
    },
    {
      "cell_type": "markdown",
      "source": [
        "O canal que dá mais resultado é o Google Ads, focar mais nele"
      ],
      "metadata": {
        "id": "PgkBUfZrzImQ"
      }
    },
    {
      "cell_type": "code",
      "source": [
        "ordena = m2.sort_values(['DATA_VENDA'])\n",
        "# ordenar a tabela para ordem cronológica"
      ],
      "metadata": {
        "id": "XF10dw-60eOm"
      },
      "execution_count": null,
      "outputs": []
    },
    {
      "cell_type": "code",
      "source": [
        "ordena.info()"
      ],
      "metadata": {
        "colab": {
          "base_uri": "https://localhost:8080/"
        },
        "id": "syhBsxK2Vq0v",
        "outputId": "4101f0ee-ff7c-4b54-b2d2-9744ac7456c2"
      },
      "execution_count": null,
      "outputs": [
        {
          "output_type": "stream",
          "name": "stdout",
          "text": [
            "<class 'pandas.core.frame.DataFrame'>\n",
            "Int64Index: 296937 entries, 31305 to 293826\n",
            "Data columns (total 21 columns):\n",
            " #   Column               Non-Null Count   Dtype  \n",
            "---  ------               --------------   -----  \n",
            " 0   PRODUTO              296937 non-null  object \n",
            " 1   CUSTO_MERCADORIA     296937 non-null  float64\n",
            " 2   LINHA_PRODUTO        290281 non-null  object \n",
            " 3   DATA_VENDA           296937 non-null  object \n",
            " 4   PEDIDO               296937 non-null  int64  \n",
            " 5   PEDIDO_ERP           296937 non-null  object \n",
            " 6   COD_CLIENTE          296937 non-null  int64  \n",
            " 7   QTDE                 296937 non-null  int64  \n",
            " 8   PRECO_UNITARIO       296937 non-null  float64\n",
            " 9   DESCONTO_ITEM        296937 non-null  float64\n",
            " 10  FRETE_PAGO_CLIENTE   296937 non-null  float64\n",
            " 11  RECEITA              296937 non-null  float64\n",
            " 12  CUSTO_FRETE          296937 non-null  float64\n",
            " 13  IDADE                296937 non-null  float64\n",
            " 14  UF                   296937 non-null  object \n",
            " 15  REGIAO               296937 non-null  object \n",
            " 16  RENDA_PRESUMIDA      296937 non-null  float64\n",
            " 17  CANAL_MARKETING      255684 non-null  object \n",
            " 18  margem               296937 non-null  float64\n",
            " 19  DIV_IDADE            296937 non-null  int64  \n",
            " 20  DIV_RENDA_PRESUMIDA  296937 non-null  int64  \n",
            "dtypes: float64(9), int64(5), object(7)\n",
            "memory usage: 49.8+ MB\n"
          ]
        }
      ]
    },
    {
      "cell_type": "code",
      "source": [
        "# tem que passar para datetime a data\n",
        "ordena['DATA_VENDA'] = pd.to_datetime(ordena['DATA_VENDA'], format='%Y-%m-%d')\n",
        "#%H:%M:%S.%f"
      ],
      "metadata": {
        "id": "ASdDZAT3WPC9"
      },
      "execution_count": null,
      "outputs": []
    },
    {
      "cell_type": "code",
      "source": [
        "ordena2020 = ordena[ordena['DATA_VENDA'].dt.year==2020]"
      ],
      "metadata": {
        "id": "rbIQRxtsZRUp"
      },
      "execution_count": null,
      "outputs": []
    },
    {
      "cell_type": "code",
      "source": [
        "plt.figure(figsize=(15,6))\n",
        "plt.plot(ordena2020['DATA_VENDA'], ordena2020['margem'])\n",
        "\n",
        "plt.title(\"Lucro obtido de 01/2020 até 12/2020\",fontsize=15)\n",
        "plt.xlabel(\"Data\",fontsize=13)\n",
        "plt.ylabel(\"Margem\",fontsize=13)\n",
        "#plt.legend()\n",
        "plt.show()"
      ],
      "metadata": {
        "colab": {
          "base_uri": "https://localhost:8080/",
          "height": 409
        },
        "id": "hzQCHtKCzUAc",
        "outputId": "31f76e09-86f8-4ee4-9f44-7907b5460597"
      },
      "execution_count": null,
      "outputs": [
        {
          "output_type": "display_data",
          "data": {
            "text/plain": [
              "<Figure size 1080x432 with 1 Axes>"
            ],
            "image/png": "[encoded data removed]"
          },
          "metadata": {
            "needs_background": "light"
          }
        }
      ]
    },
    {
      "cell_type": "code",
      "source": [
        "k = ordena2020['DATA_VENDA'].dt.month"
      ],
      "metadata": {
        "id": "tXgXM928bVuJ"
      },
      "execution_count": null,
      "outputs": []
    },
    {
      "cell_type": "code",
      "source": [
        "ordena2020.groupby(k)['margem'].sum().sort_values(ascending=False)"
      ],
      "metadata": {
        "colab": {
          "base_uri": "https://localhost:8080/"
        },
        "id": "NB01hoFTb-Ig",
        "outputId": "263644f0-ffeb-4e90-b280-d12e8cc8a6cd"
      },
      "execution_count": null,
      "outputs": [
        {
          "output_type": "execute_result",
          "data": {
            "text/plain": [
              "DATA_VENDA\n",
              "5     1.791817e+06\n",
              "6     1.490980e+06\n",
              "12    1.275840e+06\n",
              "11    1.243175e+06\n",
              "7     9.311277e+05\n",
              "8     7.841837e+05\n",
              "4     6.578801e+05\n",
              "10    5.774964e+05\n",
              "9     4.594557e+05\n",
              "1     3.239398e+05\n",
              "3     2.757318e+05\n",
              "2     2.358380e+05\n",
              "Name: margem, dtype: float64"
            ]
          },
          "metadata": {},
          "execution_count": 63
        }
      ]
    },
    {
      "cell_type": "code",
      "source": [
        "# Calculando agora o faturamento\n",
        "ordena['MES_COMPRA']= ordena['DATA_VENDA'].dt.to_period('M')\n",
        "faturamento = ordena.groupby(['MES_COMPRA'], as_index=False).agg({'RECEITA':'sum', 'PEDIDO':'count'})\n",
        "faturamento"
      ],
      "metadata": {
        "colab": {
          "base_uri": "https://localhost:8080/",
          "height": 519
        },
        "id": "e1X2G4LKjWL0",
        "outputId": "b36ca311-50b0-4cd4-f4a8-170187015d92"
      },
      "execution_count": null,
      "outputs": [
        {
          "output_type": "execute_result",
          "data": {
            "text/plain": [
              "   MES_COMPRA     RECEITA  PEDIDO\n",
              "0     2020-01   833134.71    8006\n",
              "1     2020-02   638291.82    7790\n",
              "2     2020-03   728938.62    7198\n",
              "3     2020-04  1696473.80   14716\n",
              "4     2020-05  4600113.86   40732\n",
              "5     2020-06  3736709.75   34317\n",
              "6     2020-07  2253900.77   20113\n",
              "7     2020-08  1905498.46   16426\n",
              "8     2020-09  1203431.74   12305\n",
              "9     2020-10  1480890.49   16235\n",
              "10    2020-11  3889283.54   61397\n",
              "11    2020-12  2991408.09   30668\n",
              "12    2021-01  1452991.35   14513\n",
              "13    2021-02   917957.27    8710\n",
              "14    2021-03   396035.31    3811"
            ],
            "text/html": [
              "\n",
              "  <div id=\"df-ab6f8aae-ae07-44c0-aae8-9678e540ec1f\">\n",
              "    <div class=\"colab-df-container\">\n",
              "      <div>\n",
              "<style scoped>\n",
              "    .dataframe tbody tr th:only-of-type {\n",
              "        vertical-align: middle;\n",
              "    }\n",
              "\n",
              "    .dataframe tbody tr th {\n",
              "        vertical-align: top;\n",
              "    }\n",
              "\n",
              "    .dataframe thead th {\n",
              "        text-align: right;\n",
              "    }\n",
              "</style>\n",
              "<table border=\"1\" class=\"dataframe\">\n",
              "  <thead>\n",
              "    <tr style=\"text-align: right;\">\n",
              "      <th></th>\n",
              "      <th>MES_COMPRA</th>\n",
              "      <th>RECEITA</th>\n",
              "      <th>PEDIDO</th>\n",
              "    </tr>\n",
              "  </thead>\n",
              "  <tbody>\n",
              "    <tr>\n",
              "      <th>0</th>\n",
              "      <td>2020-01</td>\n",
              "      <td>833134.71</td>\n",
              "      <td>8006</td>\n",
              "    </tr>\n",
              "    <tr>\n",
              "      <th>1</th>\n",
              "      <td>2020-02</td>\n",
              "      <td>638291.82</td>\n",
              "      <td>7790</td>\n",
              "    </tr>\n",
              "    <tr>\n",
              "      <th>2</th>\n",
              "      <td>2020-03</td>\n",
              "      <td>728938.62</td>\n",
              "      <td>7198</td>\n",
              "    </tr>\n",
              "    <tr>\n",
              "      <th>3</th>\n",
              "      <td>2020-04</td>\n",
              "      <td>1696473.80</td>\n",
              "      <td>14716</td>\n",
              "    </tr>\n",
              "    <tr>\n",
              "      <th>4</th>\n",
              "      <td>2020-05</td>\n",
              "      <td>4600113.86</td>\n",
              "      <td>40732</td>\n",
              "    </tr>\n",
              "    <tr>\n",
              "      <th>5</th>\n",
              "      <td>2020-06</td>\n",
              "      <td>3736709.75</td>\n",
              "      <td>34317</td>\n",
              "    </tr>\n",
              "    <tr>\n",
              "      <th>6</th>\n",
              "      <td>2020-07</td>\n",
              "      <td>2253900.77</td>\n",
              "      <td>20113</td>\n",
              "    </tr>\n",
              "    <tr>\n",
              "      <th>7</th>\n",
              "      <td>2020-08</td>\n",
              "      <td>1905498.46</td>\n",
              "      <td>16426</td>\n",
              "    </tr>\n",
              "    <tr>\n",
              "      <th>8</th>\n",
              "      <td>2020-09</td>\n",
              "      <td>1203431.74</td>\n",
              "      <td>12305</td>\n",
              "    </tr>\n",
              "    <tr>\n",
              "      <th>9</th>\n",
              "      <td>2020-10</td>\n",
              "      <td>1480890.49</td>\n",
              "      <td>16235</td>\n",
              "    </tr>\n",
              "    <tr>\n",
              "      <th>10</th>\n",
              "      <td>2020-11</td>\n",
              "      <td>3889283.54</td>\n",
              "      <td>61397</td>\n",
              "    </tr>\n",
              "    <tr>\n",
              "      <th>11</th>\n",
              "      <td>2020-12</td>\n",
              "      <td>2991408.09</td>\n",
              "      <td>30668</td>\n",
              "    </tr>\n",
              "    <tr>\n",
              "      <th>12</th>\n",
              "      <td>2021-01</td>\n",
              "      <td>1452991.35</td>\n",
              "      <td>14513</td>\n",
              "    </tr>\n",
              "    <tr>\n",
              "      <th>13</th>\n",
              "      <td>2021-02</td>\n",
              "      <td>917957.27</td>\n",
              "      <td>8710</td>\n",
              "    </tr>\n",
              "    <tr>\n",
              "      <th>14</th>\n",
              "      <td>2021-03</td>\n",
              "      <td>396035.31</td>\n",
              "      <td>3811</td>\n",
              "    </tr>\n",
              "  </tbody>\n",
              "</table>\n",
              "</div>\n",
              "      <button class=\"colab-df-convert\" onclick=\"convertToInteractive('df-ab6f8aae-ae07-44c0-aae8-9678e540ec1f')\"\n",
              "              title=\"Convert this dataframe to an interactive table.\"\n",
              "              style=\"display:none;\">\n",
              "        \n",
              "  <svg xmlns=\"http://www.w3.org/2000/svg\" height=\"24px\"viewBox=\"0 0 24 24\"\n",
              "       width=\"24px\">\n",
              "    <path d=\"M0 0h24v24H0V0z\" fill=\"none\"/>\n",
              "    <path d=\"M18.56 5.44l.94 2.06.94-2.06 2.06-.94-2.06-.94-.94-2.06-.94 2.06-2.06.94zm-11 1L8.5 8.5l.94-2.06 2.06-.94-2.06-.94L8.5 2.5l-.94 2.06-2.06.94zm10 10l.94 2.06.94-2.06 2.06-.94-2.06-.94-.94-2.06-.94 2.06-2.06.94z\"/><path d=\"M17.41 7.96l-1.37-1.37c-.4-.4-.92-.59-1.43-.59-.52 0-1.04.2-1.43.59L10.3 9.45l-7.72 7.72c-.78.78-.78 2.05 0 2.83L4 21.41c.39.39.9.59 1.41.59.51 0 1.02-.2 1.41-.59l7.78-7.78 2.81-2.81c.8-.78.8-2.07 0-2.86zM5.41 20L4 18.59l7.72-7.72 1.47 1.35L5.41 20z\"/>\n",
              "  </svg>\n",
              "      </button>\n",
              "      \n",
              "  <style>\n",
              "    .colab-df-container {\n",
              "      display:flex;\n",
              "      flex-wrap:wrap;\n",
              "      gap: 12px;\n",
              "    }\n",
              "\n",
              "    .colab-df-convert {\n",
              "      background-color: #E8F0FE;\n",
              "      border: none;\n",
              "      border-radius: 50%;\n",
              "      cursor: pointer;\n",
              "      display: none;\n",
              "      fill: #1967D2;\n",
              "      height: 32px;\n",
              "      padding: 0 0 0 0;\n",
              "      width: 32px;\n",
              "    }\n",
              "\n",
              "    .colab-df-convert:hover {\n",
              "      background-color: #E2EBFA;\n",
              "      box-shadow: 0px 1px 2px rgba(60, 64, 67, 0.3), 0px 1px 3px 1px rgba(60, 64, 67, 0.15);\n",
              "      fill: #174EA6;\n",
              "    }\n",
              "\n",
              "    [theme=dark] .colab-df-convert {\n",
              "      background-color: #3B4455;\n",
              "      fill: #D2E3FC;\n",
              "    }\n",
              "\n",
              "    [theme=dark] .colab-df-convert:hover {\n",
              "      background-color: #434B5C;\n",
              "      box-shadow: 0px 1px 3px 1px rgba(0, 0, 0, 0.15);\n",
              "      filter: drop-shadow(0px 1px 2px rgba(0, 0, 0, 0.3));\n",
              "      fill: #FFFFFF;\n",
              "    }\n",
              "  </style>\n",
              "\n",
              "      <script>\n",
              "        const buttonEl =\n",
              "          document.querySelector('#df-ab6f8aae-ae07-44c0-aae8-9678e540ec1f button.colab-df-convert');\n",
              "        buttonEl.style.display =\n",
              "          google.colab.kernel.accessAllowed ? 'block' : 'none';\n",
              "\n",
              "        async function convertToInteractive(key) {\n",
              "          const element = document.querySelector('#df-ab6f8aae-ae07-44c0-aae8-9678e540ec1f');\n",
              "          const dataTable =\n",
              "            await google.colab.kernel.invokeFunction('convertToInteractive',\n",
              "                                                     [key], {});\n",
              "          if (!dataTable) return;\n",
              "\n",
              "          const docLinkHtml = 'Like what you see? Visit the ' +\n",
              "            '<a target=\"_blank\" href=https://colab.research.google.com/notebooks/data_table.ipynb>data table notebook</a>'\n",
              "            + ' to learn more about interactive tables.';\n",
              "          element.innerHTML = '';\n",
              "          dataTable['output_type'] = 'display_data';\n",
              "          await google.colab.output.renderOutput(dataTable, element);\n",
              "          const docLink = document.createElement('div');\n",
              "          docLink.innerHTML = docLinkHtml;\n",
              "          element.appendChild(docLink);\n",
              "        }\n",
              "      </script>\n",
              "    </div>\n",
              "  </div>\n",
              "  "
            ]
          },
          "metadata": {},
          "execution_count": 65
        }
      ]
    },
    {
      "cell_type": "code",
      "source": [
        "faturamento.groupby(['MES_COMPRA'])['RECEITA'].sum().plot(kind='bar', stacked=True, figsize=(10,5))"
      ],
      "metadata": {
        "colab": {
          "base_uri": "https://localhost:8080/",
          "height": 395
        },
        "id": "lfK8J4YOnzbp",
        "outputId": "e3b39a0e-68ca-4564-d1d0-7faf6afa4f32"
      },
      "execution_count": null,
      "outputs": [
        {
          "output_type": "execute_result",
          "data": {
            "text/plain": [
              "<matplotlib.axes._subplots.AxesSubplot at 0x7f602a3e3390>"
            ]
          },
          "metadata": {},
          "execution_count": 68
        },
        {
          "output_type": "display_data",
          "data": {
            "text/plain": [
              "<Figure size 720x360 with 1 Axes>"
            ],
            "image/png": "[encoded data removed]"
          },
          "metadata": {
            "needs_background": "light"
          }
        }
      ]
    },
    {
      "cell_type": "code",
      "source": [
        "# olhando a receita por canal de venda\n",
        "receita_canal_mensal = ordena.groupby(['MES_COMPRA', 'CANAL_MARKETING'])['RECEITA'].sum().unstack('CANAL_MARKETING')\n",
        "receita_canal_mensal.plot(kind='bar', stacked=True, figsize=(10,6))"
      ],
      "metadata": {
        "colab": {
          "base_uri": "https://localhost:8080/",
          "height": 450
        },
        "id": "Gwfp06Z7pqMe",
        "outputId": "26867869-43b7-4353-b3af-bb638368b941"
      },
      "execution_count": null,
      "outputs": [
        {
          "output_type": "execute_result",
          "data": {
            "text/plain": [
              "<matplotlib.axes._subplots.AxesSubplot at 0x7f6027fdc150>"
            ]
          },
          "metadata": {},
          "execution_count": 74
        },
        {
          "output_type": "display_data",
          "data": {
            "text/plain": [
              "<Figure size 720x432 with 1 Axes>"
            ],
            "image/png": "[encoded data removed]"
          },
          "metadata": {
            "needs_background": "light"
          }
        }
      ]
    },
    {
      "cell_type": "code",
      "source": [
        "# Observando melhor o impacto das receitas por canal de venda\n",
        "receita_canal_mensal_100= pd.crosstab(index = ordena['MES_COMPRA'],\n",
        "                                      columns = ordena['CANAL_MARKETING'],\n",
        "                                      values = ordena['RECEITA'],\n",
        "                                      aggfunc= 'sum',\n",
        "                                      normalize ='index')\n",
        "receita_canal_mensal_100.plot(kind= 'bar', stacked=True, legend= True, figsize=(10,6))"
      ],
      "metadata": {
        "colab": {
          "base_uri": "https://localhost:8080/",
          "height": 439
        },
        "id": "mYFOvWBHvFWc",
        "outputId": "462cca2e-ee45-475c-ed08-c967036c08ad"
      },
      "execution_count": null,
      "outputs": [
        {
          "output_type": "execute_result",
          "data": {
            "text/plain": [
              "<matplotlib.axes._subplots.AxesSubplot at 0x7f6024494bd0>"
            ]
          },
          "metadata": {},
          "execution_count": 76
        },
        {
          "output_type": "display_data",
          "data": {
            "text/plain": [
              "<Figure size 720x432 with 1 Axes>"
            ],
            "image/png": "[encoded data removed]"
          },
          "metadata": {
            "needs_background": "light"
          }
        }
      ]
    }
  ]
}